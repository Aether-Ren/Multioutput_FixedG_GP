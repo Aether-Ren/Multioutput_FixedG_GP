{
 "cells": [
  {
   "cell_type": "markdown",
   "metadata": {},
   "source": [
    "# Set up"
   ]
  },
  {
   "cell_type": "code",
   "execution_count": 1,
   "metadata": {},
   "outputs": [],
   "source": [
    "import torch\n",
    "import gpytorch\n",
    "import pandas as pd\n",
    "import numpy as np\n",
    "import tqdm as tqdm\n",
    "from linear_operator import settings\n",
    "\n",
    "import pyro\n",
    "import math\n",
    "import pickle\n",
    "import time\n",
    "from joblib import Parallel, delayed\n",
    "\n",
    "from sklearn.preprocessing import StandardScaler\n",
    "\n",
    "from sklearn.decomposition import PCA\n",
    "import matplotlib.pyplot as plt\n",
    "\n",
    "import pyro.distributions as dist\n",
    "from pyro.infer import MCMC, NUTS\n",
    "import arviz as az\n",
    "import seaborn as sns\n",
    "\n",
    "import os\n",
    "import scipy.stats as stats"
   ]
  },
  {
   "cell_type": "code",
   "execution_count": 2,
   "metadata": {},
   "outputs": [],
   "source": [
    "import GP_functions.Loss_function as Loss_function\n",
    "import GP_functions.bound as bound\n",
    "import GP_functions.Estimation as Estimation\n",
    "import GP_functions.Training as Training\n",
    "import GP_functions.Prediction as Prediction\n",
    "import GP_functions.GP_models as GP_models\n",
    "import GP_functions.Tools as Tools\n",
    "import GP_functions.FeatureE as FeatureE"
   ]
  },
  {
   "cell_type": "code",
   "execution_count": 3,
   "metadata": {},
   "outputs": [],
   "source": [
    "Device = 'cpu'"
   ]
  },
  {
   "cell_type": "code",
   "execution_count": null,
   "metadata": {},
   "outputs": [],
   "source": [
    "Device = 'cuda'"
   ]
  },
  {
   "cell_type": "markdown",
   "metadata": {},
   "source": [
    "# Data"
   ]
  },
  {
   "cell_type": "code",
   "execution_count": 4,
   "metadata": {},
   "outputs": [],
   "source": [
    "X_train = pd.read_csv('Data/X_train.csv', header=None, delimiter=',').values\n",
    "X_test = pd.read_csv('Data/X_test.csv', header=None, delimiter=',').values\n",
    "\n",
    "# Y_train_8 = pd.read_csv('Data/Y_train_8.csv', header=None, delimiter=',').values\n",
    "# Y_test_8 = pd.read_csv('Data/Y_test_8.csv', header=None, delimiter=',').values\n",
    "\n",
    "Y_train_21 = pd.read_csv('Data/Y_train_std_21.csv', header=None, delimiter=',').values\n",
    "Y_test_21 = pd.read_csv('Data/Y_test_std_21.csv', header=None, delimiter=',').values\n",
    "\n",
    "Y_train_std = pd.read_csv('Data/Y_train_std.csv', header=None, delimiter=',').values\n",
    "Y_test_std = pd.read_csv('Data/Y_test_std.csv', header=None, delimiter=',').values"
   ]
  },
  {
   "cell_type": "code",
   "execution_count": 5,
   "metadata": {},
   "outputs": [],
   "source": [
    "train_x = torch.tensor(X_train, dtype=torch.float32)\n",
    "test_x = torch.tensor(X_test, dtype=torch.float32)\n",
    "\n",
    "# train_y_8 = torch.tensor(Y_train_8, dtype=torch.float32)\n",
    "# test_y_8 = torch.tensor(Y_test_8, dtype=torch.float32)\n",
    "\n",
    "train_y_21 = torch.tensor(Y_train_21, dtype=torch.float32)\n",
    "test_y_21 = torch.tensor(Y_test_21, dtype=torch.float32)\n",
    "\n",
    "train_y = torch.tensor(Y_train_std, dtype=torch.float32)\n",
    "test_y = torch.tensor(Y_test_std, dtype=torch.float32)"
   ]
  },
  {
   "cell_type": "markdown",
   "metadata": {},
   "source": [
    "# Emulator"
   ]
  },
  {
   "cell_type": "markdown",
   "metadata": {},
   "source": [
    "## L.MGP"
   ]
  },
  {
   "cell_type": "code",
   "execution_count": 6,
   "metadata": {},
   "outputs": [],
   "source": [
    "row_idx = 0\n",
    "\n",
    "input_point = test_y_21[row_idx,:]\n",
    "local_train_x, local_train_y = Tools.find_k_nearest_neighbors_CPU(input_point, train_x, train_y_21, k=500)\n",
    "\n",
    "MultitaskGP_models, MultitaskGP_likelihoods = Training.train_one_row_MultitaskGP(\n",
    "    local_train_x, local_train_y, n_tasks = local_train_y.shape[1], \n",
    "    covar_type = 'RBF', lr=0.05, num_iterations=5000, patience=10, device=Device)"
   ]
  },
  {
   "cell_type": "markdown",
   "metadata": {},
   "source": [
    "## MVGP"
   ]
  },
  {
   "cell_type": "code",
   "execution_count": null,
   "metadata": {},
   "outputs": [],
   "source": [
    "MVGP_models, MVGP_likelihoods = Training.train_full_MultitaskVGP(train_x, train_y_21, covar_type = 'RQ',\n",
    "                                                                 num_latents=20, num_inducing=100, \n",
    "                                                                 lr_hyper=0.05, lr_variational=0.1, num_iterations=5000, patience=50, device=Device)"
   ]
  },
  {
   "cell_type": "code",
   "execution_count": null,
   "metadata": {},
   "outputs": [],
   "source": [
    "checkpoint = torch.load('multitask_gp_checkpoint.pth', map_location=Device)\n",
    "model_params = checkpoint['model_params']"
   ]
  },
  {
   "cell_type": "code",
   "execution_count": 6,
   "metadata": {},
   "outputs": [
    {
     "name": "stderr",
     "output_type": "stream",
     "text": [
      "C:\\Users\\r4718\\AppData\\Local\\Temp\\ipykernel_36012\\3191163538.py:1: FutureWarning: You are using `torch.load` with `weights_only=False` (the current default value), which uses the default pickle module implicitly. It is possible to construct malicious pickle data which will execute arbitrary code during unpickling (See https://github.com/pytorch/pytorch/blob/main/SECURITY.md#untrusted-models for more details). In a future release, the default value for `weights_only` will be flipped to `True`. This limits the functions that could be executed during unpickling. Arbitrary objects will no longer be allowed to be loaded via this mode unless they are explicitly allowlisted by the user via `torch.serialization.add_safe_globals`. We recommend you start setting `weights_only=True` for any use case where you don't have full control of the loaded file. Please open an issue on GitHub for any issues related to this experimental feature.\n",
      "  checkpoint = torch.load('multitask_gp_checkpoint_21.pth', map_location=Device)\n"
     ]
    }
   ],
   "source": [
    "checkpoint = torch.load('multitask_gp_checkpoint_21.pth', map_location=Device)\n",
    "model_params = checkpoint['model_params']"
   ]
  },
  {
   "cell_type": "code",
   "execution_count": 7,
   "metadata": {},
   "outputs": [
    {
     "data": {
      "text/plain": [
       "MultitaskGaussianLikelihood(\n",
       "  (raw_task_noises_constraint): GreaterThan(1.000E-04)\n",
       "  (raw_noise_constraint): GreaterThan(1.000E-04)\n",
       ")"
      ]
     },
     "execution_count": 7,
     "metadata": {},
     "output_type": "execute_result"
    }
   ],
   "source": [
    "MVGP_models = GP_models.MultitaskVariationalGP(train_x, train_y_21, \n",
    "                                               num_latents=model_params['num_latents'], \n",
    "                                               num_inducing=model_params['num_inducing'], \n",
    "                                               covar_type=model_params['covar_type']).to(Device)\n",
    "\n",
    "MVGP_models.load_state_dict(checkpoint['model_state_dict'])\n",
    "\n",
    "MVGP_likelihoods = gpytorch.likelihoods.MultitaskGaussianLikelihood(num_tasks=train_y_21.shape[1]).to(Device)\n",
    "MVGP_likelihoods.load_state_dict(checkpoint['likelihood_state_dict'])\n",
    "\n",
    "MVGP_models.eval()\n",
    "MVGP_likelihoods.eval()"
   ]
  },
  {
   "cell_type": "markdown",
   "metadata": {},
   "source": [
    "# MCMC"
   ]
  },
  {
   "cell_type": "code",
   "execution_count": 8,
   "metadata": {},
   "outputs": [],
   "source": [
    "row_idx = 0\n",
    "\n",
    "input_point = test_y_21[row_idx,:]\n",
    "local_train_x, local_train_y = Tools.find_k_nearest_neighbors_CPU(input_point, train_x, train_y_21, k = 100)\n",
    "# local_train_x, local_train_y = Tools.find_k_nearest_neighbors_GPU(input_point, train_x, train_y_21, k = 100)\n",
    "\n",
    "bounds = bound.get_bounds(local_train_x)"
   ]
  },
  {
   "cell_type": "code",
   "execution_count": 14,
   "metadata": {},
   "outputs": [
    {
     "data": {
      "text/plain": [
       "[(1.3358, 4.9763),\n",
       " (0.352, 4.9804),\n",
       " (0.5599, 4.9481),\n",
       " (0.1833, 4.9606),\n",
       " (0.554, 3.9467),\n",
       " (0.1463, 4.9827),\n",
       " (1.229, 4.9982),\n",
       " (0.1019, 4.9824),\n",
       " (2.3695, 4.9992),\n",
       " (0.6, 4.9104)]"
      ]
     },
     "execution_count": 14,
     "metadata": {},
     "output_type": "execute_result"
    }
   ],
   "source": [
    "bounds"
   ]
  },
  {
   "cell_type": "markdown",
   "metadata": {},
   "source": [
    "## priori is Uniform(min, max)"
   ]
  },
  {
   "cell_type": "code",
   "execution_count": 9,
   "metadata": {},
   "outputs": [],
   "source": [
    "def run_mcmc_Uniform(Pre_function, Models, Likelihoods, row_idx, test_y, bounds, num_sampling=2000, warmup_step=1000, num_chains=1, device='cpu'):\n",
    "    test_y = test_y.to(dtype=torch.float32, device=device)\n",
    "    \n",
    "    bounds = [\n",
    "        (\n",
    "            torch.tensor(b[0], dtype=torch.float32, device=device),\n",
    "            torch.tensor(b[1], dtype=torch.float32, device=device)\n",
    "        ) for b in bounds\n",
    "    ]\n",
    "    \n",
    "    def model():\n",
    "        params = []\n",
    "        for i, (min_val, max_val) in enumerate(bounds):\n",
    "            param_i = pyro.sample(f'param_{i}', dist.Uniform(min_val, max_val))\n",
    "            params.append(param_i)\n",
    "        \n",
    "        theta = torch.stack(params)\n",
    "        \n",
    "        gp_pred = Pre_function(Models, Likelihoods, theta.unsqueeze(0))\n",
    "        \n",
    "        y_obs = test_y[row_idx, :]\n",
    "        pyro.sample('obs', gp_pred, obs=y_obs)\n",
    "    \n",
    "    nuts_kernel = NUTS(model)\n",
    "    mcmc = MCMC(nuts_kernel, num_samples=num_sampling, warmup_steps=warmup_step, num_chains=num_chains)\n",
    "    \n",
    "    mcmc.run()\n",
    "    \n",
    "    return mcmc"
   ]
  },
  {
   "cell_type": "code",
   "execution_count": 12,
   "metadata": {},
   "outputs": [
    {
     "name": "stderr",
     "output_type": "stream",
     "text": [
      "Sample: 100%|██████████| 1500/1500 [15:13,  1.64it/s, step size=1.47e-01, acc. prob=0.855]\n"
     ]
    }
   ],
   "source": [
    "mcmc_result_1 = run_mcmc_Uniform(Prediction.preds_distribution, \n",
    "                                 MVGP_models, MVGP_likelihoods, \n",
    "                                 row_idx, test_y_21, bounds, num_sampling = 1200, warmup_step = 300, num_chains=1, device=Device)\n",
    "\n"
   ]
  },
  {
   "cell_type": "code",
   "execution_count": 9,
   "metadata": {},
   "outputs": [],
   "source": [
    "estimated_params_tmp, _ = Estimation.multi_start_estimation(\n",
    "        MVGP_models, MVGP_likelihoods, row_idx, test_y_21, bounds,\n",
    "        Estimation.estimate_params_for_one_model_Adam, num_starts=4, num_iterations=1000, lr=0.01,\n",
    "        patience=10, attraction_threshold=0.1, repulsion_strength=0.1, device=Device\n",
    "    )"
   ]
  },
  {
   "cell_type": "code",
   "execution_count": 12,
   "metadata": {},
   "outputs": [
    {
     "data": {
      "text/plain": [
       "array([3.7026682, 4.8245025, 1.4787601, 4.7064342, 2.8382494, 0.6419074,\n",
       "       2.970614 , 3.6429796, 4.72382  , 1.9229645], dtype=float32)"
      ]
     },
     "execution_count": 12,
     "metadata": {},
     "output_type": "execute_result"
    }
   ],
   "source": [
    "estimated_params_tmp"
   ]
  },
  {
   "cell_type": "code",
   "execution_count": 13,
   "metadata": {},
   "outputs": [
    {
     "data": {
      "text/plain": [
       "tensor([3.6700, 4.8642, 1.4330, 4.7406, 2.8699, 0.6171, 3.0394, 3.4495, 4.7810,\n",
       "        1.8129])"
      ]
     },
     "execution_count": 13,
     "metadata": {},
     "output_type": "execute_result"
    }
   ],
   "source": [
    "test_x[row_idx]"
   ]
  },
  {
   "cell_type": "code",
   "execution_count": 19,
   "metadata": {},
   "outputs": [
    {
     "name": "stderr",
     "output_type": "stream",
     "text": [
      "Sample: 100%|██████████| 2000/2000 [09:01,  3.70it/s, step size=6.24e-01, acc. prob=0.853]\n"
     ]
    }
   ],
   "source": [
    "mcmc_result_1 = Estimation.run_mcmc_Uniform(\n",
    "    Prediction.preds_distribution_fast_pred_var, MultitaskGP_models, MultitaskGP_likelihoods, \n",
    "    row_idx, test_y_21, bounds, \n",
    "    num_sampling=1500, warmup_step=500, num_chains=1, device=Device\n",
    "    )"
   ]
  },
  {
   "cell_type": "code",
   "execution_count": 20,
   "metadata": {},
   "outputs": [],
   "source": [
    "samples_1 = mcmc_result_1.get_samples()\n",
    "\n",
    "torch.save(samples_1, \"mcmc_samples_6.pt\")"
   ]
  },
  {
   "cell_type": "code",
   "execution_count": null,
   "metadata": {},
   "outputs": [
    {
     "name": "stderr",
     "output_type": "stream",
     "text": [
      "/tmp/ipykernel_2805618/2724127973.py:1: FutureWarning: You are using `torch.load` with `weights_only=False` (the current default value), which uses the default pickle module implicitly. It is possible to construct malicious pickle data which will execute arbitrary code during unpickling (See https://github.com/pytorch/pytorch/blob/main/SECURITY.md#untrusted-models for more details). In a future release, the default value for `weights_only` will be flipped to `True`. This limits the functions that could be executed during unpickling. Arbitrary objects will no longer be allowed to be loaded via this mode unless they are explicitly allowlisted by the user via `torch.serialization.add_safe_globals`. We recommend you start setting `weights_only=True` for any use case where you don't have full control of the loaded file. Please open an issue on GitHub for any issues related to this experimental feature.\n",
      "  loaded_samples = torch.load(\"mcmc_samples_1.pt\", map_location=Device)\n"
     ]
    }
   ],
   "source": [
    "loaded_samples = torch.load(\"mcmc_samples_1.pt\", map_location=Device)"
   ]
  },
  {
   "cell_type": "code",
   "execution_count": 32,
   "metadata": {},
   "outputs": [
    {
     "data": {
      "text/plain": [
       "tensor([3.6700, 4.8642, 1.4330, 4.7406, 2.8699, 0.6171, 3.0394, 3.4495, 4.7810,\n",
       "        1.8129])"
      ]
     },
     "execution_count": 32,
     "metadata": {},
     "output_type": "execute_result"
    }
   ],
   "source": [
    "test_x[0]"
   ]
  },
  {
   "cell_type": "code",
   "execution_count": 43,
   "metadata": {},
   "outputs": [
    {
     "data": {
      "image/png": "[encoded data removed]",
      "text/plain": [
       "<Figure size 640x480 with 1 Axes>"
      ]
     },
     "metadata": {},
     "output_type": "display_data"
    }
   ],
   "source": [
    "import matplotlib.pyplot as plt\n",
    "import statsmodels.api as sm\n",
    "\n",
    "\n",
    "sm.graphics.tsa.plot_acf(mcmc_samples['param_0'], lags=1200-1)\n",
    "plt.xlabel('Lag')\n",
    "plt.ylabel('Autocorrelation')\n",
    "plt.title('ACF Plot of MCMC Samples')\n",
    "plt.show()\n"
   ]
  },
  {
   "cell_type": "code",
   "execution_count": 56,
   "metadata": {},
   "outputs": [
    {
     "data": {
      "text/plain": [
       "tensor([ 1.0000,  0.1397,  0.1300,  ..., -0.2734, -0.1437, -0.0209])"
      ]
     },
     "execution_count": 56,
     "metadata": {},
     "output_type": "execute_result"
    }
   ],
   "source": [
    "autocorrelation(mcmc_samples['param_0'], dim=0)"
   ]
  },
  {
   "cell_type": "code",
   "execution_count": 57,
   "metadata": {},
   "outputs": [
    {
     "data": {
      "text/plain": [
       "array([ 1.00000000e+00,  1.39612778e-01,  1.29770658e-01, ...,\n",
       "       -6.83436690e-04, -2.39515672e-04, -1.74405883e-05])"
      ]
     },
     "execution_count": 57,
     "metadata": {},
     "output_type": "execute_result"
    }
   ],
   "source": [
    "import statsmodels\n",
    "\n",
    "statsmodels.tsa.stattools.acf(mcmc_samples['param_0'], nlags=1199)"
   ]
  },
  {
   "cell_type": "code",
   "execution_count": null,
   "metadata": {},
   "outputs": [
    {
     "data": {
      "text/plain": [
       "tensor([ 1.0000,  0.1397,  0.1300,  ..., -0.2734, -0.1437, -0.0209])"
      ]
     },
     "execution_count": 39,
     "metadata": {},
     "output_type": "execute_result"
    }
   ],
   "source": [
    "pyro.ops.stats.autocorrelation(loaded_samples['param_0'], dim=0)"
   ]
  },
  {
   "cell_type": "markdown",
   "metadata": {},
   "source": [
    "## priori is Uniform(0.1, 5)"
   ]
  },
  {
   "cell_type": "code",
   "execution_count": null,
   "metadata": {},
   "outputs": [],
   "source": [
    "def run_mcmc_Uniform_2(Pre_function, Models, Likelihoods, row_idx, test_y, bounds, num_sampling=2000, warmup_step=1000, num_chains=1):\n",
    "    test_y = test_y.to(dtype=torch.float32)\n",
    "    bounds = [(torch.tensor(b[0], dtype=torch.float32), torch.tensor(b[1], dtype=torch.float32)) for b in bounds]\n",
    "    \n",
    "    def model():\n",
    "\n",
    "        params = []\n",
    "        for i, (min_val, max_val) in enumerate(bounds):\n",
    "            param_i = pyro.sample(f'param_{i}', dist.Uniform(0.1, 5))\n",
    "            params.append(param_i)\n",
    "        \n",
    "        theta = torch.stack(params)\n",
    "\n",
    "        gp_pred = Pre_function(Models, Likelihoods, theta.unsqueeze(0))\n",
    "\n",
    "        y_obs = test_y[row_idx, :]\n",
    "        pyro.sample('obs', gp_pred, obs=y_obs)\n",
    "\n",
    "    nuts_kernel = NUTS(model)\n",
    "    mcmc = MCMC(nuts_kernel, num_samples=num_sampling, warmup_steps=warmup_step, num_chains=num_chains)\n",
    "    mcmc.run()\n",
    "\n",
    "    return mcmc"
   ]
  },
  {
   "cell_type": "code",
   "execution_count": null,
   "metadata": {},
   "outputs": [],
   "source": [
    "import cProfile, pstats\n",
    "profiler = cProfile.Profile()\n",
    "profiler.enable()\n",
    "mcmc_result_2 = run_mcmc_Uniform_2(Prediction.preds_distribution, MVGP_models, MVGP_likelihoods, row_idx, test_y_21, bounds, \n",
    "                                            num_sampling = 1200, warmup_step = 300, num_chains=1)\n",
    "profiler.disable()\n",
    "stats = pstats.Stats(profiler).sort_stats('cumtime')\n",
    "stats.print_stats()\n"
   ]
  },
  {
   "cell_type": "code",
   "execution_count": null,
   "metadata": {},
   "outputs": [],
   "source": [
    "samples_2 = mcmc_result_2.get_samples()\n",
    "\n",
    "torch.save(samples_2, \"mcmc_samples_2.pt\")\n",
    "\n",
    "# loaded_samples = torch.load(\"mcmc_samples_1.pt\")"
   ]
  },
  {
   "cell_type": "code",
   "execution_count": null,
   "metadata": {},
   "outputs": [],
   "source": [
    "import torch\n",
    "import pyro\n",
    "import pyro.distributions as dist\n",
    "from tqdm import tqdm\n",
    "\n",
    "def run_mcmc_MH(Pre_function, Models, Likelihoods, row_idx, test_y, bounds, \n",
    "                num_sampling=2000, warmup_step=1000, proposal_std=0.1, num_chains=1):\n",
    "\n",
    "\n",
    "    test_y = test_y.to(dtype=torch.float32)\n",
    "    bounds = [(torch.tensor(b[0], dtype=torch.float32), torch.tensor(b[1], dtype=torch.float32)) for b in bounds]\n",
    "\n",
    "    theta_dim = len(bounds)\n",
    "    current_theta = torch.tensor([torch.rand(1).item() * (b[1] - b[0]) + b[0] for b in bounds], \n",
    "                                 dtype=torch.float32, requires_grad=False)\n",
    "    \n",
    "    samples = []\n",
    "    current_log_prob = None\n",
    "\n",
    "    with torch.no_grad():\n",
    "        gp_pred = Pre_function(Models, Likelihoods, current_theta.unsqueeze(0))\n",
    "        y_obs = test_y[row_idx, :]\n",
    "        likelihood = torch.exp(-torch.norm(gp_pred - y_obs, p=2))\n",
    "        prior = 1.0\n",
    "        current_log_prob = torch.log(likelihood * prior)\n",
    "\n",
    "    # Metropolis-Hastings 采样过程\n",
    "    for step in tqdm(range(num_sampling)):\n",
    "        # 生成新样本：从正态提议分布 q(x' | x) 采样\n",
    "        proposal = current_theta + proposal_std * torch.randn_like(current_theta)\n",
    "\n",
    "        # 约束参数在边界范围内\n",
    "        for i in range(theta_dim):\n",
    "            proposal[i] = torch.clamp(proposal[i], bounds[i][0], bounds[i][1])\n",
    "\n",
    "        # 计算新样本的对数后验\n",
    "        with torch.no_grad():\n",
    "            gp_pred = Pre_function(Models, Likelihoods, proposal.unsqueeze(0))\n",
    "            likelihood = torch.exp(-torch.norm(gp_pred - y_obs, p=2))\n",
    "            new_log_prob = torch.log(likelihood * prior)\n",
    "\n",
    "        # 计算接受率 alpha\n",
    "        alpha = torch.exp(new_log_prob - current_log_prob)  # 计算接受比率\n",
    "        acceptance_prob = torch.min(torch.tensor(1.0), alpha)  # 确保接受概率不超过 1\n",
    "\n",
    "        # 采样是否接受\n",
    "        if torch.rand(1).item() < acceptance_prob:\n",
    "            current_theta = proposal.clone()\n",
    "            current_log_prob = new_log_prob  # 更新后验值\n",
    "        \n",
    "        # 记录样本（丢弃 warmup 期间的采样）\n",
    "        if step >= warmup_step:\n",
    "            samples.append(current_theta.clone())\n",
    "\n",
    "    return torch.stack(samples)  # 返回采样参数的 Tensor\n"
   ]
  },
  {
   "cell_type": "markdown",
   "metadata": {},
   "source": [
    "# END"
   ]
  }
 ],
 "metadata": {
  "kernelspec": {
   "display_name": "FGPyT",
   "language": "python",
   "name": "python3"
  },
  "language_info": {
   "codemirror_mode": {
    "name": "ipython",
    "version": 3
   },
   "file_extension": ".py",
   "mimetype": "text/x-python",
   "name": "python",
   "nbconvert_exporter": "python",
   "pygments_lexer": "ipython3",
   "version": "3.10.15"
  }
 },
 "nbformat": 4,
 "nbformat_minor": 2
}
