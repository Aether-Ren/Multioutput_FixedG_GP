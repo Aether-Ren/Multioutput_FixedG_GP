{
 "cells": [
  {
   "cell_type": "markdown",
   "metadata": {},
   "source": [
    "# Set up"
   ]
  },
  {
   "cell_type": "code",
   "execution_count": 1,
   "metadata": {},
   "outputs": [],
   "source": [
    "import numpy as np\n",
    "import pandas as pd\n",
    "import matplotlib.pyplot as plt\n",
    "import ast\n",
    "\n",
    "from sklearn.metrics import r2_score"
   ]
  },
  {
   "cell_type": "markdown",
   "metadata": {},
   "source": [
    "# Read Data"
   ]
  },
  {
   "cell_type": "code",
   "execution_count": 2,
   "metadata": {},
   "outputs": [],
   "source": [
    "X_test = pd.read_csv('Data/X_test.csv', header=None)\n",
    "Y_test = pd.read_csv('Data/Y_test_std.csv', header=None)\n",
    "Y_test_21 = pd.read_csv('Data/Y_test_std_21.csv', header=None)"
   ]
  },
  {
   "cell_type": "code",
   "execution_count": 8,
   "metadata": {},
   "outputs": [],
   "source": [
    "MGP_21_result = pd.read_csv('Result/L.MGP_21_result.csv')\n",
    "MVGP_21_result = pd.read_csv('Result/MVGP_21_result.csv')"
   ]
  },
  {
   "cell_type": "markdown",
   "metadata": {},
   "source": [
    "# Compare"
   ]
  },
  {
   "cell_type": "code",
   "execution_count": 9,
   "metadata": {},
   "outputs": [],
   "source": [
    "MVGP_21_result['estimated_params_list'] = MVGP_21_result['estimated_params'].apply(ast.literal_eval)\n",
    "\n",
    "arr_2d = np.array(MVGP_21_result['estimated_params_list'].tolist())"
   ]
  },
  {
   "cell_type": "code",
   "execution_count": 10,
   "metadata": {},
   "outputs": [
    {
     "data": {
      "text/plain": [
       "0.9959429736508951"
      ]
     },
     "execution_count": 10,
     "metadata": {},
     "output_type": "execute_result"
    }
   ],
   "source": [
    "r2_score(arr_2d, X_test.values)"
   ]
  },
  {
   "cell_type": "code",
   "execution_count": null,
   "metadata": {},
   "outputs": [],
   "source": [
    "errors = y_pred - X_test\n",
    "abs_errors = np.abs(errors)\n",
    "\n",
    "# 2. 绘制箱线图\n",
    "plt.figure(figsize=(10, 6))\n",
    "# 如果想画每个 feature 的误差分布，用 abs_errors.T\n",
    "plt.boxplot(abs_errors.T,  # 转置后，每列对应一个 feature\n",
    "            labels=[f'F{i+1}' for i in range(abs_errors.shape[1])],  # 可选：给每个箱子加上标签\n",
    "            showfliers=True)  # showfliers=True 时会展示离群点\n",
    "\n",
    "plt.xlabel('Features')\n",
    "plt.ylabel('Absolute Error')\n",
    "plt.title('Boxplot of Absolute Errors between Predictions and X_test')\n",
    "plt.xticks(rotation=45)   # 可选：旋转 x 轴标签，防止重叠\n",
    "plt.tight_layout()\n",
    "plt.show()"
   ]
  }
 ],
 "metadata": {
  "kernelspec": {
   "display_name": "FGPyT",
   "language": "python",
   "name": "python3"
  },
  "language_info": {
   "codemirror_mode": {
    "name": "ipython",
    "version": 3
   },
   "file_extension": ".py",
   "mimetype": "text/x-python",
   "name": "python",
   "nbconvert_exporter": "python",
   "pygments_lexer": "ipython3",
   "version": "3.10.15"
  }
 },
 "nbformat": 4,
 "nbformat_minor": 2
}
