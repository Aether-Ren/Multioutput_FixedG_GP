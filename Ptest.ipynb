{
 "cells": [
  {
   "cell_type": "code",
   "execution_count": null,
   "id": "b74e1946",
   "metadata": {},
   "outputs": [],
   "source": [
    "import torch\n",
    "import gpytorch\n",
    "import pandas as pd\n",
    "import numpy as np\n",
    "import tqdm as tqdm\n",
    "\n",
    "\n",
    "import os\n",
    "import pickle\n",
    "\n",
    "import GP_functions.Loss_function as Loss_function\n",
    "import GP_functions.bound as bound\n",
    "import GP_functions.Estimation as Estimation\n",
    "import GP_functions.Training as Training\n",
    "import GP_functions.Prediction as Prediction\n",
    "import GP_functions.GP_models as GP_models\n",
    "import GP_functions.Tools as Tools\n",
    "import GP_functions.FeatureE as FeatureE\n",
    "\n",
    "X_train = pd.read_csv('Data/X_train.csv', header=None, delimiter=',').values\n",
    "X_test = pd.read_csv('Data/X_test.csv', header=None, delimiter=',').values\n",
    "\n",
    "Y_train_21 = pd.read_csv('Data/Y_train_std_21.csv', header=None, delimiter=',').values\n",
    "Y_test_21 = pd.read_csv('Data/Y_test_std_21.csv', header=None, delimiter=',').values\n",
    "\n",
    "Y_train_std = pd.read_csv('Data/Y_train_std.csv', header=None, delimiter=',').values\n",
    "Y_test_std = pd.read_csv('Data/Y_test_std.csv', header=None, delimiter=',').values\n",
    "\n",
    "\n",
    "train_x = torch.tensor(X_train, dtype=torch.float32)\n",
    "test_x = torch.tensor(X_test, dtype=torch.float32)\n",
    "\n",
    "train_y_21 = torch.tensor(Y_train_21, dtype=torch.float32)\n",
    "test_y_21 = torch.tensor(Y_test_21, dtype=torch.float32)\n",
    "\n",
    "train_y = torch.tensor(Y_train_std, dtype=torch.float32)\n",
    "test_y = torch.tensor(Y_test_std, dtype=torch.float32)\n",
    "\n",
    "\n",
    "torch.set_default_dtype(torch.float32)\n",
    "\n",
    "####################################################################\n",
    "\n",
    "Device = 'cpu'\n",
    "\n",
    "\n",
    "output_file = 'Result/L.DKMGP_21_result.csv'\n",
    "mcmc_dir = 'Result/L.DKMGP_21_mcmc_result'\n",
    "if not os.path.exists(mcmc_dir):\n",
    "    os.makedirs(mcmc_dir)\n",
    "\n",
    "if not os.path.exists(output_file):\n",
    "    with open(output_file, 'w') as f:\n",
    "        f.write('Iteration,test_preds,estimated_params\\n')\n",
    "\n",
    "row_idx = 0"
   ]
  },
  {
   "cell_type": "code",
   "execution_count": null,
   "id": "1dc3ea45",
   "metadata": {},
   "outputs": [],
   "source": [
    "\n",
    "input_point = test_y_21[row_idx, :]\n",
    "\n",
    "local_train_x, local_train_y = Tools.find_k_nearest_neighbors_CPU(input_point, train_x, train_y_21, k=500)\n",
    "\n",
    "MultitaskGP_models, MultitaskGP_likelihoods = Training.train_one_row_NNMultitaskGP(\n",
    "    local_train_x, local_train_y, n_tasks = local_train_y.shape[1], \n",
    "    feature_extractor_class = FeatureE.FeatureExtractor_4, covar_type = 'RQ', \n",
    "    lr=0.05, num_iterations=5000, patience=10, device = Device)\n",
    "\n",
    "preds_tmp = Prediction.preds_for_one_model(\n",
    "    MultitaskGP_models, MultitaskGP_likelihoods, test_x[row_idx,:].unsqueeze(0).to(Device)\n",
    "    ).cpu().detach().numpy()\n",
    "\n"
   ]
  },
  {
   "cell_type": "code",
   "execution_count": null,
   "id": "676ef2c3",
   "metadata": {},
   "outputs": [],
   "source": [
    "bounds = bound.get_bounds(local_train_x)\n",
    "\n",
    "estimated_params_tmp, _ = Estimation.multi_start_estimation(\n",
    "    MultitaskGP_models, MultitaskGP_likelihoods, row_idx, test_y_21, bounds,\n",
    "    Estimation.estimate_params_for_one_model_Adam, num_starts=4, num_iterations=1000, lr=0.01,\n",
    "    patience=10, attraction_threshold=0.1, repulsion_strength=0.1, device=Device\n",
    ")"
   ]
  },
  {
   "cell_type": "code",
   "execution_count": null,
   "id": "a8d4577b",
   "metadata": {},
   "outputs": [],
   "source": [
    "def preds_distribution(model, likelihood, xxx):\n",
    "    model.eval()\n",
    "    likelihood.eval()\n",
    "    preds = likelihood(model(xxx))\n",
    "    return preds"
   ]
  },
  {
   "cell_type": "code",
   "execution_count": null,
   "id": "370f078c",
   "metadata": {},
   "outputs": [],
   "source": [
    "def preds_distribution_fast_pred_var(model, likelihood, xxx):\n",
    "    model.eval()\n",
    "    likelihood.eval()\n",
    "    with gpytorch.settings.fast_pred_var():\n",
    "        preds = likelihood(model(xxx))\n",
    "    return preds"
   ]
  },
  {
   "cell_type": "code",
   "execution_count": null,
   "id": "62e5dd77",
   "metadata": {},
   "outputs": [],
   "source": [
    "estimated_params_tmp"
   ]
  },
  {
   "cell_type": "code",
   "execution_count": null,
   "id": "33262304",
   "metadata": {},
   "outputs": [],
   "source": [
    "import pyro\n",
    "import pyro.distributions as dist\n",
    "from pyro.infer import MCMC, NUTS\n",
    "import arviz as az\n",
    "\n",
    "\n",
    "def run_mcmc_Uniform_initial_params(\n",
    "    Pre_function, Models, Likelihoods, row_idx, test_y, bounds,\n",
    "    num_sampling=2000, warmup_step=1000, num_chains=1, device='cpu',\n",
    "    initial_params=None\n",
    "):\n",
    "    test_y = test_y.to(dtype=torch.float32, device=device)\n",
    "\n",
    "    bounds = [\n",
    "        (\n",
    "            torch.tensor(b[0], dtype=torch.float32, device=device),\n",
    "            torch.tensor(b[1], dtype=torch.float32, device=device)\n",
    "        ) for b in bounds\n",
    "    ]\n",
    "\n",
    "    def model():\n",
    "        params = []\n",
    "        for i, (min_val, max_val) in enumerate(bounds):\n",
    "            param_i = pyro.sample(f'param_{i}', dist.Uniform(min_val, max_val))\n",
    "            params.append(param_i)\n",
    "\n",
    "        theta = torch.stack(params)\n",
    "        gp_pred = Pre_function(Models, Likelihoods, theta.unsqueeze(0))\n",
    "        y_obs = test_y[row_idx, :]\n",
    "        pyro.sample('obs', gp_pred, obs=y_obs)\n",
    "\n",
    "    nuts_kernel = NUTS(model)\n",
    "\n",
    "    initial_params_dict = {\n",
    "        f'param_{i}': torch.tensor(p, dtype=torch.float32, device=device)\n",
    "        for i, p in enumerate(initial_params)\n",
    "    }\n",
    "\n",
    "    mcmc = MCMC(nuts_kernel, num_samples=num_sampling, warmup_steps=warmup_step, num_chains=num_chains, initial_params=initial_params_dict)\n",
    "    mcmc.run()\n",
    "\n",
    "\n",
    "\n",
    "    return mcmc\n",
    "\n"
   ]
  },
  {
   "cell_type": "code",
   "execution_count": null,
   "id": "4f67309b",
   "metadata": {},
   "outputs": [],
   "source": [
    "mcmc_result_Uniform_fast_pred_var = run_mcmc_Uniform_initial_params(\n",
    "    preds_distribution_fast_pred_var, MultitaskGP_models, MultitaskGP_likelihoods, \n",
    "    row_idx, test_y_21, bounds, \n",
    "    num_sampling=2000, warmup_step=1000, num_chains=1, device=Device, initial_params=estimated_params_tmp\n",
    ")\n",
    "posterior_samples_Uniform_fast_pred_var = mcmc_result_Uniform_fast_pred_var.get_samples()\n"
   ]
  },
  {
   "cell_type": "code",
   "execution_count": null,
   "id": "95f2c558",
   "metadata": {},
   "outputs": [],
   "source": [
    "mcmc_result_Uniform_fast_pred_var = Estimation.run_mcmc_Uniform(\n",
    "    preds_distribution_fast_pred_var, MultitaskGP_models, MultitaskGP_likelihoods, \n",
    "    row_idx, test_y_21, bounds, \n",
    "    num_sampling=1200, warmup_step=300, num_chains=1, device=Device\n",
    ")\n",
    "posterior_samples_Uniform_fast_pred_var = mcmc_result_Uniform_fast_pred_var.get_samples()\n"
   ]
  },
  {
   "cell_type": "code",
   "execution_count": null,
   "id": "4a164a03",
   "metadata": {},
   "outputs": [],
   "source": [
    "mcmc_result_Uniform = Estimation.run_mcmc_Uniform(\n",
    "    preds_distribution, MultitaskGP_models, MultitaskGP_likelihoods, \n",
    "    row_idx, test_y_21, bounds, \n",
    "    num_sampling=1200, warmup_step=300, num_chains=1, device=Device\n",
    ")\n",
    "posterior_samples_Uniform_nograd = mcmc_result_Uniform.get_samples()\n"
   ]
  },
  {
   "cell_type": "code",
   "execution_count": null,
   "id": "09acbea8",
   "metadata": {},
   "outputs": [],
   "source": [
    "loaded_samples_chain1 = torch.load(\"Result/L.MGP_21_mcmc_result/result_2.pt\", map_location=Device)"
   ]
  }
 ],
 "metadata": {
  "kernelspec": {
   "display_name": "FGPyT",
   "language": "python",
   "name": "python3"
  },
  "language_info": {
   "codemirror_mode": {
    "name": "ipython",
    "version": 3
   },
   "file_extension": ".py",
   "mimetype": "text/x-python",
   "name": "python",
   "nbconvert_exporter": "python",
   "pygments_lexer": "ipython3",
   "version": "3.10.15"
  }
 },
 "nbformat": 4,
 "nbformat_minor": 5
}
