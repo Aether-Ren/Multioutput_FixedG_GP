{
 "cells": [
  {
   "cell_type": "markdown",
   "id": "bfb146df",
   "metadata": {},
   "source": [
    "# Set up"
   ]
  },
  {
   "cell_type": "code",
   "execution_count": 1,
   "id": "b74e1946",
   "metadata": {},
   "outputs": [],
   "source": [
    "import torch\n",
    "import gpytorch\n",
    "import pandas as pd\n",
    "import numpy as np\n",
    "import tqdm as tqdm\n",
    "\n",
    "import arviz as az\n",
    "import os\n",
    "import pickle\n",
    "\n",
    "import GP_functions.Loss_function as Loss_function\n",
    "import GP_functions.bound as bound\n",
    "import GP_functions.Estimation as Estimation\n",
    "import GP_functions.Training as Training\n",
    "import GP_functions.Prediction as Prediction\n",
    "import GP_functions.GP_models as GP_models\n",
    "import GP_functions.Tools as Tools\n",
    "import GP_functions.FeatureE as FeatureE\n",
    "\n",
    "import matplotlib.pyplot as plt\n",
    "\n",
    "X_train = pd.read_csv('Data/X_train.csv', header=None, delimiter=',').values\n",
    "X_test = pd.read_csv('Data/X_test.csv', header=None, delimiter=',').values\n",
    "\n",
    "Y_train_21 = pd.read_csv('Data/Y_train_std_21.csv', header=None, delimiter=',').values\n",
    "Y_test_21 = pd.read_csv('Data/Y_test_std_21.csv', header=None, delimiter=',').values\n",
    "\n",
    "Y_train_std = pd.read_csv('Data/Y_train_std.csv', header=None, delimiter=',').values\n",
    "Y_test_std = pd.read_csv('Data/Y_test_std.csv', header=None, delimiter=',').values\n",
    "\n",
    "\n",
    "train_x = torch.tensor(X_train, dtype=torch.float32)\n",
    "test_x = torch.tensor(X_test, dtype=torch.float32)\n",
    "\n",
    "train_y_21 = torch.tensor(Y_train_21, dtype=torch.float32)\n",
    "test_y_21 = torch.tensor(Y_test_21, dtype=torch.float32)\n",
    "\n",
    "train_y = torch.tensor(Y_train_std, dtype=torch.float32)\n",
    "test_y = torch.tensor(Y_test_std, dtype=torch.float32)\n",
    "\n",
    "\n",
    "torch.set_default_dtype(torch.float32)\n",
    "\n",
    "####################################################################\n",
    "\n",
    "Device = 'cuda'\n",
    "\n"
   ]
  },
  {
   "cell_type": "markdown",
   "id": "6b149632",
   "metadata": {},
   "source": [
    "# MVGP Model"
   ]
  },
  {
   "cell_type": "code",
   "execution_count": 2,
   "id": "1dc3ea45",
   "metadata": {},
   "outputs": [
    {
     "data": {
      "text/plain": [
       "MultitaskGaussianLikelihood(\n",
       "  (raw_task_noises_constraint): GreaterThan(1.000E-04)\n",
       "  (raw_noise_constraint): GreaterThan(1.000E-04)\n",
       ")"
      ]
     },
     "execution_count": 2,
     "metadata": {},
     "output_type": "execute_result"
    }
   ],
   "source": [
    "checkpoint = torch.load('multitask_gp_checkpoint_21.pth', map_location=Device)\n",
    "model_params = checkpoint['model_params']\n",
    "\n",
    "\n",
    "MVGP_models = GP_models.MultitaskVariationalGP(train_x, train_y_21, \n",
    "                                               num_latents=model_params['num_latents'], \n",
    "                                               num_inducing=model_params['num_inducing'], \n",
    "                                               covar_type=model_params['covar_type']).to(Device)\n",
    "\n",
    "MVGP_models.load_state_dict(checkpoint['model_state_dict'])\n",
    "\n",
    "MVGP_likelihoods = gpytorch.likelihoods.MultitaskGaussianLikelihood(num_tasks=train_y_21.shape[1]).to(Device)\n",
    "MVGP_likelihoods.load_state_dict(checkpoint['likelihood_state_dict'])\n",
    "\n",
    "MVGP_models.eval()\n",
    "MVGP_likelihoods.eval()\n"
   ]
  },
  {
   "cell_type": "markdown",
   "id": "cd5d058a",
   "metadata": {},
   "source": [
    "# input point"
   ]
  },
  {
   "cell_type": "code",
   "execution_count": 3,
   "id": "c9c59609",
   "metadata": {},
   "outputs": [],
   "source": [
    "row_idx = 10\n",
    "\n",
    "input_point = test_y_21[row_idx,:]\n",
    "# local_train_x, local_train_y = Tools.find_k_nearest_neighbors_CPU(input_point, train_x, train_y_21, k = 100)\n",
    "local_train_x, local_train_y = Tools.find_k_nearest_neighbors_GPU(input_point, train_x, train_y_21, k = 100)\n",
    "\n",
    "bounds = bound.get_bounds(local_train_x)"
   ]
  },
  {
   "cell_type": "code",
   "execution_count": 4,
   "id": "871a0640",
   "metadata": {},
   "outputs": [],
   "source": [
    "dim = len(bounds)\n",
    "n_points = 5\n",
    "\n",
    "sobol_engine = torch.quasirandom.SobolEngine(dim, scramble=True)\n",
    "sobol_samples = sobol_engine.draw(n_points)\n",
    "\n",
    "\n",
    "lower = torch.tensor([b[0] for b in bounds], dtype=torch.float32)\n",
    "upper = torch.tensor([b[1] for b in bounds], dtype=torch.float32)\n",
    "scaled_samples = lower + (upper - lower) * sobol_samples\n",
    "\n",
    "\n",
    "initial_params_list = [sample.tolist() for sample in scaled_samples]"
   ]
  },
  {
   "cell_type": "code",
   "execution_count": null,
   "id": "e5b6e8ae",
   "metadata": {},
   "outputs": [],
   "source": [
    "estimated_params_tmp, _ = Estimation.multi_start_estimation(\n",
    "        MVGP_models, MVGP_likelihoods, row_idx, test_y_21, bounds,\n",
    "        Estimation.estimate_params_for_one_model_Adam, num_starts=8, num_iterations=2000, lr=0.01,\n",
    "        patience=10, attraction_threshold=0.1, repulsion_strength=0.1, device=Device\n",
    "    )"
   ]
  },
  {
   "cell_type": "markdown",
   "id": "161950d3",
   "metadata": {},
   "source": [
    "# MCMC"
   ]
  },
  {
   "cell_type": "code",
   "execution_count": null,
   "id": "4c10af36",
   "metadata": {},
   "outputs": [],
   "source": [
    "import pyro\n",
    "import pyro.distributions as dist\n",
    "import pyro.distributions.transforms as transforms\n",
    "from pyro.infer import MCMC, HMC\n",
    "\n",
    "\n",
    "\n",
    "def run_mcmc_Uniform_initial_params_HMC(\n",
    "    Pre_function, Models, Likelihoods, row_idx, test_y, bounds,\n",
    "    num_sampling=2000, warmup_step=1000, num_chains=1, device='cpu',\n",
    "    initial_params=None\n",
    "):\n",
    "    test_y = test_y.to(dtype=torch.float32, device=device)\n",
    "\n",
    "    bounds = [\n",
    "        (\n",
    "            torch.tensor(b[0], dtype=torch.float32, device=device),\n",
    "            torch.tensor(b[1], dtype=torch.float32, device=device)\n",
    "        ) for b in bounds\n",
    "    ]\n",
    "\n",
    "    def model():\n",
    "        params = []\n",
    "        for i, (min_val, max_val) in enumerate(bounds):\n",
    "            param_i = pyro.sample(f'param_{i}', dist.Uniform(min_val, max_val))\n",
    "            params.append(param_i)\n",
    "\n",
    "        theta = torch.stack(params)\n",
    "        gp_pred = Pre_function(Models, Likelihoods, theta.unsqueeze(0))\n",
    "        y_obs = test_y[row_idx, :]\n",
    "        pyro.sample('obs', gp_pred, obs=y_obs)\n",
    "\n",
    "    nuts_kernel = HMC(model, step_size=0.1, num_steps=20)\n",
    "\n",
    "    initial_params_dict = {\n",
    "        f'param_{i}': torch.tensor(p, dtype=torch.float32, device=device)\n",
    "        for i, p in enumerate(initial_params)\n",
    "    }\n",
    "\n",
    "    mcmc = MCMC(nuts_kernel, num_samples=num_sampling, warmup_steps=warmup_step, num_chains=num_chains, initial_params=initial_params_dict)\n",
    "    mcmc.run()\n",
    "\n",
    "\n",
    "\n",
    "    return mcmc"
   ]
  },
  {
   "cell_type": "markdown",
   "id": "2b485283",
   "metadata": {},
   "source": [
    "## estimated_params"
   ]
  },
  {
   "cell_type": "code",
   "execution_count": null,
   "id": "98b2c6b2",
   "metadata": {},
   "outputs": [],
   "source": [
    "mcmc_result_PE = Estimation.run_mcmc_Uniform_initial_params(\n",
    "    Prediction.preds_distribution_fast_pred_var, MVGP_models, MVGP_likelihoods, \n",
    "    row_idx, test_y_21, bounds, \n",
    "    num_sampling=1500, warmup_step=0, num_chains=1, device=Device,\n",
    "    initial_params = estimated_params_tmp\n",
    "    )"
   ]
  },
  {
   "cell_type": "code",
   "execution_count": null,
   "id": "29dc58a3",
   "metadata": {},
   "outputs": [],
   "source": [
    "samples_1 = mcmc_result_PE.get_samples()\n",
    "\n",
    "torch.save(samples_1, \"mcmc_samples_PE.pt\")"
   ]
  },
  {
   "cell_type": "markdown",
   "id": "ede0bf37",
   "metadata": {},
   "source": [
    "## initial params"
   ]
  },
  {
   "cell_type": "code",
   "execution_count": null,
   "id": "8e796c8c",
   "metadata": {},
   "outputs": [],
   "source": [
    "initial_params_list[0]"
   ]
  },
  {
   "cell_type": "code",
   "execution_count": null,
   "id": "89637239",
   "metadata": {},
   "outputs": [],
   "source": [
    "mcmc_result_1 = run_mcmc_Uniform_initial_params_HMC(\n",
    "    Prediction.preds_distribution_fast_pred_var, MVGP_models, MVGP_likelihoods, \n",
    "    row_idx, test_y_21, bounds, \n",
    "    num_sampling=500, warmup_step=0, num_chains=1, device=Device,\n",
    "    initial_params = initial_params_list[0]\n",
    "    )"
   ]
  },
  {
   "cell_type": "code",
   "execution_count": null,
   "id": "ea399c7d",
   "metadata": {},
   "outputs": [],
   "source": [
    "mcmc_result_point_1 = Estimation.run_mcmc_Uniform_initial_params(\n",
    "    Prediction.preds_distribution_fast_pred_var, MVGP_models, MVGP_likelihoods, \n",
    "    row_idx, test_y_21, bounds, \n",
    "    num_sampling=1500, warmup_step=0, num_chains=1, device=Device,\n",
    "    initial_params = initial_params_list[0]\n",
    "    )"
   ]
  },
  {
   "cell_type": "code",
   "execution_count": null,
   "id": "4d49bf1c",
   "metadata": {},
   "outputs": [],
   "source": [
    "samples_1 = mcmc_result_point_1.get_samples()\n",
    "\n",
    "torch.save(samples_1, \"mcmc_samples_point_1.pt\")"
   ]
  },
  {
   "cell_type": "code",
   "execution_count": null,
   "id": "579b6ba9",
   "metadata": {},
   "outputs": [],
   "source": [
    "mcmc_result_point_2 = Estimation.run_mcmc_Uniform_initial_params(\n",
    "    Prediction.preds_distribution_fast_pred_var, MVGP_models, MVGP_likelihoods, \n",
    "    row_idx, test_y_21, bounds, \n",
    "    num_sampling=1500, warmup_step=0, num_chains=1, device=Device,\n",
    "    initial_params = initial_params_list[1]\n",
    "    )\n",
    "\n",
    "samples_1 = mcmc_result_point_2.get_samples()\n",
    "\n",
    "torch.save(samples_1, \"mcmc_samples_point_2.pt\")"
   ]
  },
  {
   "cell_type": "code",
   "execution_count": 6,
   "id": "b1789038",
   "metadata": {},
   "outputs": [
    {
     "name": "stderr",
     "output_type": "stream",
     "text": [
      "Sample: 100%|██████████| 1500/1500 [13:03,  1.91it/s, step size=1.25e-01, acc. prob=0.598]\n"
     ]
    }
   ],
   "source": [
    "mcmc_result_point_3 = Estimation.run_mcmc_Uniform_initial_params(\n",
    "    Prediction.preds_distribution_fast_pred_var, MVGP_models, MVGP_likelihoods, \n",
    "    row_idx, test_y_21, bounds, \n",
    "    num_sampling=1500, warmup_step=0, num_chains=1, device=Device,\n",
    "    initial_params = initial_params_list[2]\n",
    "    )\n",
    "\n",
    "samples_1 = mcmc_result_point_3.get_samples()\n",
    "\n",
    "torch.save(samples_1, \"mcmc_samples_point_3.pt\")"
   ]
  },
  {
   "cell_type": "code",
   "execution_count": 5,
   "id": "817184e4",
   "metadata": {},
   "outputs": [
    {
     "name": "stderr",
     "output_type": "stream",
     "text": [
      "Sample: 100%|██████████| 1500/1500 [00:48, 31.02it/s, step size=6.25e-02, acc. prob=0.001]\n"
     ]
    }
   ],
   "source": [
    "mcmc_result_random = Estimation.run_mcmc_Uniform(\n",
    "    Prediction.preds_distribution_fast_pred_var, MVGP_models, MVGP_likelihoods, \n",
    "    row_idx, test_y_21, bounds, \n",
    "    num_sampling=1500, warmup_step=0, num_chains=1, device=Device\n",
    "    )\n",
    "\n",
    "samples_1 = mcmc_result_random.get_samples()\n",
    "\n",
    "torch.save(samples_1, \"mcmc_samples_random.pt\")"
   ]
  },
  {
   "cell_type": "code",
   "execution_count": null,
   "id": "a5c4fc5c",
   "metadata": {},
   "outputs": [],
   "source": [
    "data = az.from_pyro(mcmc_result_PE)\n",
    "az.plot_trace(data)\n",
    "plt.show()"
   ]
  },
  {
   "cell_type": "code",
   "execution_count": null,
   "id": "cdd7feb5",
   "metadata": {},
   "outputs": [],
   "source": [
    "import matplotlib.pyplot as plt\n",
    "\n",
    "for name, values in mcmc_result_2.get_samples().items():\n",
    "    values = values.cpu().numpy()\n",
    "    if values.ndim == 1:  # 单参数\n",
    "        plt.figure()\n",
    "        plt.plot(values)\n",
    "        plt.xlabel('Sample')\n",
    "        plt.ylabel(name)\n",
    "        plt.title(f'Trace Plot for {name}')\n",
    "    else:  # 多维参数\n",
    "        for i in range(values.shape[1]):\n",
    "            plt.figure()\n",
    "            plt.plot(values[:, i])\n",
    "            plt.xlabel('Sample')\n",
    "            plt.ylabel(f'{name}[{i}]')\n",
    "            plt.title(f'Trace Plot for {name}[{i}]')\n",
    "plt.show()\n"
   ]
  },
  {
   "cell_type": "markdown",
   "id": "bd8a3bde",
   "metadata": {},
   "source": [
    "# End"
   ]
  }
 ],
 "metadata": {
  "kernelspec": {
   "display_name": "GPyTorch",
   "language": "python",
   "name": "python3"
  },
  "language_info": {
   "codemirror_mode": {
    "name": "ipython",
    "version": 3
   },
   "file_extension": ".py",
   "mimetype": "text/x-python",
   "name": "python",
   "nbconvert_exporter": "python",
   "pygments_lexer": "ipython3",
   "version": "3.8.18"
  }
 },
 "nbformat": 4,
 "nbformat_minor": 5
}
