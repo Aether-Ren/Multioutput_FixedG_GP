{
 "cells": [
  {
   "cell_type": "markdown",
   "id": "5bfa5500",
   "metadata": {},
   "source": [
    "# Set up"
   ]
  },
  {
   "cell_type": "code",
   "execution_count": 1,
   "id": "349b2315",
   "metadata": {},
   "outputs": [],
   "source": [
    "import torch\n",
    "import gpytorch\n",
    "import pandas as pd\n",
    "import numpy as np\n",
    "import tqdm as tqdm\n",
    "from linear_operator import settings\n",
    "\n",
    "import pyro\n",
    "import math\n",
    "import pickle\n",
    "import time\n",
    "from joblib import Parallel, delayed\n",
    "\n",
    "from sklearn.preprocessing import StandardScaler\n",
    "\n",
    "from sklearn.decomposition import PCA\n",
    "import matplotlib.pyplot as plt\n",
    "\n",
    "import pyro.distributions as dist\n",
    "from pyro.infer import MCMC, NUTS\n",
    "import arviz as az\n",
    "import seaborn as sns\n",
    "\n",
    "import os\n",
    "\n",
    "from torch.utils.data import TensorDataset, DataLoader\n",
    "import itertools"
   ]
  },
  {
   "cell_type": "code",
   "execution_count": 2,
   "id": "fa4df7a1",
   "metadata": {},
   "outputs": [],
   "source": [
    "import GP_functions.Loss_function as Loss_function\n",
    "import GP_functions.bound as bound\n",
    "import GP_functions.Estimation as Estimation\n",
    "import GP_functions.Training as Training\n",
    "import GP_functions.Prediction as Prediction\n",
    "import GP_functions.NN_models as NN_models\n",
    "import GP_functions.Tools as Tools\n",
    "import GP_functions.FeatureE as FeatureE"
   ]
  },
  {
   "cell_type": "markdown",
   "id": "6b80bb26",
   "metadata": {},
   "source": [
    "# Data"
   ]
  },
  {
   "cell_type": "code",
   "execution_count": 3,
   "id": "a9c8bf13",
   "metadata": {},
   "outputs": [],
   "source": [
    "X_train = pd.read_csv('Data/X_train.csv', header=None, delimiter=',').values\n",
    "X_test = pd.read_csv('Data/X_test.csv', header=None, delimiter=',').values\n",
    "\n",
    "Y_train_21 = pd.read_csv('Data/Y_train_std_21.csv', header=None, delimiter=',').values\n",
    "Y_test_21 = pd.read_csv('Data/Y_test_std_21.csv', header=None, delimiter=',').values\n",
    "\n",
    "Y_train = pd.read_csv('Data/Y_train_std.csv', header=None, delimiter=',').values\n",
    "Y_test = pd.read_csv('Data/Y_test_std.csv', header=None, delimiter=',').values\n",
    "\n",
    "\n",
    "train_x = torch.tensor(X_train, dtype=torch.float32)\n",
    "test_x = torch.tensor(X_test, dtype=torch.float32)\n",
    "\n",
    "train_y_21 = torch.tensor(Y_train_21, dtype=torch.float32)\n",
    "test_y_21 = torch.tensor(Y_test_21, dtype=torch.float32)\n",
    "\n",
    "# train_y = torch.tensor(Y_train, dtype=torch.float32)\n",
    "# test_y = torch.tensor(Y_test, dtype=torch.float32)\n",
    "\n",
    "\n",
    "# torch.set_default_dtype(torch.float32)"
   ]
  },
  {
   "cell_type": "markdown",
   "id": "1b3675ca",
   "metadata": {},
   "source": [
    "# Model"
   ]
  },
  {
   "cell_type": "code",
   "execution_count": null,
   "id": "04b21ee8",
   "metadata": {},
   "outputs": [
    {
     "name": "stderr",
     "output_type": "stream",
     "text": [
      "100%|██████████| 50000/50000 [02:00<00:00, 413.57it/s, train_loss=0.000158, val_loss=0.00186]\n"
     ]
    }
   ],
   "source": [
    "NN_4 = Training.train_DNN_MSE(NN_models.NN_4,\n",
    "                              train_x, train_y_21,\n",
    "                              num_iterations= 50000,\n",
    "                              device= 'cuda',\n",
    "                              show_progress = True,\n",
    "                              weight_decay = 0,\n",
    "                              val_x=test_x,\n",
    "                              val_y=test_y_21,\n",
    "                              early_stopping = True,\n",
    "                              patience = 1000,\n",
    "                              val_check_interval = 100)"
   ]
  },
  {
   "cell_type": "code",
   "execution_count": 5,
   "id": "48aee3ab",
   "metadata": {},
   "outputs": [],
   "source": [
    "NN_4_cpu = NN_4.to('cpu')"
   ]
  },
  {
   "cell_type": "code",
   "execution_count": null,
   "id": "11b9436e",
   "metadata": {},
   "outputs": [],
   "source": [
    "Device = 'cpu'\n",
    "\n",
    "row_idx = 10\n",
    "input_point = test_y_21[row_idx, :]\n",
    "\n",
    "local_train_x, local_train_y = Tools.find_k_nearest_neighbors_CPU(input_point, train_x, train_y_21, k=100)\n",
    "\n",
    "preds_tmp = Prediction.preds_for_DNN(NN_4_cpu, test_x[row_idx,:].unsqueeze(0).to(Device)\n",
    "    ).cpu().detach().numpy()\n"
   ]
  },
  {
   "cell_type": "code",
   "execution_count": 7,
   "id": "d3d4f709",
   "metadata": {},
   "outputs": [
    {
     "data": {
      "text/plain": [
       "array([[-3.13901454e-01, -1.40469894e-02,  4.10953522e+00,\n",
       "         1.42975640e+00,  1.20920682e+00, -1.28263819e+00,\n",
       "         3.80295902e-01,  1.29133463e-03, -1.58050761e-01,\n",
       "        -3.15561205e-01, -1.89798951e-01,  2.15753317e-02,\n",
       "        -2.55222693e-02,  1.45266324e-01, -2.24561021e-01,\n",
       "        -1.19321883e-01, -1.93292871e-02,  1.07160464e-01,\n",
       "        -7.30957687e-02, -3.77358422e-02, -4.38507944e-02]], dtype=float32)"
      ]
     },
     "execution_count": 7,
     "metadata": {},
     "output_type": "execute_result"
    }
   ],
   "source": [
    "preds_tmp"
   ]
  },
  {
   "cell_type": "code",
   "execution_count": null,
   "id": "f29d900a",
   "metadata": {},
   "outputs": [],
   "source": [
    "bounds = bound.get_bounds(local_train_x)\n",
    "\n",
    "estimated_params_tmp, Loss = Estimation.multi_start_estimation_DModel(NN_4_cpu, row_idx, test_y_21, bounds,\n",
    "                                                                   Estimation.estimate_params_for_NN_Adam, num_starts=4, num_iterations=1000, lr=0.01,\n",
    "                                                                   patience=10, attraction_threshold=0.1, repulsion_strength=0.1, device=Device)"
   ]
  },
  {
   "cell_type": "code",
   "execution_count": 16,
   "id": "7639545f",
   "metadata": {},
   "outputs": [
    {
     "data": {
      "text/plain": [
       "0.022193754091858864"
      ]
     },
     "execution_count": 16,
     "metadata": {},
     "output_type": "execute_result"
    }
   ],
   "source": [
    "Loss"
   ]
  },
  {
   "cell_type": "code",
   "execution_count": 14,
   "id": "b887a87e",
   "metadata": {},
   "outputs": [
    {
     "data": {
      "text/plain": [
       "array([2.638155 , 1.9291651, 1.6912589, 1.3143861, 3.9904473, 2.705388 ,\n",
       "       3.8000739, 4.61819  , 0.5914012, 2.96255  ], dtype=float32)"
      ]
     },
     "execution_count": 14,
     "metadata": {},
     "output_type": "execute_result"
    }
   ],
   "source": [
    "estimated_params_tmp"
   ]
  },
  {
   "cell_type": "code",
   "execution_count": null,
   "id": "0d6ac8b6",
   "metadata": {},
   "outputs": [],
   "source": [
    "BNN_Deep, Posterior_BNN_Deep = Training.train_BNN_minibatch(NN_models.BNN_Deep,\n",
    "    train_x,\n",
    "    train_y_21,\n",
    "    num_iterations=50000,\n",
    "    batch_size=256,\n",
    "    device='cuda',\n",
    "    show_progress=True,\n",
    "    val_x=test_x,\n",
    "    val_y=test_y_21,\n",
    "    early_stopping=True,\n",
    "    patience=1000,\n",
    "    val_check_interval=100)"
   ]
  },
  {
   "cell_type": "code",
   "execution_count": null,
   "id": "60c55466",
   "metadata": {},
   "outputs": [],
   "source": [
    "BNN_WideDrop, Posterior_BNN_WideDrop = Training.train_BNN_minibatch(NN_models.BNN_WideDrop,\n",
    "    train_x,\n",
    "    train_y_21,\n",
    "    num_iterations=50000,\n",
    "    batch_size=256,\n",
    "    device='cuda',\n",
    "    show_progress=True,\n",
    "    val_x=test_x,\n",
    "    val_y=test_y_21,\n",
    "    early_stopping=True,\n",
    "    patience=1000,\n",
    "    val_check_interval=100)"
   ]
  },
  {
   "cell_type": "code",
   "execution_count": null,
   "id": "c339b496",
   "metadata": {},
   "outputs": [],
   "source": [
    "BNN_ARD, Posterior_BNN_ARD = Training.train_BNN_minibatch(NN_models.BNN_ARD,\n",
    "    train_x,\n",
    "    train_y_21,\n",
    "    num_iterations=50000,\n",
    "    batch_size=256,\n",
    "    device='cuda',\n",
    "    show_progress=True,\n",
    "    val_x=test_x,\n",
    "    val_y=test_y_21,\n",
    "    early_stopping=True,\n",
    "    patience=1000,\n",
    "    val_check_interval=100)"
   ]
  },
  {
   "cell_type": "code",
   "execution_count": null,
   "id": "0f5f2203",
   "metadata": {},
   "outputs": [],
   "source": [
    "import torch\n",
    "import torch.nn.functional as F\n",
    "from torch.distributions import Distribution\n",
    "\n",
    "def evaluate_bnn_mse(model, test_x, test_y, device='cuda'):\n",
    "\n",
    "    model.eval()\n",
    "    test_x = test_x.to(device)\n",
    "    test_y = test_y.to(device)\n",
    "\n",
    "    with torch.no_grad():\n",
    "        raw_out = model(test_x)\n",
    "        if isinstance(raw_out, Distribution):\n",
    "            preds = raw_out.mean\n",
    "        else:\n",
    "            preds = raw_out\n",
    "    # MSE = mean( (preds - test_y)^2 )\n",
    "    mse = F.mse_loss(preds, test_y)\n",
    "    return mse.item()\n",
    "\n",
    "\n",
    "mse_value = evaluate_bnn_mse(BNN_2, test_x, test_y_21, device='cuda')\n",
    "print(f\"Test MSE = {mse_value:.6f}\")"
   ]
  },
  {
   "cell_type": "markdown",
   "id": "fe97a986",
   "metadata": {},
   "source": [
    "# Paramater inference"
   ]
  },
  {
   "cell_type": "code",
   "execution_count": null,
   "id": "5850ee36",
   "metadata": {},
   "outputs": [],
   "source": [
    "row_idx = 0\n",
    "input_point = test_y_21[row_idx, :]\n",
    "\n",
    "local_train_x, local_train_y = Tools.find_k_nearest_neighbors_CPU(input_point, train_x, train_y_21, k=100)\n"
   ]
  },
  {
   "cell_type": "markdown",
   "id": "1189fb73",
   "metadata": {},
   "source": [
    "## Point"
   ]
  },
  {
   "cell_type": "code",
   "execution_count": null,
   "id": "a495f75e",
   "metadata": {},
   "outputs": [],
   "source": [
    "preds_tmp = Prediction.preds_for_one_model(\n",
    "    MVGP_models, MVGP_likelihoods, test_x[row_idx,:].unsqueeze(0).to(Device)\n",
    "    ).cpu().detach().numpy()\n",
    "\n",
    "\n",
    "bounds = bound.get_bounds(local_train_x)\n",
    "\n",
    "estimated_params_tmp, _ = Estimation.multi_start_estimation(\n",
    "    MVGP_models, MVGP_likelihoods, row_idx, test_y_21, bounds,\n",
    "    Estimation.estimate_params_for_one_model_Adam, num_starts=4, num_iterations=1000, lr=0.01,\n",
    "    patience=10, attraction_threshold=0.1, repulsion_strength=0.1, device=Device\n",
    ")\n",
    "\n",
    "with open(output_file, 'a') as f:\n",
    "    # f.write(f\"{row_idx + 1},\\\"{list(preds_tmp)}\\\",\\\"{list(estimated_params_tmp.detach().numpy())}\\\"\\n\")\n",
    "    f.write(f\"{row_idx + 1},\\\"{list(preds_tmp)}\\\",\\\"{list(estimated_params_tmp)}\\\"\\n\")\n",
    "\n",
    "mcmc_result_Uniform = Estimation.run_mcmc_Uniform(\n",
    "    Prediction.preds_distribution, MVGP_models, MVGP_likelihoods, \n",
    "    row_idx, test_y_21, bounds, \n",
    "    num_sampling=1200, warmup_step=300, num_chains=1, device=Device\n",
    ")\n",
    "posterior_samples_Uniform = mcmc_result_Uniform.get_samples()"
   ]
  },
  {
   "cell_type": "markdown",
   "id": "ba44b1e5",
   "metadata": {},
   "source": [
    "## MCMC"
   ]
  },
  {
   "cell_type": "code",
   "execution_count": null,
   "id": "d47ec62d",
   "metadata": {},
   "outputs": [],
   "source": []
  }
 ],
 "metadata": {
  "kernelspec": {
   "display_name": "FGPyT",
   "language": "python",
   "name": "python3"
  },
  "language_info": {
   "codemirror_mode": {
    "name": "ipython",
    "version": 3
   },
   "file_extension": ".py",
   "mimetype": "text/x-python",
   "name": "python",
   "nbconvert_exporter": "python",
   "pygments_lexer": "ipython3",
   "version": "3.10.15"
  }
 },
 "nbformat": 4,
 "nbformat_minor": 5
}
