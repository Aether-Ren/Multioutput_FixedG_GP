{
 "cells": [
  {
   "cell_type": "markdown",
   "id": "5bfa5500",
   "metadata": {},
   "source": [
    "# Set up"
   ]
  },
  {
   "cell_type": "code",
   "execution_count": 1,
   "id": "349b2315",
   "metadata": {},
   "outputs": [],
   "source": [
    "import torch\n",
    "import gpytorch\n",
    "import pandas as pd\n",
    "import numpy as np\n",
    "import tqdm as tqdm\n",
    "from linear_operator import settings\n",
    "\n",
    "import pyro\n",
    "import math\n",
    "import pickle\n",
    "import time\n",
    "from joblib import Parallel, delayed\n",
    "\n",
    "from sklearn.preprocessing import StandardScaler\n",
    "\n",
    "from sklearn.decomposition import PCA\n",
    "import matplotlib.pyplot as plt\n",
    "\n",
    "import pyro.distributions as dist\n",
    "from pyro.infer import MCMC, NUTS\n",
    "import arviz as az\n",
    "import seaborn as sns\n",
    "\n",
    "import os\n",
    "\n",
    "from torch.utils.data import TensorDataset, DataLoader\n",
    "import itertools\n",
    "\n",
    "import pyro\n",
    "from pyro.infer import SVI, Trace_ELBO, Predictive\n",
    "from pyro.infer.autoguide import AutoDiagonalNormal\n",
    "from pyro.optim import ClippedAdam"
   ]
  },
  {
   "cell_type": "code",
   "execution_count": 2,
   "id": "fa4df7a1",
   "metadata": {},
   "outputs": [],
   "source": [
    "import GP_functions.Loss_function as Loss_function\n",
    "import GP_functions.bound as bound\n",
    "import GP_functions.Estimation as Estimation\n",
    "import GP_functions.Training as Training\n",
    "import GP_functions.Prediction as Prediction\n",
    "import GP_functions.NN_models as NN_models\n",
    "import GP_functions.Tools as Tools\n",
    "import GP_functions.FeatureE as FeatureE"
   ]
  },
  {
   "cell_type": "markdown",
   "id": "6b80bb26",
   "metadata": {},
   "source": [
    "# Data"
   ]
  },
  {
   "cell_type": "code",
   "execution_count": 3,
   "id": "a9c8bf13",
   "metadata": {},
   "outputs": [],
   "source": [
    "X_train = pd.read_csv('Data/X_train.csv', header=None, delimiter=',').values\n",
    "X_test = pd.read_csv('Data/X_test.csv', header=None, delimiter=',').values\n",
    "\n",
    "Y_train_21 = pd.read_csv('Data/Y_train_std_21.csv', header=None, delimiter=',').values\n",
    "Y_test_21 = pd.read_csv('Data/Y_test_std_21.csv', header=None, delimiter=',').values\n",
    "\n",
    "Y_train = pd.read_csv('Data/Y_train_std.csv', header=None, delimiter=',').values\n",
    "Y_test = pd.read_csv('Data/Y_test_std.csv', header=None, delimiter=',').values\n",
    "\n",
    "\n",
    "train_x = torch.tensor(X_train, dtype=torch.float32)\n",
    "test_x = torch.tensor(X_test, dtype=torch.float32)\n",
    "\n",
    "train_y_21 = torch.tensor(Y_train_21, dtype=torch.float32)\n",
    "test_y_21 = torch.tensor(Y_test_21, dtype=torch.float32)\n",
    "\n",
    "# train_y = torch.tensor(Y_train, dtype=torch.float32)\n",
    "# test_y = torch.tensor(Y_test, dtype=torch.float32)\n",
    "\n",
    "\n",
    "# torch.set_default_dtype(torch.float32)"
   ]
  },
  {
   "cell_type": "markdown",
   "id": "1b3675ca",
   "metadata": {},
   "source": [
    "# Model"
   ]
  },
  {
   "cell_type": "code",
   "execution_count": null,
   "id": "04b21ee8",
   "metadata": {},
   "outputs": [],
   "source": [
    "NN_4 = Training.train_DNN_MSE(NN_models.NN_4,\n",
    "                              train_x, train_y_21,\n",
    "                              num_iterations= 50000,\n",
    "                              device= 'cuda',\n",
    "                              show_progress = True,\n",
    "                              weight_decay = 0,\n",
    "                              val_x=test_x,\n",
    "                              val_y=test_y_21,\n",
    "                              early_stopping = True,\n",
    "                              patience = 1000,\n",
    "                              val_check_interval = 100)"
   ]
  },
  {
   "cell_type": "code",
   "execution_count": null,
   "id": "48aee3ab",
   "metadata": {},
   "outputs": [],
   "source": [
    "NN_4_cpu = NN_4.to('cpu')"
   ]
  },
  {
   "cell_type": "code",
   "execution_count": null,
   "id": "11b9436e",
   "metadata": {},
   "outputs": [],
   "source": [
    "Device = 'cpu'\n",
    "\n",
    "row_idx = 10\n",
    "input_point = test_y_21[row_idx, :]\n",
    "\n",
    "local_train_x, local_train_y = Tools.find_k_nearest_neighbors_CPU(input_point, train_x, train_y_21, k=100)\n",
    "\n",
    "preds_tmp = Prediction.preds_for_DNN(NN_4_cpu, test_x[row_idx,:].unsqueeze(0).to(Device)\n",
    "    ).cpu().detach().numpy()\n"
   ]
  },
  {
   "cell_type": "code",
   "execution_count": null,
   "id": "d3d4f709",
   "metadata": {},
   "outputs": [],
   "source": [
    "preds_tmp"
   ]
  },
  {
   "cell_type": "code",
   "execution_count": null,
   "id": "f29d900a",
   "metadata": {},
   "outputs": [],
   "source": [
    "bounds = bound.get_bounds(local_train_x)\n",
    "\n",
    "estimated_params_tmp, Loss = Estimation.multi_start_estimation_DModel(NN_4_cpu, row_idx, test_y_21, bounds,\n",
    "                                                                   Estimation.estimate_params_for_NN_Adam, num_starts=4, num_iterations=1000, lr=0.01,\n",
    "                                                                   patience=10, attraction_threshold=0.1, repulsion_strength=0.1, device=Device)"
   ]
  },
  {
   "cell_type": "code",
   "execution_count": null,
   "id": "7639545f",
   "metadata": {},
   "outputs": [],
   "source": [
    "Loss"
   ]
  },
  {
   "cell_type": "code",
   "execution_count": null,
   "id": "b887a87e",
   "metadata": {},
   "outputs": [],
   "source": [
    "estimated_params_tmp"
   ]
  },
  {
   "cell_type": "code",
   "execution_count": 4,
   "id": "0d6ac8b6",
   "metadata": {},
   "outputs": [
    {
     "name": "stderr",
     "output_type": "stream",
     "text": [
      "SVI training: 100%|██████████| 5/5 [00:01<00:00,  3.24it/s]\n"
     ]
    }
   ],
   "source": [
    "BNN_5_model, BNN_5_guide = Training.train_BNN_minibatch(NN_models.BNN_5,\n",
    "    train_x,\n",
    "    train_y_21,\n",
    "    num_iterations=5,\n",
    "    batch_size=256,\n",
    "    device='cuda',\n",
    "    show_progress=True,\n",
    "    val_x=test_x,\n",
    "    val_y=test_y_21,\n",
    "    early_stopping=True,\n",
    "    patience=1000,\n",
    "    val_check_interval=100)"
   ]
  },
  {
   "cell_type": "code",
   "execution_count": 4,
   "id": "a135bade",
   "metadata": {},
   "outputs": [
    {
     "name": "stderr",
     "output_type": "stream",
     "text": [
      "/home/pgrad1/2633042r/miniconda3/envs/GPyTorch/lib/python3.8/site-packages/torch/cuda/__init__.py:628: UserWarning: Can't initialize NVML\n",
      "  warnings.warn(\"Can't initialize NVML\")\n",
      "SVI training: 100%|██████████| 50000/50000 [41:55<00:00, 19.87it/s] \n"
     ]
    }
   ],
   "source": [
    "BNN_WideDrop_model, BNN_WideDrop_guide = Training.train_BNN_minibatch(NN_models.BNN_WideDrop,\n",
    "    train_x,\n",
    "    train_y_21,\n",
    "    num_iterations=50000,\n",
    "    batch_size=256,\n",
    "    device='cuda',\n",
    "    show_progress=True,\n",
    "    val_x=test_x,\n",
    "    val_y=test_y_21,\n",
    "    early_stopping=True,\n",
    "    patience=1000,\n",
    "    val_check_interval=100)"
   ]
  },
  {
   "cell_type": "code",
   "execution_count": 7,
   "id": "8d9e8e1b",
   "metadata": {},
   "outputs": [
    {
     "name": "stdout",
     "output_type": "stream",
     "text": [
      "MSE on test set: 47563.5898\n"
     ]
    }
   ],
   "source": [
    "def evaluate_mse(model, x, y):\n",
    "    model.eval()\n",
    "    x = x.to(device)\n",
    "    y = y.to(device)\n",
    "    with torch.no_grad():\n",
    "        # model(x) returns a Distribution when y=None\n",
    "        pred_dist = model(x)\n",
    "        preds = pred_dist.mean\n",
    "    # MSE over all outputs\n",
    "    return torch.mean((preds - y) ** 2).item()\n",
    "\n",
    "device = 'cuda'\n",
    "\n",
    "BNN_WideDrop_model.to(device)\n",
    "BNN_WideDrop_guide.to(device)\n",
    "mse = evaluate_mse(BNN_WideDrop_model, test_x, test_y_21)\n",
    "print(f\"MSE on test set: {mse:.4f}\")"
   ]
  },
  {
   "cell_type": "code",
   "execution_count": null,
   "id": "02b321f8",
   "metadata": {},
   "outputs": [],
   "source": [
    "BNN_ARD_model, BNN_ARD_guide = Training.train_BNN_minibatch(NN_models.BNN_ARD,\n",
    "    train_x,\n",
    "    train_y_21,\n",
    "    num_iterations=50000,\n",
    "    batch_size=256,\n",
    "    device='cuda',\n",
    "    show_progress=True,\n",
    "    val_x=test_x,\n",
    "    val_y=test_y_21,\n",
    "    early_stopping=True,\n",
    "    patience=1000,\n",
    "    val_check_interval=100)"
   ]
  },
  {
   "cell_type": "code",
   "execution_count": 5,
   "id": "30dcfff1",
   "metadata": {},
   "outputs": [],
   "source": [
    "device = 'cuda' if torch.cuda.is_available() else 'cpu'\n",
    "\n",
    "model_path = \"best_model_BNN_5.pt\"\n",
    "guide_path = \"best_guide_BNN_5.pt\"\n",
    "\n",
    "BNN_5_model.load_state_dict(torch.load(model_path, map_location=device))\n",
    "BNN_5_guide.load_state_dict(torch.load(guide_path, map_location=device))\n",
    "\n",
    "with open(\"best_param_store_BNN_5.pkl\", \"rb\") as f:\n",
    "    raw_state = pickle.load(f)\n",
    "\n",
    "\n",
    "def to_device(obj):\n",
    "    if torch.is_tensor(obj):\n",
    "        return obj.to(device)\n",
    "    elif isinstance(obj, dict):\n",
    "        return {k: to_device(v) for k, v in obj.items()}\n",
    "    elif isinstance(obj, (list, tuple)):\n",
    "        return type(obj)(to_device(v) for v in obj)\n",
    "    else:\n",
    "        return obj\n",
    "\n",
    "param_state = to_device(raw_state)\n",
    "\n",
    "pyro.get_param_store().set_state(param_state)"
   ]
  },
  {
   "cell_type": "markdown",
   "id": "fe97a986",
   "metadata": {},
   "source": [
    "# Paramater inference"
   ]
  },
  {
   "cell_type": "code",
   "execution_count": 6,
   "id": "5850ee36",
   "metadata": {},
   "outputs": [],
   "source": [
    "row_idx = 0\n",
    "input_point = test_y_21[row_idx, :]\n",
    "\n",
    "local_train_x, local_train_y = Tools.find_k_nearest_neighbors_GPU(input_point, train_x, train_y_21, k=100)\n"
   ]
  },
  {
   "cell_type": "code",
   "execution_count": 7,
   "id": "10ccc18b",
   "metadata": {},
   "outputs": [],
   "source": [
    "predictive = Predictive(BNN_5_model, guide=BNN_5_guide, \n",
    "           return_sites=[\"obs\"],\n",
    "           num_samples=100)"
   ]
  },
  {
   "cell_type": "code",
   "execution_count": 10,
   "id": "49dfed2f",
   "metadata": {},
   "outputs": [],
   "source": [
    "samples = predictive(test_x[row_idx,:].unsqueeze(0).to(device))[\"obs\"] "
   ]
  },
  {
   "cell_type": "code",
   "execution_count": 11,
   "id": "642868d1",
   "metadata": {},
   "outputs": [
    {
     "data": {
      "text/plain": [
       "tensor([[ 5.3624e-02, -1.3356e-04, -1.0938e-01,  1.7315e-01,  5.4121e-02,\n",
       "          3.5498e-01, -4.8893e-02, -1.0174e-01, -1.0097e-01,  6.0037e-02,\n",
       "         -5.7643e-02, -1.2319e-02,  6.5934e-02, -1.4294e-01, -1.6421e-01,\n",
       "          1.2462e-01,  5.3079e-02,  1.2679e-01, -9.9078e-02,  1.1324e-01,\n",
       "         -1.0662e-01]], device='cuda:0')"
      ]
     },
     "execution_count": 11,
     "metadata": {},
     "output_type": "execute_result"
    }
   ],
   "source": [
    "samples.mean(0)  "
   ]
  },
  {
   "cell_type": "code",
   "execution_count": 12,
   "id": "ad404b17",
   "metadata": {},
   "outputs": [
    {
     "data": {
      "text/plain": [
       "tensor([-0.9226,  4.2240, -0.2954,  1.5937,  1.0363,  1.3768, -0.2562,  0.0340,\n",
       "        -0.3592,  0.1005,  0.0101,  0.1750, -0.0758, -0.2362,  0.1707, -0.1471,\n",
       "        -0.0780, -0.0288,  0.0638,  0.0508,  0.0267])"
      ]
     },
     "execution_count": 12,
     "metadata": {},
     "output_type": "execute_result"
    }
   ],
   "source": [
    "input_point"
   ]
  },
  {
   "cell_type": "code",
   "execution_count": 9,
   "id": "78785ef0",
   "metadata": {},
   "outputs": [
    {
     "data": {
      "text/plain": [
       "tensor([[-1.2868e-01, -1.9264e-01, -4.0427e-03, -5.7380e-02,  1.8914e-02,\n",
       "          1.2350e-01,  2.4774e-01, -5.6970e-02, -2.3492e-02,  7.8554e-02,\n",
       "          8.2558e-02, -2.1066e-03,  2.9587e-02,  9.5620e-02,  1.2337e-01,\n",
       "          1.4462e-01, -9.6105e-02, -1.2116e-01,  2.2176e-02, -1.9958e-04,\n",
       "          1.7139e-01]], device='cuda:0')"
      ]
     },
     "execution_count": 9,
     "metadata": {},
     "output_type": "execute_result"
    }
   ],
   "source": [
    "BNN_5_model.eval()\n",
    "with torch.no_grad():\n",
    "    dist_pred = BNN_5_model(test_x[row_idx,:].unsqueeze(0).to(device))\n",
    "\n",
    "dist_pred.mean"
   ]
  },
  {
   "cell_type": "markdown",
   "id": "1189fb73",
   "metadata": {},
   "source": [
    "## Point"
   ]
  },
  {
   "cell_type": "code",
   "execution_count": null,
   "id": "a495f75e",
   "metadata": {},
   "outputs": [],
   "source": [
    "preds_tmp = Prediction.preds_for_one_model(\n",
    "    MVGP_models, MVGP_likelihoods, test_x[row_idx,:].unsqueeze(0).to(Device)\n",
    "    ).cpu().detach().numpy()\n",
    "\n",
    "\n",
    "bounds = bound.get_bounds(local_train_x)\n",
    "\n",
    "estimated_params_tmp, _ = Estimation.multi_start_estimation(\n",
    "    MVGP_models, MVGP_likelihoods, row_idx, test_y_21, bounds,\n",
    "    Estimation.estimate_params_for_one_model_Adam, num_starts=4, num_iterations=1000, lr=0.01,\n",
    "    patience=10, attraction_threshold=0.1, repulsion_strength=0.1, device=Device\n",
    ")\n",
    "\n",
    "with open(output_file, 'a') as f:\n",
    "    # f.write(f\"{row_idx + 1},\\\"{list(preds_tmp)}\\\",\\\"{list(estimated_params_tmp.detach().numpy())}\\\"\\n\")\n",
    "    f.write(f\"{row_idx + 1},\\\"{list(preds_tmp)}\\\",\\\"{list(estimated_params_tmp)}\\\"\\n\")\n",
    "\n",
    "mcmc_result_Uniform = Estimation.run_mcmc_Uniform(\n",
    "    Prediction.preds_distribution, MVGP_models, MVGP_likelihoods, \n",
    "    row_idx, test_y_21, bounds, \n",
    "    num_sampling=1200, warmup_step=300, num_chains=1, device=Device\n",
    ")\n",
    "posterior_samples_Uniform = mcmc_result_Uniform.get_samples()"
   ]
  },
  {
   "cell_type": "markdown",
   "id": "ba44b1e5",
   "metadata": {},
   "source": [
    "## MCMC"
   ]
  },
  {
   "cell_type": "code",
   "execution_count": null,
   "id": "d47ec62d",
   "metadata": {},
   "outputs": [],
   "source": []
  }
 ],
 "metadata": {
  "kernelspec": {
   "display_name": "GPyTorch",
   "language": "python",
   "name": "python3"
  },
  "language_info": {
   "codemirror_mode": {
    "name": "ipython",
    "version": 3
   },
   "file_extension": ".py",
   "mimetype": "text/x-python",
   "name": "python",
   "nbconvert_exporter": "python",
   "pygments_lexer": "ipython3",
   "version": "3.8.18"
  }
 },
 "nbformat": 4,
 "nbformat_minor": 5
}
