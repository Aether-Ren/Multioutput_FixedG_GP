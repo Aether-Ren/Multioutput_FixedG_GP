{
 "cells": [
  {
   "cell_type": "code",
   "execution_count": 1,
   "metadata": {},
   "outputs": [],
   "source": [
    "import torch\n",
    "import gpytorch\n",
    "import pandas as pd\n",
    "import numpy as np\n",
    "import tqdm as tqdm\n",
    "from linear_operator import settings\n",
    "\n",
    "import pyro\n",
    "import math\n",
    "import pickle\n",
    "import time\n",
    "from joblib import Parallel, delayed\n",
    "\n",
    "from sklearn.preprocessing import StandardScaler\n",
    "\n",
    "from sklearn.decomposition import PCA\n",
    "import matplotlib.pyplot as plt\n",
    "\n",
    "import pyro.distributions as dist\n",
    "from pyro.infer import MCMC, NUTS\n",
    "import arviz as az\n",
    "import seaborn as sns\n",
    "\n",
    "import os\n",
    "\n",
    "import GP_functions.Loss_function as Loss_function\n",
    "import GP_functions.bound as bound\n",
    "import GP_functions.Estimation as Estimation\n",
    "import GP_functions.Training as Training\n",
    "import GP_functions.Prediction as Prediction\n",
    "import GP_functions.GP_models as GP_models\n",
    "import GP_functions.Tools as Tools\n",
    "import GP_functions.FeatureE as FeatureE\n",
    "\n",
    "X_train = pd.read_csv('Data/X_train.csv', header=None, delimiter=',').values\n",
    "X_test = pd.read_csv('Data/X_test.csv', header=None, delimiter=',').values\n",
    "\n",
    "# Y_train_8 = pd.read_csv('Data/Y_train_8.csv', header=None, delimiter=',').values\n",
    "# Y_test_8 = pd.read_csv('Data/Y_test_8.csv', header=None, delimiter=',').values\n",
    "\n",
    "Y_train_21 = pd.read_csv('Data/Y_train_std_21.csv', header=None, delimiter=',').values\n",
    "Y_test_21 = pd.read_csv('Data/Y_test_std_21.csv', header=None, delimiter=',').values\n",
    "\n",
    "Y_train_std = pd.read_csv('Data/Y_train_std.csv', header=None, delimiter=',').values\n",
    "Y_test_std = pd.read_csv('Data/Y_test_std.csv', header=None, delimiter=',').values\n",
    "\n",
    "\n",
    "train_x = torch.tensor(X_train, dtype=torch.float32)\n",
    "test_x = torch.tensor(X_test, dtype=torch.float32)\n",
    "\n",
    "# train_y_8 = torch.tensor(Y_train_8, dtype=torch.float32)\n",
    "# test_y_8 = torch.tensor(Y_test_8, dtype=torch.float32)\n",
    "\n",
    "train_y_21 = torch.tensor(Y_train_21, dtype=torch.float32)\n",
    "test_y_21 = torch.tensor(Y_test_21, dtype=torch.float32)\n",
    "\n",
    "train_y = torch.tensor(Y_train_std, dtype=torch.float32)\n",
    "test_y = torch.tensor(Y_test_std, dtype=torch.float32)\n",
    "\n",
    "Device = 'cpu'"
   ]
  },
  {
   "cell_type": "code",
   "execution_count": null,
   "metadata": {},
   "outputs": [
    {
     "name": "stderr",
     "output_type": "stream",
     "text": [
      " 39%|███▊      | 1928/5000 [02:02<03:15, 15.71it/s, loss=-18.1]\n"
     ]
    },
    {
     "name": "stdout",
     "output_type": "stream",
     "text": [
      "组合 num_latents=12, num_inducing=100, covar_type=Matern5/2 -> mse: 0.0103071890771389\n"
     ]
    },
    {
     "name": "stderr",
     "output_type": "stream",
     "text": [
      " 22%|██▏       | 1086/5000 [01:01<03:42, 17.59it/s, loss=-17.4]  \n"
     ]
    },
    {
     "name": "stdout",
     "output_type": "stream",
     "text": [
      "组合 num_latents=12, num_inducing=100, covar_type=RBF -> mse: 0.0111930500715971\n"
     ]
    },
    {
     "name": "stderr",
     "output_type": "stream",
     "text": [
      " 28%|██▊       | 1385/5000 [01:33<04:05, 14.75it/s, loss=-18.3] \n"
     ]
    },
    {
     "name": "stdout",
     "output_type": "stream",
     "text": [
      "组合 num_latents=12, num_inducing=100, covar_type=RQ -> mse: 0.010113404132425785\n"
     ]
    },
    {
     "name": "stderr",
     "output_type": "stream",
     "text": [
      " 34%|███▎      | 1685/5000 [02:24<04:44, 11.63it/s, loss=-18.8]\n"
     ]
    },
    {
     "name": "stdout",
     "output_type": "stream",
     "text": [
      "组合 num_latents=12, num_inducing=150, covar_type=Matern5/2 -> mse: 0.009930135682225227\n"
     ]
    },
    {
     "name": "stderr",
     "output_type": "stream",
     "text": [
      " 23%|██▎       | 1135/5000 [01:23<04:45, 13.53it/s, loss=-18.9]  \n"
     ]
    },
    {
     "name": "stdout",
     "output_type": "stream",
     "text": [
      "组合 num_latents=12, num_inducing=150, covar_type=RBF -> mse: 0.010283540934324265\n"
     ]
    },
    {
     "name": "stderr",
     "output_type": "stream",
     "text": [
      " 38%|███▊      | 1916/5000 [02:42<04:22, 11.76it/s, loss=-19.2]\n"
     ]
    },
    {
     "name": "stdout",
     "output_type": "stream",
     "text": [
      "组合 num_latents=12, num_inducing=150, covar_type=RQ -> mse: 0.01022344920784235\n"
     ]
    },
    {
     "name": "stderr",
     "output_type": "stream",
     "text": [
      "  0%|          | 0/5000 [00:00<?, ?it/s]"
     ]
    },
    {
     "name": "stdout",
     "output_type": "stream",
     "text": [
      "\n",
      "Intel MKL ERROR: Parameter 6 was incorrect on entry to SLASWP.\n"
     ]
    }
   ],
   "source": [
    "num_latents_list = [12, 14, 16, 18]\n",
    "num_inducing_list = [100, 150, 175, 200, 300, 400]\n",
    "covar_type_list = ['Matern5/2', 'RBF', 'RQ']\n",
    "\n",
    "best_mse = float('inf')\n",
    "best_params = None\n",
    "results = []  # 存储所有成功组合及对应的 mse\n",
    "\n",
    "for num_latents in num_latents_list:\n",
    "    for num_inducing in num_inducing_list:\n",
    "        for covar_type in covar_type_list:\n",
    "            try:\n",
    "                # 训练模型\n",
    "                MVGP_models, MVGP_likelihoods = Training.train_full_MultitaskVGP(\n",
    "                    train_x, train_y_21,\n",
    "                    covar_type = covar_type,\n",
    "                    num_latents=num_latents,\n",
    "                    num_inducing=num_inducing,\n",
    "                    lr_hyper=0.05,\n",
    "                    lr_variational=0.05,\n",
    "                    num_iterations=5000,\n",
    "                    patience=50,\n",
    "                    device=Device\n",
    "                )\n",
    "                # 得到预测值\n",
    "                full_test_preds_MVGP = Prediction.preds_for_one_model(\n",
    "                    MVGP_models, MVGP_likelihoods, test_x.to(Device)\n",
    "                ).cpu().detach().numpy()\n",
    "\n",
    "                # 计算均方误差\n",
    "                mse = np.mean((full_test_preds_MVGP.reshape(120, 21) - test_y_21.numpy()) ** 2)\n",
    "                results.append((num_latents, num_inducing, mse))\n",
    "\n",
    "                if mse < best_mse:\n",
    "                    best_mse = mse\n",
    "                    best_params = (num_latents, num_inducing)\n",
    "                print(f\"组合 num_latents={num_latents}, num_inducing={num_inducing}, covar_type={covar_type} -> mse: {mse}\")\n",
    "\n",
    "            except Exception as e:\n",
    "                # 出现异常，记录并跳过当前参数组合\n",
    "                print(f\"组合 num_latents={num_latents}, num_inducing={num_inducing}, covar_type={covar_type} 训练失败: {e}\")\n",
    "                continue\n",
    "\n",
    "print(\"最佳 MSE:\", best_mse)\n",
    "print(\"最佳参数组合 (num_latents, num_inducing):\", best_params)"
   ]
  },
  {
   "cell_type": "code",
   "execution_count": 2,
   "metadata": {},
   "outputs": [
    {
     "name": "stderr",
     "output_type": "stream",
     "text": [
      " 25%|██▌       | 1269/5000 [01:29<04:23, 14.16it/s, loss=-19.4] \n"
     ]
    },
    {
     "name": "stdout",
     "output_type": "stream",
     "text": [
      "组合 num_latents=14, num_inducing=100, covar_type=Matern5/2 -> mse: 0.007097904104739428\n"
     ]
    },
    {
     "name": "stderr",
     "output_type": "stream",
     "text": [
      " 36%|███▌      | 1805/5000 [08:27<14:57,  3.56it/s, loss=-21.3]\n"
     ]
    },
    {
     "name": "stdout",
     "output_type": "stream",
     "text": [
      "组合 num_latents=14, num_inducing=150, covar_type=Matern5/2 -> mse: 0.006581886205822229\n"
     ]
    },
    {
     "name": "stderr",
     "output_type": "stream",
     "text": [
      " 28%|██▊       | 1403/5000 [03:07<07:59,  7.50it/s, loss=-23.2]\n"
     ]
    },
    {
     "name": "stdout",
     "output_type": "stream",
     "text": [
      "组合 num_latents=16, num_inducing=100, covar_type=Matern5/2 -> mse: 0.004475012421607971\n"
     ]
    },
    {
     "name": "stderr",
     "output_type": "stream",
     "text": [
      " 27%|██▋       | 1334/5000 [09:30<26:08,  2.34it/s, loss=-25.1] \n"
     ]
    },
    {
     "name": "stdout",
     "output_type": "stream",
     "text": [
      "组合 num_latents=16, num_inducing=150, covar_type=Matern5/2 -> mse: 0.003858415177091956\n"
     ]
    },
    {
     "name": "stderr",
     "output_type": "stream",
     "text": [
      " 41%|████▏     | 2071/5000 [05:22<07:36,  6.42it/s, loss=-26]  \n"
     ]
    },
    {
     "name": "stdout",
     "output_type": "stream",
     "text": [
      "组合 num_latents=18, num_inducing=100, covar_type=Matern5/2 -> mse: 0.004261645954102278\n"
     ]
    },
    {
     "name": "stderr",
     "output_type": "stream",
     "text": [
      " 29%|██▊       | 1429/5000 [12:12<30:29,  1.95it/s, loss=-27.5]"
     ]
    },
    {
     "name": "stdout",
     "output_type": "stream",
     "text": [
      "组合 num_latents=18, num_inducing=150, covar_type=Matern5/2 -> mse: 0.0023993318900465965\n",
      "最佳 MSE: 0.002399332\n",
      "最佳参数组合 (num_latents, num_inducing): (18, 150)\n"
     ]
    },
    {
     "name": "stderr",
     "output_type": "stream",
     "text": [
      "\n"
     ]
    }
   ],
   "source": [
    "num_latents_list = [14, 16, 18]\n",
    "num_inducing_list = [100, 150]\n",
    "covar_type_list = ['Matern5/2']\n",
    "\n",
    "best_mse = float('inf')\n",
    "best_params = None\n",
    "results = []  # 存储所有成功组合及对应的 mse\n",
    "\n",
    "for num_latents in num_latents_list:\n",
    "    for num_inducing in num_inducing_list:\n",
    "        for covar_type in covar_type_list:\n",
    "            try:\n",
    "                # 训练模型\n",
    "                MVGP_models, MVGP_likelihoods = Training.train_full_MultitaskVGP(\n",
    "                    train_x, train_y_21,\n",
    "                    covar_type = covar_type,\n",
    "                    num_latents=num_latents,\n",
    "                    num_inducing=num_inducing,\n",
    "                    lr_hyper=0.05,\n",
    "                    lr_variational=0.05,\n",
    "                    num_iterations=5000,\n",
    "                    patience=50,\n",
    "                    device=Device\n",
    "                )\n",
    "                # 得到预测值\n",
    "                full_test_preds_MVGP = Prediction.preds_for_one_model(\n",
    "                    MVGP_models, MVGP_likelihoods, test_x.to(Device)\n",
    "                ).cpu().detach().numpy()\n",
    "\n",
    "                # 计算均方误差\n",
    "                mse = np.mean((full_test_preds_MVGP.reshape(120, 21) - test_y_21.numpy()) ** 2)\n",
    "                results.append((num_latents, num_inducing, mse))\n",
    "\n",
    "                if mse < best_mse:\n",
    "                    best_mse = mse\n",
    "                    best_params = (num_latents, num_inducing)\n",
    "                print(f\"组合 num_latents={num_latents}, num_inducing={num_inducing}, covar_type={covar_type} -> mse: {mse}\")\n",
    "\n",
    "            except Exception as e:\n",
    "                # 出现异常，记录并跳过当前参数组合\n",
    "                print(f\"组合 num_latents={num_latents}, num_inducing={num_inducing}, covar_type={covar_type} 训练失败: {e}\")\n",
    "                continue\n",
    "\n",
    "print(\"最佳 MSE:\", best_mse)\n",
    "print(\"最佳参数组合 (num_latents, num_inducing):\", best_params)"
   ]
  },
  {
   "cell_type": "code",
   "execution_count": 2,
   "metadata": {},
   "outputs": [
    {
     "name": "stderr",
     "output_type": "stream",
     "text": [
      " 48%|████▊     | 2389/5000 [04:28<04:53,  8.90it/s, loss=-21.9] \n"
     ]
    },
    {
     "name": "stdout",
     "output_type": "stream",
     "text": [
      "组合 num_latents=14, num_inducing=100, covar_type=RBF -> mse: 0.006956592667847872\n"
     ]
    },
    {
     "name": "stderr",
     "output_type": "stream",
     "text": [
      " 42%|████▏     | 2105/5000 [06:23<08:47,  5.49it/s, loss=-20.1]\n"
     ]
    },
    {
     "name": "stdout",
     "output_type": "stream",
     "text": [
      "组合 num_latents=14, num_inducing=150, covar_type=RBF -> mse: 0.006726214196532965\n"
     ]
    },
    {
     "name": "stderr",
     "output_type": "stream",
     "text": [
      " 40%|███▉      | 1993/5000 [04:07<06:13,  8.05it/s, loss=-22]  \n"
     ]
    },
    {
     "name": "stdout",
     "output_type": "stream",
     "text": [
      "组合 num_latents=16, num_inducing=100, covar_type=RBF -> mse: 0.006055802572518587\n"
     ]
    },
    {
     "name": "stderr",
     "output_type": "stream",
     "text": [
      " 30%|███       | 1505/5000 [07:38<17:43,  3.29it/s, loss=-26.6] \n"
     ]
    },
    {
     "name": "stdout",
     "output_type": "stream",
     "text": [
      "组合 num_latents=16, num_inducing=150, covar_type=RBF -> mse: 0.003839381504803896\n"
     ]
    },
    {
     "name": "stderr",
     "output_type": "stream",
     "text": [
      " 21%|██        | 1027/5000 [02:21<09:05,  7.28it/s, loss=-26.9]\n"
     ]
    },
    {
     "name": "stdout",
     "output_type": "stream",
     "text": [
      "组合 num_latents=18, num_inducing=100, covar_type=RBF -> mse: 0.0035526244901120663\n"
     ]
    },
    {
     "name": "stderr",
     "output_type": "stream",
     "text": [
      " 31%|███       | 1543/5000 [08:23<18:48,  3.06it/s, loss=-29]   \n"
     ]
    },
    {
     "name": "stdout",
     "output_type": "stream",
     "text": [
      "组合 num_latents=18, num_inducing=150, covar_type=RBF -> mse: 0.003199865808710456\n"
     ]
    },
    {
     "name": "stderr",
     "output_type": "stream",
     "text": [
      " 28%|██▊       | 1404/5000 [04:58<12:43,  4.71it/s, loss=-28.2]\n"
     ]
    },
    {
     "name": "stdout",
     "output_type": "stream",
     "text": [
      "组合 num_latents=20, num_inducing=100, covar_type=RBF -> mse: 0.0033096533734351397\n"
     ]
    },
    {
     "name": "stderr",
     "output_type": "stream",
     "text": [
      " 27%|██▋       | 1363/5000 [08:53<23:43,  2.55it/s, loss=-32]  "
     ]
    },
    {
     "name": "stdout",
     "output_type": "stream",
     "text": [
      "组合 num_latents=20, num_inducing=150, covar_type=RBF -> mse: 0.0020090423058718443\n",
      "最佳 MSE: 0.0020090423\n",
      "最佳参数组合 (num_latents, num_inducing): (20, 150)\n"
     ]
    },
    {
     "name": "stderr",
     "output_type": "stream",
     "text": [
      "\n"
     ]
    }
   ],
   "source": [
    "num_latents_list = [14, 16, 18, 20]\n",
    "num_inducing_list = [100, 150]\n",
    "covar_type_list = ['RBF']\n",
    "\n",
    "best_mse = float('inf')\n",
    "best_params = None\n",
    "results = []  # 存储所有成功组合及对应的 mse\n",
    "\n",
    "for num_latents in num_latents_list:\n",
    "    for num_inducing in num_inducing_list:\n",
    "        for covar_type in covar_type_list:\n",
    "            try:\n",
    "                # 训练模型\n",
    "                MVGP_models, MVGP_likelihoods = Training.train_full_MultitaskVGP(\n",
    "                    train_x, train_y_21,\n",
    "                    covar_type = covar_type,\n",
    "                    num_latents=num_latents,\n",
    "                    num_inducing=num_inducing,\n",
    "                    lr_hyper=0.05,\n",
    "                    lr_variational=0.05,\n",
    "                    num_iterations=5000,\n",
    "                    patience=50,\n",
    "                    device=Device\n",
    "                )\n",
    "                # 得到预测值\n",
    "                full_test_preds_MVGP = Prediction.preds_for_one_model(\n",
    "                    MVGP_models, MVGP_likelihoods, test_x.to(Device)\n",
    "                ).cpu().detach().numpy()\n",
    "\n",
    "                # 计算均方误差\n",
    "                mse = np.mean((full_test_preds_MVGP.reshape(120, 21) - test_y_21.numpy()) ** 2)\n",
    "                results.append((num_latents, num_inducing, mse))\n",
    "\n",
    "                if mse < best_mse:\n",
    "                    best_mse = mse\n",
    "                    best_params = (num_latents, num_inducing)\n",
    "                print(f\"组合 num_latents={num_latents}, num_inducing={num_inducing}, covar_type={covar_type} -> mse: {mse}\")\n",
    "\n",
    "            except Exception as e:\n",
    "                # 出现异常，记录并跳过当前参数组合\n",
    "                print(f\"组合 num_latents={num_latents}, num_inducing={num_inducing}, covar_type={covar_type} 训练失败: {e}\")\n",
    "                continue\n",
    "\n",
    "print(\"最佳 MSE:\", best_mse)\n",
    "print(\"最佳参数组合 (num_latents, num_inducing):\", best_params)"
   ]
  },
  {
   "cell_type": "code",
   "execution_count": 3,
   "metadata": {},
   "outputs": [
    {
     "name": "stderr",
     "output_type": "stream",
     "text": [
      " 46%|████▌     | 2298/5000 [04:55<05:47,  7.77it/s, loss=-21.2] \n"
     ]
    },
    {
     "name": "stdout",
     "output_type": "stream",
     "text": [
      "组合 num_latents=14, num_inducing=100, covar_type=RQ -> mse: 0.007499956525862217\n"
     ]
    },
    {
     "name": "stderr",
     "output_type": "stream",
     "text": [
      " 35%|███▌      | 1768/5000 [07:42<14:05,  3.82it/s, loss=-21.9]\n"
     ]
    },
    {
     "name": "stdout",
     "output_type": "stream",
     "text": [
      "组合 num_latents=14, num_inducing=150, covar_type=RQ -> mse: 0.007253176067024469\n"
     ]
    },
    {
     "name": "stderr",
     "output_type": "stream",
     "text": [
      " 42%|████▏     | 2119/5000 [05:03<06:52,  6.99it/s, loss=-24]  \n"
     ]
    },
    {
     "name": "stdout",
     "output_type": "stream",
     "text": [
      "组合 num_latents=16, num_inducing=100, covar_type=RQ -> mse: 0.00524854613468051\n"
     ]
    },
    {
     "name": "stderr",
     "output_type": "stream",
     "text": [
      " 31%|███       | 1545/5000 [07:12<16:06,  3.58it/s, loss=-26.2] \n"
     ]
    },
    {
     "name": "stdout",
     "output_type": "stream",
     "text": [
      "组合 num_latents=16, num_inducing=150, covar_type=RQ -> mse: 0.004199258051812649\n"
     ]
    },
    {
     "name": "stderr",
     "output_type": "stream",
     "text": [
      " 41%|████▏     | 2063/5000 [05:19<07:34,  6.46it/s, loss=-26.9] \n"
     ]
    },
    {
     "name": "stdout",
     "output_type": "stream",
     "text": [
      "组合 num_latents=18, num_inducing=100, covar_type=RQ -> mse: 0.003246398875489831\n"
     ]
    },
    {
     "name": "stderr",
     "output_type": "stream",
     "text": [
      " 60%|█████▉    | 2979/5000 [18:11<12:20,  2.73it/s, loss=-27.5]\n"
     ]
    },
    {
     "name": "stdout",
     "output_type": "stream",
     "text": [
      "组合 num_latents=18, num_inducing=150, covar_type=RQ -> mse: 0.0038441182114183903\n"
     ]
    },
    {
     "name": "stderr",
     "output_type": "stream",
     "text": [
      " 50%|████▉     | 2494/5000 [10:02<10:05,  4.14it/s, loss=-28.2] \n"
     ]
    },
    {
     "name": "stdout",
     "output_type": "stream",
     "text": [
      "组合 num_latents=20, num_inducing=100, covar_type=RQ -> mse: 0.0031142178922891617\n"
     ]
    },
    {
     "name": "stderr",
     "output_type": "stream",
     "text": [
      " 39%|███▊      | 1928/5000 [14:59<23:52,  2.14it/s, loss=-31.3]"
     ]
    },
    {
     "name": "stdout",
     "output_type": "stream",
     "text": [
      "组合 num_latents=20, num_inducing=150, covar_type=RQ -> mse: 0.0024792870972305536\n",
      "最佳 MSE: 0.002479287\n",
      "最佳参数组合 (num_latents, num_inducing): (20, 150)\n"
     ]
    },
    {
     "name": "stderr",
     "output_type": "stream",
     "text": [
      "\n"
     ]
    }
   ],
   "source": [
    "num_latents_list = [14, 16, 18, 20]\n",
    "num_inducing_list = [100, 150]\n",
    "covar_type_list = ['RQ']\n",
    "\n",
    "best_mse = float('inf')\n",
    "best_params = None\n",
    "results = []  # 存储所有成功组合及对应的 mse\n",
    "\n",
    "for num_latents in num_latents_list:\n",
    "    for num_inducing in num_inducing_list:\n",
    "        for covar_type in covar_type_list:\n",
    "            try:\n",
    "                # 训练模型\n",
    "                MVGP_models, MVGP_likelihoods = Training.train_full_MultitaskVGP(\n",
    "                    train_x, train_y_21,\n",
    "                    covar_type = covar_type,\n",
    "                    num_latents=num_latents,\n",
    "                    num_inducing=num_inducing,\n",
    "                    lr_hyper=0.05,\n",
    "                    lr_variational=0.05,\n",
    "                    num_iterations=5000,\n",
    "                    patience=50,\n",
    "                    device=Device\n",
    "                )\n",
    "                # 得到预测值\n",
    "                full_test_preds_MVGP = Prediction.preds_for_one_model(\n",
    "                    MVGP_models, MVGP_likelihoods, test_x.to(Device)\n",
    "                ).cpu().detach().numpy()\n",
    "\n",
    "                # 计算均方误差\n",
    "                mse = np.mean((full_test_preds_MVGP.reshape(120, 21) - test_y_21.numpy()) ** 2)\n",
    "                results.append((num_latents, num_inducing, mse))\n",
    "\n",
    "                if mse < best_mse:\n",
    "                    best_mse = mse\n",
    "                    best_params = (num_latents, num_inducing)\n",
    "                print(f\"组合 num_latents={num_latents}, num_inducing={num_inducing}, covar_type={covar_type} -> mse: {mse}\")\n",
    "\n",
    "            except Exception as e:\n",
    "                # 出现异常，记录并跳过当前参数组合\n",
    "                print(f\"组合 num_latents={num_latents}, num_inducing={num_inducing}, covar_type={covar_type} 训练失败: {e}\")\n",
    "                continue\n",
    "\n",
    "print(\"最佳 MSE:\", best_mse)\n",
    "print(\"最佳参数组合 (num_latents, num_inducing):\", best_params)"
   ]
  },
  {
   "cell_type": "code",
   "execution_count": null,
   "metadata": {},
   "outputs": [
    {
     "name": "stderr",
     "output_type": "stream",
     "text": [
      " 21%|██        | 1059/5000 [08:05<30:05,  2.18it/s, loss=-29.7]\n"
     ]
    },
    {
     "name": "stdout",
     "output_type": "stream",
     "text": [
      "组合 num_latents=20, num_inducing=150, covar_type=RQ -> mse: 0.002101204125210643\n"
     ]
    },
    {
     "name": "stderr",
     "output_type": "stream",
     "text": [
      "  0%|          | 0/5000 [00:00<?, ?it/s]"
     ]
    },
    {
     "name": "stdout",
     "output_type": "stream",
     "text": [
      "\n",
      "Intel MKL ERROR: Parameter 6 was incorrect on entry to SLASWP.\n"
     ]
    }
   ],
   "source": [
    "num_latents_list = [22, 24, 26]\n",
    "num_inducing_list = [150]\n",
    "covar_type_list = ['RQ']\n",
    "\n",
    "best_mse = float('inf')\n",
    "best_params = None\n",
    "results = []  # 存储所有成功组合及对应的 mse\n",
    "\n",
    "for num_latents in num_latents_list:\n",
    "    for num_inducing in num_inducing_list:\n",
    "        for covar_type in covar_type_list:\n",
    "            try:\n",
    "                # 训练模型\n",
    "                MVGP_models, MVGP_likelihoods = Training.train_full_MultitaskVGP(\n",
    "                    train_x, train_y_21,\n",
    "                    covar_type = covar_type,\n",
    "                    num_latents=num_latents,\n",
    "                    num_inducing=num_inducing,\n",
    "                    lr_hyper=0.05,\n",
    "                    lr_variational=0.05,\n",
    "                    num_iterations=5000,\n",
    "                    patience=50,\n",
    "                    device=Device\n",
    "                )\n",
    "                # 得到预测值\n",
    "                full_test_preds_MVGP = Prediction.preds_for_one_model(\n",
    "                    MVGP_models, MVGP_likelihoods, test_x.to(Device)\n",
    "                ).cpu().detach().numpy()\n",
    "\n",
    "                # 计算均方误差\n",
    "                mse = np.mean((full_test_preds_MVGP.reshape(120, 21) - test_y_21.numpy()) ** 2)\n",
    "                results.append((num_latents, num_inducing, mse))\n",
    "\n",
    "                if mse < best_mse:\n",
    "                    best_mse = mse\n",
    "                    best_params = (num_latents, num_inducing)\n",
    "                print(f\"组合 num_latents={num_latents}, num_inducing={num_inducing}, covar_type={covar_type} -> mse: {mse}\")\n",
    "\n",
    "            except Exception as e:\n",
    "                # 出现异常，记录并跳过当前参数组合\n",
    "                print(f\"组合 num_latents={num_latents}, num_inducing={num_inducing}, covar_type={covar_type} 训练失败: {e}\")\n",
    "                continue\n",
    "\n",
    "print(\"最佳 MSE:\", best_mse)\n",
    "print(\"最佳参数组合 (num_latents, num_inducing):\", best_params)"
   ]
  }
 ],
 "metadata": {
  "kernelspec": {
   "display_name": "GT",
   "language": "python",
   "name": "python3"
  },
  "language_info": {
   "codemirror_mode": {
    "name": "ipython",
    "version": 3
   },
   "file_extension": ".py",
   "mimetype": "text/x-python",
   "name": "python",
   "nbconvert_exporter": "python",
   "pygments_lexer": "ipython3",
   "version": "3.10.15"
  }
 },
 "nbformat": 4,
 "nbformat_minor": 2
}
