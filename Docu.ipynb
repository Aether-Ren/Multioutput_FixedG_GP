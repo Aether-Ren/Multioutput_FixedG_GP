{
 "cells": [
  {
   "cell_type": "markdown",
   "metadata": {},
   "source": [
    "# Set up"
   ]
  },
  {
   "cell_type": "code",
   "execution_count": 1,
   "metadata": {},
   "outputs": [],
   "source": [
    "import torch\n",
    "import gpytorch\n",
    "import pandas as pd\n",
    "import numpy as np\n",
    "import tqdm as tqdm\n",
    "from linear_operator import settings\n",
    "\n",
    "import pyro\n",
    "import math\n",
    "import pickle\n",
    "import time\n",
    "from joblib import Parallel, delayed\n",
    "\n",
    "from sklearn.preprocessing import StandardScaler\n",
    "\n",
    "from sklearn.decomposition import PCA\n",
    "import matplotlib.pyplot as plt\n",
    "\n",
    "import pyro.distributions as dist\n",
    "from pyro.infer import MCMC, NUTS\n",
    "import arviz as az\n",
    "import seaborn as sns\n",
    "\n",
    "import os"
   ]
  },
  {
   "cell_type": "code",
   "execution_count": 2,
   "metadata": {},
   "outputs": [],
   "source": [
    "import GP_functions.Loss_function as Loss_function\n",
    "import GP_functions.bound as bound\n",
    "import GP_functions.Estimation as Estimation\n",
    "import GP_functions.Training as Training\n",
    "import GP_functions.Prediction as Prediction\n",
    "import GP_functions.GP_models as GP_models\n",
    "import GP_functions.Tools as Tools\n",
    "import GP_functions.FeatureE as FeatureE"
   ]
  },
  {
   "cell_type": "markdown",
   "metadata": {},
   "source": [
    "# Data"
   ]
  },
  {
   "cell_type": "code",
   "execution_count": 3,
   "metadata": {},
   "outputs": [],
   "source": [
    "X_train = pd.read_csv('Data/X_train.csv', header=None, delimiter=',').values\n",
    "X_test = pd.read_csv('Data/X_test.csv', header=None, delimiter=',').values\n",
    "\n",
    "# Y_train_8 = pd.read_csv('Data/Y_train_8.csv', header=None, delimiter=',').values\n",
    "# Y_test_8 = pd.read_csv('Data/Y_test_8.csv', header=None, delimiter=',').values\n",
    "\n",
    "Y_train_21 = pd.read_csv('Data/Y_train_std_21.csv', header=None, delimiter=',').values\n",
    "Y_test_21 = pd.read_csv('Data/Y_test_std_21.csv', header=None, delimiter=',').values\n",
    "\n",
    "Y_train_std = pd.read_csv('Data/Y_train_std.csv', header=None, delimiter=',').values\n",
    "Y_test_std = pd.read_csv('Data/Y_test_std.csv', header=None, delimiter=',').values"
   ]
  },
  {
   "cell_type": "code",
   "execution_count": 4,
   "metadata": {},
   "outputs": [],
   "source": [
    "train_x = torch.tensor(X_train, dtype=torch.float32)\n",
    "test_x = torch.tensor(X_test, dtype=torch.float32)\n",
    "\n",
    "# train_y_8 = torch.tensor(Y_train_8, dtype=torch.float32)\n",
    "# test_y_8 = torch.tensor(Y_test_8, dtype=torch.float32)\n",
    "\n",
    "train_y_21 = torch.tensor(Y_train_21, dtype=torch.float32)\n",
    "test_y_21 = torch.tensor(Y_test_21, dtype=torch.float32)\n",
    "\n",
    "train_y = torch.tensor(Y_train_std, dtype=torch.float32)\n",
    "test_y = torch.tensor(Y_test_std, dtype=torch.float32)"
   ]
  },
  {
   "cell_type": "markdown",
   "metadata": {},
   "source": [
    "## PCA of output"
   ]
  },
  {
   "cell_type": "code",
   "execution_count": null,
   "metadata": {},
   "outputs": [],
   "source": [
    "pca_20 = PCA(n_components = 20)\n",
    "\n",
    "pca_20.fit(train_y[:,1:])\n",
    "torch.set_default_dtype(torch.float32)\n",
    "torch.set_num_threads(8)\n",
    "torch.set_num_interop_threads(4)"
   ]
  },
  {
   "cell_type": "markdown",
   "metadata": {},
   "source": [
    "# Emulators"
   ]
  },
  {
   "cell_type": "code",
   "execution_count": null,
   "metadata": {},
   "outputs": [],
   "source": [
    "Device = 'cpu'"
   ]
  },
  {
   "cell_type": "code",
   "execution_count": 36,
   "metadata": {},
   "outputs": [],
   "source": [
    "Device = 'cuda'"
   ]
  },
  {
   "cell_type": "code",
   "execution_count": null,
   "metadata": {},
   "outputs": [],
   "source": [
    "row_idx = 0\n",
    "\n",
    "input_point = test_y[row_idx,:]\n",
    "local_train_x, local_train_y = Tools.find_k_nearest_neighbors_CPU(input_point, train_x, train_y, k = 100)\n",
    "\n",
    "bounds = bound.get_bounds(local_train_x)"
   ]
  },
  {
   "cell_type": "markdown",
   "metadata": {},
   "source": [
    "### LocalGP"
   ]
  },
  {
   "cell_type": "code",
   "execution_count": null,
   "metadata": {},
   "outputs": [],
   "source": [
    "output_file = 'Result/LocalGP_21_result.csv'\n",
    "\n",
    "\n",
    "if not os.path.exists(output_file):\n",
    "    with open(output_file, 'w') as f:\n",
    "        f.write('Iteration,test_preds,estimated_params,posterior_means\\n')\n",
    "\n"
   ]
  },
  {
   "cell_type": "code",
   "execution_count": null,
   "metadata": {},
   "outputs": [],
   "source": [
    "row_idx = 0\n",
    "\n",
    "\n",
    "input_point = test_y_21[row_idx, :]\n",
    "\n",
    "local_train_x, local_train_y = Tools.find_k_nearest_neighbors_CPU(input_point, train_x, train_y_21, k=100)\n",
    "\n",
    "LocalGP_models, LocalGP_likelihoods = Training.train_one_row_LocalGP_Parallel(\n",
    "    train_x, train_y_21, test_y_21, row_idx,\n",
    "    covar_type='RBF', k_num=100, lr=0.025,\n",
    "    num_iterations=5000, patience=10, device=Device\n",
    ")\n"
   ]
  },
  {
   "cell_type": "code",
   "execution_count": null,
   "metadata": {},
   "outputs": [],
   "source": [
    "preds_tmp = Prediction.full_preds(\n",
    "    LocalGP_models, LocalGP_likelihoods, test_x[row_idx, :].unsqueeze(0).to(Device)\n",
    ").cpu().detach().numpy()\n",
    "\n",
    "\n",
    "\n",
    "estimated_params_tmp, _ = Estimation.multi_start_estimation(\n",
    "    LocalGP_models, LocalGP_likelihoods, row_idx, test_y_21, bounds,\n",
    "    Estimation.estimate_params_Adam, num_starts=5, num_iterations=2000, lr=0.01,\n",
    "    patience=50, attraction_threshold=0.1, repulsion_strength=0.1, device=Device\n",
    ")\n",
    "\n",
    "\n"
   ]
  },
  {
   "cell_type": "code",
   "execution_count": null,
   "metadata": {},
   "outputs": [],
   "source": [
    "def train_and_predict_LocalGP(row_idx, train_x, train_y, test_x, test_y, K_num = 100, Device = 'cpu', PCA_trans = 'None'):\n",
    "\n",
    "    LocalGP_models, LocalGP_likelihoods = Training.train_one_row_LocalGP(\n",
    "        train_x, train_y, test_y, row_idx, covar_type = 'RQ', k_num=K_num, lr=0.05, num_iterations=5000, patience=10, device=Device\n",
    "    )\n",
    "    \n",
    "    preds = Prediction.full_preds(LocalGP_models, LocalGP_likelihoods, test_x[row_idx,:].unsqueeze(0).to(Device)).cpu().detach().numpy()\n",
    "    if PCA_trans != 'None':\n",
    "        preds = PCA_trans.inverse_transform(preds)\n",
    "\n",
    "    return preds\n",
    "\n",
    "\n"
   ]
  },
  {
   "cell_type": "code",
   "execution_count": null,
   "metadata": {},
   "outputs": [],
   "source": [
    "results = Parallel(n_jobs=-1)(delayed(train_and_predict_LocalGP)(row_idx, train_x, train_y, test_x, test_y, PCA_trans = pca_20) for row_idx in range(test_y.shape[0]))\n",
    "full_test_preds_LocalGP = np.vstack(results)\n",
    "\n",
    "MSE_LocalGP = np.mean((full_test_preds_LocalGP - test_y.numpy()) ** 2)"
   ]
  },
  {
   "cell_type": "code",
   "execution_count": null,
   "metadata": {},
   "outputs": [],
   "source": [
    "MSE_LocalGP"
   ]
  },
  {
   "cell_type": "code",
   "execution_count": null,
   "metadata": {},
   "outputs": [],
   "source": [
    "MSE_LocalGP"
   ]
  },
  {
   "cell_type": "markdown",
   "metadata": {},
   "source": [
    "### MultiGP"
   ]
  },
  {
   "cell_type": "code",
   "execution_count": null,
   "metadata": {},
   "outputs": [],
   "source": [
    "row_idx = 0\n",
    "\n",
    "input_point = test_y_21[row_idx,:]\n",
    "local_train_x, local_train_y = Tools.find_k_nearest_neighbors_CPU(input_point, train_x, train_y_21, k = 100)\n",
    "\n",
    "\n",
    "MultitaskGP_models, MultitaskGP_likelihoods = Training.train_one_row_MultitaskGP(local_train_x, local_train_y, n_tasks = local_train_y.shape[1], \n",
    "                                                                                 covar_type = 'RBF', lr=0.05, num_iterations=5000, patience=10, device=Device)\n"
   ]
  },
  {
   "cell_type": "code",
   "execution_count": null,
   "metadata": {},
   "outputs": [],
   "source": [
    "Prediction.preds_for_one_model(MultitaskGP_models, MultitaskGP_likelihoods, theta.unsqueeze(0)).view(-1)"
   ]
  },
  {
   "cell_type": "code",
   "execution_count": null,
   "metadata": {},
   "outputs": [],
   "source": [
    "def train_and_predict_MGP(row_idx, train_x, train_y, test_x, test_y, K_num = 300, Device = 'cpu', PCA_trans = 'None'):\n",
    "\n",
    "\n",
    "    input_point = test_y[row_idx,:]\n",
    "    local_train_x, local_train_y = Tools.find_k_nearest_neighbors_CPU(input_point, train_x, train_y, k = K_num)\n",
    "\n",
    "    MultitaskGP_models, MultitaskGP_likelihoods = Training.train_one_row_MultitaskGP(local_train_x, local_train_y, n_tasks = train_y.shape[1], covar_type = 'RQ', \n",
    "                                                                                     lr=0.05, num_iterations=10000, patience=10, device=Device)\n",
    "\n",
    "    preds = Prediction.preds_for_one_model(MultitaskGP_models, MultitaskGP_likelihoods, test_x[row_idx,:].unsqueeze(0).to(Device)).detach().numpy()\n",
    "    if PCA_trans != 'None':\n",
    "        preds = PCA_trans.inverse_transform(preds)\n",
    "\n",
    "    return preds\n",
    "\n"
   ]
  },
  {
   "cell_type": "code",
   "execution_count": null,
   "metadata": {},
   "outputs": [],
   "source": [
    "results = Parallel(n_jobs=-1)(delayed(train_and_predict_MGP)(row_idx, train_x, train_y, test_x, test_y) for row_idx in range(test_y.shape[0]))\n",
    "full_test_preds_MGP = np.vstack(results)\n",
    "\n",
    "\n",
    "np.mean((full_test_preds_MGP - test_y.numpy()) ** 2)"
   ]
  },
  {
   "cell_type": "markdown",
   "metadata": {},
   "source": [
    "### NN + MultiGP"
   ]
  },
  {
   "cell_type": "code",
   "execution_count": null,
   "metadata": {},
   "outputs": [],
   "source": [
    "row_idx = 0\n",
    "\n",
    "input_point = test_y[row_idx,:]\n",
    "local_train_x, local_train_y = Tools.find_k_nearest_neighbors_CPU(input_point, train_x, train_y, k = 500)\n",
    "\n",
    "MultitaskGP_models, MultitaskGP_likelihoods = Training.train_one_row_NNMultitaskGP(local_train_x, local_train_y, n_tasks = local_train_y.shape[1], \n",
    "                                                                                   feature_extractor_class = FeatureE.FeatureExtractor_4, covar_type = 'Matern5/2', \n",
    "                                                                                   lr=0.05, num_iterations=5000, patience=10, device = Device)\n",
    "    "
   ]
  },
  {
   "cell_type": "code",
   "execution_count": null,
   "metadata": {},
   "outputs": [],
   "source": [
    "def train_and_predict_NNMGP(row_idx, train_x, train_y, test_x, test_y, K_num = 500, Device = 'cpu', PCA_trans = 'None'):\n",
    "\n",
    "\n",
    "    input_point = test_y[row_idx,:]\n",
    "    local_train_x, local_train_y = Tools.find_k_nearest_neighbors_CPU(input_point, train_x, train_y, k = K_num)\n",
    "\n",
    "    NNMultitaskGP_models, NNMultitaskGP_likelihoods = Training.train_one_row_NNMultitaskGP(local_train_x, local_train_y, n_tasks = train_y.shape[1], \n",
    "                                                                                            feature_extractor_class = FeatureE.FeatureExtractor_4, covar_type = 'RQ', \n",
    "                                                                                            lr=0.05, num_iterations=5000, patience=10, device = Device)\n",
    "\n",
    "    preds = Prediction.preds_for_one_model(NNMultitaskGP_models, NNMultitaskGP_likelihoods, test_x[row_idx,:].unsqueeze(0).to(Device)).squeeze().detach().numpy()\n",
    "    if PCA_trans != 'None':\n",
    "        # preds = PCA_trans.inverse_transform(preds)\n",
    "        first_column = preds[0]\n",
    "        remaining_columns = preds[1:]\n",
    "        remaining_columns = PCA_trans.inverse_transform(remaining_columns)\n",
    "        preds = np.concatenate((first_column, remaining_columns), axis=1)\n",
    "\n",
    "    return preds\n",
    "\n"
   ]
  },
  {
   "cell_type": "code",
   "execution_count": null,
   "metadata": {},
   "outputs": [],
   "source": [
    "results = Parallel(n_jobs=-1)(delayed(train_and_predict_NNMGP)(row_idx, train_x, train_y, test_x, test_y) for row_idx in range(test_y.shape[0]))\n",
    "full_test_preds_MGP = np.vstack(results)\n",
    "\n",
    "\n",
    "MSE_NNMGP = np.mean((full_test_preds_MGP - test_y.numpy()) ** 2)"
   ]
  },
  {
   "cell_type": "code",
   "execution_count": null,
   "metadata": {},
   "outputs": [],
   "source": [
    "results = Parallel(n_jobs=-1)(delayed(train_and_predict_NNMGP)(row_idx, train_x, train_y_21, test_x, test_y_21) for row_idx in range(test_y.shape[0]))\n",
    "# results = Parallel(n_jobs=-1)(delayed(train_and_predict_NNMGP)(row_idx, train_x, train_y_21, test_x, test_y_21) for row_idx in range(test_y.shape[0]))\n",
    "full_test_preds_MGP = np.vstack(results)\n",
    "\n",
    "\n",
    "MSE_NNMGP_20 = np.mean((full_test_preds_MGP - test_y_21.numpy()) ** 2)\n",
    "MSE_NNMGP_20"
   ]
  },
  {
   "cell_type": "code",
   "execution_count": null,
   "metadata": {},
   "outputs": [],
   "source": [
    "MSE_NNMGP_20"
   ]
  },
  {
   "cell_type": "markdown",
   "metadata": {},
   "source": [
    "### VGP"
   ]
  },
  {
   "cell_type": "code",
   "execution_count": null,
   "metadata": {},
   "outputs": [],
   "source": [
    "inducing_points = train_x[:600, :].to(Device)\n",
    "VGP_models, VGP_likelihoods = Training.train_full_VGP_Parallel(train_x, train_y_21, inducing_points, covar_type = 'RQ', lr=0.025, num_iterations=5000, patience=30, device=Device)\n"
   ]
  },
  {
   "cell_type": "markdown",
   "metadata": {},
   "source": [
    "### MVGP"
   ]
  },
  {
   "cell_type": "code",
   "execution_count": null,
   "metadata": {},
   "outputs": [],
   "source": [
    "MVGP_models, MVGP_likelihoods = Training.train_full_MultitaskVGP(train_x, train_y_21, covar_type = 'RQ', \n",
    "                                                                 num_latents=14, num_inducing=100, \n",
    "                                                                 lr_hyper=0.05, lr_variational=0.05, num_iterations=5000, patience=50, device=Device)\n"
   ]
  },
  {
   "cell_type": "code",
   "execution_count": 76,
   "metadata": {},
   "outputs": [
    {
     "name": "stderr",
     "output_type": "stream",
     "text": [
      "Training:   0%|          | 9/5000 [00:27<4:17:07,  3.09s/it]\n"
     ]
    },
    {
     "ename": "KeyboardInterrupt",
     "evalue": "",
     "output_type": "error",
     "traceback": [
      "\u001b[1;31m---------------------------------------------------------------------------\u001b[0m",
      "\u001b[1;31mKeyboardInterrupt\u001b[0m                         Traceback (most recent call last)",
      "Cell \u001b[1;32mIn[76], line 1\u001b[0m\n\u001b[1;32m----> 1\u001b[0m MVGP_models, MVGP_likelihoods \u001b[38;5;241m=\u001b[39m \u001b[43mTraining\u001b[49m\u001b[38;5;241;43m.\u001b[39;49m\u001b[43mtrain_MultitaskVGP_minibatch\u001b[49m\u001b[43m(\u001b[49m\u001b[43mtrain_x\u001b[49m\u001b[43m,\u001b[49m\u001b[43m \u001b[49m\u001b[43mtrain_y_21\u001b[49m\u001b[43m,\u001b[49m\u001b[43m \u001b[49m\u001b[43mcovar_type\u001b[49m\u001b[38;5;241;43m=\u001b[39;49m\u001b[38;5;124;43m'\u001b[39;49m\u001b[38;5;124;43mRQ\u001b[39;49m\u001b[38;5;124;43m'\u001b[39;49m\u001b[43m,\u001b[49m\u001b[43m \u001b[49m\u001b[43mnum_latents\u001b[49m\u001b[38;5;241;43m=\u001b[39;49m\u001b[38;5;241;43m20\u001b[39;49m\u001b[43m,\u001b[49m\u001b[43m \u001b[49m\u001b[43mnum_inducing\u001b[49m\u001b[38;5;241;43m=\u001b[39;49m\u001b[38;5;241;43m400\u001b[39;49m\u001b[43m,\u001b[49m\u001b[43m \u001b[49m\n\u001b[0;32m      2\u001b[0m \u001b[43m                                                                      \u001b[49m\u001b[43mlr_hyper\u001b[49m\u001b[38;5;241;43m=\u001b[39;49m\u001b[38;5;241;43m0.01\u001b[39;49m\u001b[43m,\u001b[49m\u001b[43m \u001b[49m\u001b[43mlr_variational\u001b[49m\u001b[38;5;241;43m=\u001b[39;49m\u001b[38;5;241;43m0.1\u001b[39;49m\u001b[43m,\u001b[49m\u001b[43m \u001b[49m\u001b[43mnum_iterations\u001b[49m\u001b[38;5;241;43m=\u001b[39;49m\u001b[38;5;241;43m5000\u001b[39;49m\u001b[43m,\u001b[49m\u001b[43m \u001b[49m\u001b[43mpatience\u001b[49m\u001b[38;5;241;43m=\u001b[39;49m\u001b[38;5;241;43m10\u001b[39;49m\u001b[43m,\u001b[49m\u001b[43m \u001b[49m\n\u001b[0;32m      3\u001b[0m \u001b[43m                                                                      \u001b[49m\u001b[43mdevice\u001b[49m\u001b[38;5;241;43m=\u001b[39;49m\u001b[43mDevice\u001b[49m\u001b[43m,\u001b[49m\u001b[43m \u001b[49m\u001b[43mbatch_size\u001b[49m\u001b[38;5;241;43m=\u001b[39;49m\u001b[38;5;241;43m512\u001b[39;49m\u001b[43m,\u001b[49m\u001b[43m \u001b[49m\u001b[43meval_every\u001b[49m\u001b[38;5;241;43m=\u001b[39;49m\u001b[38;5;241;43m100\u001b[39;49m\u001b[43m,\u001b[49m\u001b[43m \u001b[49m\u001b[43meval_batch_size\u001b[49m\u001b[38;5;241;43m=\u001b[39;49m\u001b[38;5;241;43m1024\u001b[39;49m\u001b[43m)\u001b[49m\n",
      "File \u001b[1;32md:\\programming\\python\\Multioutput_FixedG_GP\\GP_functions\\Training.py:357\u001b[0m, in \u001b[0;36mtrain_MultitaskVGP_minibatch\u001b[1;34m(train_x, train_y, covar_type, num_latents, num_inducing, lr_hyper, lr_variational, num_iterations, patience, device, batch_size, eval_every, eval_batch_size)\u001b[0m\n\u001b[0;32m    354\u001b[0m variational_ngd_optimizer\u001b[38;5;241m.\u001b[39mstep()\n\u001b[0;32m    356\u001b[0m hyperparameter_optimizer\u001b[38;5;241m.\u001b[39mzero_grad()\n\u001b[1;32m--> 357\u001b[0m output \u001b[38;5;241m=\u001b[39m \u001b[43mmodel\u001b[49m\u001b[43m(\u001b[49m\u001b[43mx_batch\u001b[49m\u001b[43m)\u001b[49m\n\u001b[0;32m    358\u001b[0m loss \u001b[38;5;241m=\u001b[39m \u001b[38;5;241m-\u001b[39mmll(output, y_batch)\n\u001b[0;32m    359\u001b[0m loss\u001b[38;5;241m.\u001b[39mbackward()\n",
      "File \u001b[1;32md:\\anaconda3\\envs\\FGPyT\\lib\\site-packages\\gpytorch\\models\\approximate_gp.py:114\u001b[0m, in \u001b[0;36mApproximateGP.__call__\u001b[1;34m(self, inputs, prior, **kwargs)\u001b[0m\n\u001b[0;32m    112\u001b[0m \u001b[38;5;28;01mif\u001b[39;00m inputs \u001b[38;5;129;01mis\u001b[39;00m \u001b[38;5;129;01mnot\u001b[39;00m \u001b[38;5;28;01mNone\u001b[39;00m \u001b[38;5;129;01mand\u001b[39;00m inputs\u001b[38;5;241m.\u001b[39mdim() \u001b[38;5;241m==\u001b[39m \u001b[38;5;241m1\u001b[39m:\n\u001b[0;32m    113\u001b[0m     inputs \u001b[38;5;241m=\u001b[39m inputs\u001b[38;5;241m.\u001b[39munsqueeze(\u001b[38;5;241m-\u001b[39m\u001b[38;5;241m1\u001b[39m)\n\u001b[1;32m--> 114\u001b[0m \u001b[38;5;28;01mreturn\u001b[39;00m \u001b[38;5;28mself\u001b[39m\u001b[38;5;241m.\u001b[39mvariational_strategy(inputs, prior\u001b[38;5;241m=\u001b[39mprior, \u001b[38;5;241m*\u001b[39m\u001b[38;5;241m*\u001b[39mkwargs)\n",
      "File \u001b[1;32md:\\anaconda3\\envs\\FGPyT\\lib\\site-packages\\gpytorch\\variational\\lmc_variational_strategy.py:197\u001b[0m, in \u001b[0;36mLMCVariationalStrategy.__call__\u001b[1;34m(self, x, prior, task_indices, **kwargs)\u001b[0m\n\u001b[0;32m    163\u001b[0m \u001b[38;5;28;01mdef\u001b[39;00m \u001b[38;5;21m__call__\u001b[39m(\n\u001b[0;32m    164\u001b[0m     \u001b[38;5;28mself\u001b[39m, x: Tensor, prior: \u001b[38;5;28mbool\u001b[39m \u001b[38;5;241m=\u001b[39m \u001b[38;5;28;01mFalse\u001b[39;00m, task_indices: Optional[LongTensor] \u001b[38;5;241m=\u001b[39m \u001b[38;5;28;01mNone\u001b[39;00m, \u001b[38;5;241m*\u001b[39m\u001b[38;5;241m*\u001b[39mkwargs\n\u001b[0;32m    165\u001b[0m ) \u001b[38;5;241m-\u001b[39m\u001b[38;5;241m>\u001b[39m Union[MultitaskMultivariateNormal, MultivariateNormal]:\n\u001b[0;32m    166\u001b[0m \u001b[38;5;250m    \u001b[39m\u001b[38;5;124mr\u001b[39m\u001b[38;5;124;03m\"\"\"\u001b[39;00m\n\u001b[0;32m    167\u001b[0m \u001b[38;5;124;03m    Computes the variational (or prior) distribution\u001b[39;00m\n\u001b[0;32m    168\u001b[0m \u001b[38;5;124;03m    :math:`q( \\mathbf f \\mid \\mathbf X)` (or :math:`p( \\mathbf f \\mid \\mathbf X)`).\u001b[39;00m\n\u001b[1;32m   (...)\u001b[0m\n\u001b[0;32m    195\u001b[0m \u001b[38;5;124;03m        or ~gpytorch.distributions.MultivariateNormal (... x N)\u001b[39;00m\n\u001b[0;32m    196\u001b[0m \u001b[38;5;124;03m    \"\"\"\u001b[39;00m\n\u001b[1;32m--> 197\u001b[0m     latent_dist \u001b[38;5;241m=\u001b[39m \u001b[38;5;28mself\u001b[39m\u001b[38;5;241m.\u001b[39mbase_variational_strategy(x, prior\u001b[38;5;241m=\u001b[39mprior, \u001b[38;5;241m*\u001b[39m\u001b[38;5;241m*\u001b[39mkwargs)\n\u001b[0;32m    198\u001b[0m     num_batch \u001b[38;5;241m=\u001b[39m \u001b[38;5;28mlen\u001b[39m(latent_dist\u001b[38;5;241m.\u001b[39mbatch_shape)\n\u001b[0;32m    199\u001b[0m     latent_dim \u001b[38;5;241m=\u001b[39m num_batch \u001b[38;5;241m+\u001b[39m \u001b[38;5;28mself\u001b[39m\u001b[38;5;241m.\u001b[39mlatent_dim\n",
      "File \u001b[1;32md:\\anaconda3\\envs\\FGPyT\\lib\\site-packages\\gpytorch\\variational\\variational_strategy.py:239\u001b[0m, in \u001b[0;36mVariationalStrategy.__call__\u001b[1;34m(self, x, prior, **kwargs)\u001b[0m\n\u001b[0;32m    238\u001b[0m \u001b[38;5;28;01mdef\u001b[39;00m \u001b[38;5;21m__call__\u001b[39m(\u001b[38;5;28mself\u001b[39m, x: Tensor, prior: \u001b[38;5;28mbool\u001b[39m \u001b[38;5;241m=\u001b[39m \u001b[38;5;28;01mFalse\u001b[39;00m, \u001b[38;5;241m*\u001b[39m\u001b[38;5;241m*\u001b[39mkwargs) \u001b[38;5;241m-\u001b[39m\u001b[38;5;241m>\u001b[39m MultivariateNormal:\n\u001b[1;32m--> 239\u001b[0m     \u001b[38;5;28;01mif\u001b[39;00m \u001b[38;5;129;01mnot\u001b[39;00m \u001b[38;5;28;43mself\u001b[39;49m\u001b[38;5;241;43m.\u001b[39;49m\u001b[43mupdated_strategy\u001b[49m\u001b[38;5;241;43m.\u001b[39;49m\u001b[43mitem\u001b[49m\u001b[43m(\u001b[49m\u001b[43m)\u001b[49m \u001b[38;5;129;01mand\u001b[39;00m \u001b[38;5;129;01mnot\u001b[39;00m prior:\n\u001b[0;32m    240\u001b[0m         \u001b[38;5;28;01mwith\u001b[39;00m torch\u001b[38;5;241m.\u001b[39mno_grad():\n\u001b[0;32m    241\u001b[0m             \u001b[38;5;66;03m# Get unwhitened p(u)\u001b[39;00m\n\u001b[0;32m    242\u001b[0m             prior_function_dist \u001b[38;5;241m=\u001b[39m \u001b[38;5;28mself\u001b[39m(\u001b[38;5;28mself\u001b[39m\u001b[38;5;241m.\u001b[39minducing_points, prior\u001b[38;5;241m=\u001b[39m\u001b[38;5;28;01mTrue\u001b[39;00m)\n",
      "\u001b[1;31mKeyboardInterrupt\u001b[0m: "
     ]
    }
   ],
   "source": [
    "MVGP_models, MVGP_likelihoods = Training.train_MultitaskVGP_minibatch(train_x, train_y_21, covar_type='RQ', num_latents=20, num_inducing=400, \n",
    "                                                                      lr_hyper=0.01, lr_variational=0.1, num_iterations=5000, patience=10, \n",
    "                                                                      device=Device, batch_size=512, eval_every=100, eval_batch_size=1024)\n"
   ]
  },
  {
   "cell_type": "code",
   "execution_count": 12,
   "metadata": {},
   "outputs": [
    {
     "data": {
      "text/plain": [
       "0.0012369358"
      ]
     },
     "execution_count": 12,
     "metadata": {},
     "output_type": "execute_result"
    }
   ],
   "source": [
    "full_test_preds_MVGP = Prediction.preds_for_one_model(MVGP_models, MVGP_likelihoods, test_x.to(Device)).cpu().detach().numpy()\n",
    "np.mean((full_test_preds_MVGP.reshape(120,21) - test_y_21.numpy()) ** 2)"
   ]
  },
  {
   "cell_type": "code",
   "execution_count": 8,
   "metadata": {},
   "outputs": [
    {
     "data": {
      "text/plain": [
       "0.0015008309"
      ]
     },
     "execution_count": 8,
     "metadata": {},
     "output_type": "execute_result"
    }
   ],
   "source": [
    "np.mean((full_test_preds_MVGP.reshape(120,52) - test_y.numpy()) ** 2)"
   ]
  },
  {
   "cell_type": "code",
   "execution_count": null,
   "metadata": {},
   "outputs": [],
   "source": [
    "full_test_preds_MVGP = pca_20.inverse_transform(full_test_preds_MVGP)\n",
    "MSE_MVGP = np.mean((full_test_preds_MVGP - test_y.numpy()) ** 2)\n",
    "MSE_MVGP"
   ]
  },
  {
   "cell_type": "code",
   "execution_count": 13,
   "metadata": {},
   "outputs": [
    {
     "ename": "NameError",
     "evalue": "name 'MVGP_models' is not defined",
     "output_type": "error",
     "traceback": [
      "\u001b[1;31m---------------------------------------------------------------------------\u001b[0m",
      "\u001b[1;31mNameError\u001b[0m                                 Traceback (most recent call last)",
      "Cell \u001b[1;32mIn[13], line 2\u001b[0m\n\u001b[0;32m      1\u001b[0m checkpoint \u001b[38;5;241m=\u001b[39m {\n\u001b[1;32m----> 2\u001b[0m     \u001b[38;5;124m'\u001b[39m\u001b[38;5;124mmodel_state_dict\u001b[39m\u001b[38;5;124m'\u001b[39m: \u001b[43mMVGP_models\u001b[49m\u001b[38;5;241m.\u001b[39mstate_dict(),\n\u001b[0;32m      3\u001b[0m     \u001b[38;5;124m'\u001b[39m\u001b[38;5;124mlikelihood_state_dict\u001b[39m\u001b[38;5;124m'\u001b[39m: MVGP_likelihoods\u001b[38;5;241m.\u001b[39mstate_dict(),\n\u001b[0;32m      4\u001b[0m     \u001b[38;5;124m'\u001b[39m\u001b[38;5;124mmodel_params\u001b[39m\u001b[38;5;124m'\u001b[39m: {\n\u001b[0;32m      5\u001b[0m         \u001b[38;5;124m'\u001b[39m\u001b[38;5;124mnum_latents\u001b[39m\u001b[38;5;124m'\u001b[39m: \u001b[38;5;241m20\u001b[39m,\n\u001b[0;32m      6\u001b[0m         \u001b[38;5;124m'\u001b[39m\u001b[38;5;124mnum_inducing\u001b[39m\u001b[38;5;124m'\u001b[39m: \u001b[38;5;241m500\u001b[39m,\n\u001b[0;32m      7\u001b[0m         \u001b[38;5;124m'\u001b[39m\u001b[38;5;124mcovar_type\u001b[39m\u001b[38;5;124m'\u001b[39m: \u001b[38;5;124m'\u001b[39m\u001b[38;5;124mRQ\u001b[39m\u001b[38;5;124m'\u001b[39m,\n\u001b[0;32m      8\u001b[0m         \u001b[38;5;124m'\u001b[39m\u001b[38;5;124minput_dim\u001b[39m\u001b[38;5;124m'\u001b[39m: train_x\u001b[38;5;241m.\u001b[39msize(\u001b[38;5;241m1\u001b[39m),  \u001b[38;5;66;03m# 输入特征维度\u001b[39;00m\n\u001b[0;32m      9\u001b[0m         \u001b[38;5;124m'\u001b[39m\u001b[38;5;124mnum_tasks\u001b[39m\u001b[38;5;124m'\u001b[39m: train_y\u001b[38;5;241m.\u001b[39msize(\u001b[38;5;241m1\u001b[39m)   \u001b[38;5;66;03m# 输出任务数\u001b[39;00m\n\u001b[0;32m     10\u001b[0m     }\n\u001b[0;32m     11\u001b[0m }\n\u001b[0;32m     12\u001b[0m torch\u001b[38;5;241m.\u001b[39msave(checkpoint, \u001b[38;5;124m'\u001b[39m\u001b[38;5;124mmultitask_gp_checkpoint.pth\u001b[39m\u001b[38;5;124m'\u001b[39m)\n",
      "\u001b[1;31mNameError\u001b[0m: name 'MVGP_models' is not defined"
     ]
    }
   ],
   "source": [
    "checkpoint = {\n",
    "    'model_state_dict': MVGP_models.state_dict(),\n",
    "    'likelihood_state_dict': MVGP_likelihoods.state_dict(),\n",
    "    'model_params': {\n",
    "        'num_latents': 20,\n",
    "        'num_inducing': 500,\n",
    "        'covar_type': 'RQ',\n",
    "        'input_dim': train_x.size(1),  # 输入特征维度\n",
    "        'num_tasks': train_y.size(1)   # 输出任务数\n",
    "    }\n",
    "}\n",
    "torch.save(checkpoint, 'multitask_gp_checkpoint.pth')"
   ]
  },
  {
   "cell_type": "markdown",
   "metadata": {},
   "source": [
    "### DGP"
   ]
  },
  {
   "cell_type": "code",
   "execution_count": null,
   "metadata": {},
   "outputs": [],
   "source": [
    "# Device = 'cuda'\n",
    "DGP_2 = Training.train_full_DGP_2(train_x, train_y, num_hidden_dgp_dims = 10, inducing_num = 100, num_iterations = 5000, patiences = 50, device=Device)"
   ]
  },
  {
   "cell_type": "code",
   "execution_count": 77,
   "metadata": {},
   "outputs": [
    {
     "name": "stderr",
     "output_type": "stream",
     "text": [
      "Training DGP_2:   0%|          | 4/2000 [00:52<7:16:24, 13.12s/it]\n"
     ]
    },
    {
     "ename": "KeyboardInterrupt",
     "evalue": "",
     "output_type": "error",
     "traceback": [
      "\u001b[1;31m---------------------------------------------------------------------------\u001b[0m",
      "\u001b[1;31mKeyboardInterrupt\u001b[0m                         Traceback (most recent call last)",
      "Cell \u001b[1;32mIn[77], line 1\u001b[0m\n\u001b[1;32m----> 1\u001b[0m DGP_2 \u001b[38;5;241m=\u001b[39m \u001b[43mTraining\u001b[49m\u001b[38;5;241;43m.\u001b[39;49m\u001b[43mtrain_DGP_2_minibatch\u001b[49m\u001b[43m(\u001b[49m\u001b[43mtrain_x\u001b[49m\u001b[43m,\u001b[49m\u001b[43m \u001b[49m\u001b[43mtrain_y_21\u001b[49m\u001b[43m,\u001b[49m\u001b[43m \u001b[49m\u001b[43mnum_hidden_dgp_dims\u001b[49m\u001b[38;5;241;43m=\u001b[39;49m\u001b[38;5;241;43m10\u001b[39;49m\u001b[43m,\u001b[49m\u001b[43m \u001b[49m\u001b[43minducing_num\u001b[49m\u001b[38;5;241;43m=\u001b[39;49m\u001b[38;5;241;43m300\u001b[39;49m\u001b[43m,\u001b[49m\u001b[43m \u001b[49m\u001b[43mnum_iterations\u001b[49m\u001b[38;5;241;43m=\u001b[39;49m\u001b[38;5;241;43m2000\u001b[39;49m\u001b[43m,\u001b[49m\u001b[43m \u001b[49m\u001b[43mpatience\u001b[49m\u001b[38;5;241;43m=\u001b[39;49m\u001b[38;5;241;43m50\u001b[39;49m\u001b[43m,\u001b[49m\u001b[43m \u001b[49m\n\u001b[0;32m      2\u001b[0m \u001b[43m                                       \u001b[49m\u001b[43mdevice\u001b[49m\u001b[38;5;241;43m=\u001b[39;49m\u001b[38;5;124;43m'\u001b[39;49m\u001b[38;5;124;43mcuda\u001b[39;49m\u001b[38;5;124;43m'\u001b[39;49m\u001b[43m,\u001b[49m\u001b[43mbatch_size\u001b[49m\u001b[38;5;241;43m=\u001b[39;49m\u001b[38;5;241;43m512\u001b[39;49m\u001b[43m,\u001b[49m\u001b[43meval_every\u001b[49m\u001b[38;5;241;43m=\u001b[39;49m\u001b[38;5;241;43m100\u001b[39;49m\u001b[43m,\u001b[49m\u001b[43meval_batch_size\u001b[49m\u001b[38;5;241;43m=\u001b[39;49m\u001b[38;5;241;43m1024\u001b[39;49m\u001b[43m,\u001b[49m\u001b[43mlr\u001b[49m\u001b[38;5;241;43m=\u001b[39;49m\u001b[38;5;241;43m0.1\u001b[39;49m\u001b[43m)\u001b[49m\n",
      "File \u001b[1;32md:\\programming\\python\\Multioutput_FixedG_GP\\GP_functions\\Training.py:904\u001b[0m, in \u001b[0;36mtrain_DGP_2_minibatch\u001b[1;34m(full_train_x, full_train_y, num_hidden_dgp_dims, inducing_num, num_iterations, patience, device, batch_size, eval_every, eval_batch_size, lr)\u001b[0m\n\u001b[0;32m    901\u001b[0m x_batch, y_batch \u001b[38;5;241m=\u001b[39m x_batch\u001b[38;5;241m.\u001b[39mto(device), y_batch\u001b[38;5;241m.\u001b[39mto(device)\n\u001b[0;32m    903\u001b[0m optimizer\u001b[38;5;241m.\u001b[39mzero_grad()\n\u001b[1;32m--> 904\u001b[0m output \u001b[38;5;241m=\u001b[39m \u001b[43mmodel\u001b[49m\u001b[43m(\u001b[49m\u001b[43mx_batch\u001b[49m\u001b[43m)\u001b[49m\n\u001b[0;32m    905\u001b[0m loss \u001b[38;5;241m=\u001b[39m \u001b[38;5;241m-\u001b[39mmll(output, y_batch)\n\u001b[0;32m    906\u001b[0m loss\u001b[38;5;241m.\u001b[39mbackward()\n",
      "File \u001b[1;32md:\\anaconda3\\envs\\FGPyT\\lib\\site-packages\\gpytorch\\module.py:31\u001b[0m, in \u001b[0;36mModule.__call__\u001b[1;34m(self, *inputs, **kwargs)\u001b[0m\n\u001b[0;32m     30\u001b[0m \u001b[38;5;28;01mdef\u001b[39;00m \u001b[38;5;21m__call__\u001b[39m(\u001b[38;5;28mself\u001b[39m, \u001b[38;5;241m*\u001b[39minputs, \u001b[38;5;241m*\u001b[39m\u001b[38;5;241m*\u001b[39mkwargs) \u001b[38;5;241m-\u001b[39m\u001b[38;5;241m>\u001b[39m Union[Tensor, Distribution, LinearOperator]:\n\u001b[1;32m---> 31\u001b[0m     outputs \u001b[38;5;241m=\u001b[39m \u001b[38;5;28mself\u001b[39m\u001b[38;5;241m.\u001b[39mforward(\u001b[38;5;241m*\u001b[39minputs, \u001b[38;5;241m*\u001b[39m\u001b[38;5;241m*\u001b[39mkwargs)\n\u001b[0;32m     32\u001b[0m     \u001b[38;5;28;01mif\u001b[39;00m \u001b[38;5;28misinstance\u001b[39m(outputs, \u001b[38;5;28mlist\u001b[39m):\n\u001b[0;32m     33\u001b[0m         \u001b[38;5;28;01mreturn\u001b[39;00m [_validate_module_outputs(output) \u001b[38;5;28;01mfor\u001b[39;00m output \u001b[38;5;129;01min\u001b[39;00m outputs]\n",
      "File \u001b[1;32md:\\programming\\python\\Multioutput_FixedG_GP\\GP_functions\\GP_models.py:513\u001b[0m, in \u001b[0;36mDeepGP_2.forward\u001b[1;34m(self, inputs)\u001b[0m\n\u001b[0;32m    512\u001b[0m \u001b[38;5;28;01mdef\u001b[39;00m \u001b[38;5;21mforward\u001b[39m(\u001b[38;5;28mself\u001b[39m, inputs):\n\u001b[1;32m--> 513\u001b[0m     hidden_rep1 \u001b[38;5;241m=\u001b[39m \u001b[38;5;28;43mself\u001b[39;49m\u001b[38;5;241;43m.\u001b[39;49m\u001b[43mhidden_layer_1\u001b[49m\u001b[43m(\u001b[49m\u001b[43minputs\u001b[49m\u001b[43m)\u001b[49m\n\u001b[0;32m    514\u001b[0m     output \u001b[38;5;241m=\u001b[39m \u001b[38;5;28mself\u001b[39m\u001b[38;5;241m.\u001b[39mlast_layer(hidden_rep1)\n\u001b[0;32m    515\u001b[0m     \u001b[38;5;28;01mreturn\u001b[39;00m output\n",
      "File \u001b[1;32md:\\anaconda3\\envs\\FGPyT\\lib\\site-packages\\gpytorch\\models\\deep_gps\\deep_gp.py:100\u001b[0m, in \u001b[0;36mDeepGPLayer.__call__\u001b[1;34m(self, inputs, are_samples, **kwargs)\u001b[0m\n\u001b[0;32m     97\u001b[0m     inputs \u001b[38;5;241m=\u001b[39m inputs\u001b[38;5;241m.\u001b[39mexpand(\u001b[38;5;241m*\u001b[39minputs\u001b[38;5;241m.\u001b[39mshape[:\u001b[38;5;241m-\u001b[39m\u001b[38;5;241m3\u001b[39m], \u001b[38;5;28mself\u001b[39m\u001b[38;5;241m.\u001b[39moutput_dims, \u001b[38;5;241m*\u001b[39minputs\u001b[38;5;241m.\u001b[39mshape[\u001b[38;5;241m-\u001b[39m\u001b[38;5;241m2\u001b[39m:])\n\u001b[0;32m     99\u001b[0m \u001b[38;5;66;03m# Now run samples through the GP\u001b[39;00m\n\u001b[1;32m--> 100\u001b[0m output \u001b[38;5;241m=\u001b[39m ApproximateGP\u001b[38;5;241m.\u001b[39m\u001b[38;5;21m__call__\u001b[39m(\u001b[38;5;28mself\u001b[39m, inputs, \u001b[38;5;241m*\u001b[39m\u001b[38;5;241m*\u001b[39mkwargs)\n\u001b[0;32m    101\u001b[0m \u001b[38;5;28;01mif\u001b[39;00m \u001b[38;5;28mself\u001b[39m\u001b[38;5;241m.\u001b[39moutput_dims \u001b[38;5;129;01mis\u001b[39;00m \u001b[38;5;129;01mnot\u001b[39;00m \u001b[38;5;28;01mNone\u001b[39;00m:\n\u001b[0;32m    102\u001b[0m     mean \u001b[38;5;241m=\u001b[39m output\u001b[38;5;241m.\u001b[39mloc\u001b[38;5;241m.\u001b[39mtranspose(\u001b[38;5;241m-\u001b[39m\u001b[38;5;241m1\u001b[39m, \u001b[38;5;241m-\u001b[39m\u001b[38;5;241m2\u001b[39m)\n",
      "File \u001b[1;32md:\\anaconda3\\envs\\FGPyT\\lib\\site-packages\\gpytorch\\models\\approximate_gp.py:114\u001b[0m, in \u001b[0;36mApproximateGP.__call__\u001b[1;34m(self, inputs, prior, **kwargs)\u001b[0m\n\u001b[0;32m    112\u001b[0m \u001b[38;5;28;01mif\u001b[39;00m inputs \u001b[38;5;129;01mis\u001b[39;00m \u001b[38;5;129;01mnot\u001b[39;00m \u001b[38;5;28;01mNone\u001b[39;00m \u001b[38;5;129;01mand\u001b[39;00m inputs\u001b[38;5;241m.\u001b[39mdim() \u001b[38;5;241m==\u001b[39m \u001b[38;5;241m1\u001b[39m:\n\u001b[0;32m    113\u001b[0m     inputs \u001b[38;5;241m=\u001b[39m inputs\u001b[38;5;241m.\u001b[39munsqueeze(\u001b[38;5;241m-\u001b[39m\u001b[38;5;241m1\u001b[39m)\n\u001b[1;32m--> 114\u001b[0m \u001b[38;5;28;01mreturn\u001b[39;00m \u001b[38;5;28mself\u001b[39m\u001b[38;5;241m.\u001b[39mvariational_strategy(inputs, prior\u001b[38;5;241m=\u001b[39mprior, \u001b[38;5;241m*\u001b[39m\u001b[38;5;241m*\u001b[39mkwargs)\n",
      "File \u001b[1;32md:\\anaconda3\\envs\\FGPyT\\lib\\site-packages\\gpytorch\\variational\\variational_strategy.py:239\u001b[0m, in \u001b[0;36mVariationalStrategy.__call__\u001b[1;34m(self, x, prior, **kwargs)\u001b[0m\n\u001b[0;32m    238\u001b[0m \u001b[38;5;28;01mdef\u001b[39;00m \u001b[38;5;21m__call__\u001b[39m(\u001b[38;5;28mself\u001b[39m, x: Tensor, prior: \u001b[38;5;28mbool\u001b[39m \u001b[38;5;241m=\u001b[39m \u001b[38;5;28;01mFalse\u001b[39;00m, \u001b[38;5;241m*\u001b[39m\u001b[38;5;241m*\u001b[39mkwargs) \u001b[38;5;241m-\u001b[39m\u001b[38;5;241m>\u001b[39m MultivariateNormal:\n\u001b[1;32m--> 239\u001b[0m     \u001b[38;5;28;01mif\u001b[39;00m \u001b[38;5;129;01mnot\u001b[39;00m \u001b[38;5;28;43mself\u001b[39;49m\u001b[38;5;241;43m.\u001b[39;49m\u001b[43mupdated_strategy\u001b[49m\u001b[38;5;241;43m.\u001b[39;49m\u001b[43mitem\u001b[49m\u001b[43m(\u001b[49m\u001b[43m)\u001b[49m \u001b[38;5;129;01mand\u001b[39;00m \u001b[38;5;129;01mnot\u001b[39;00m prior:\n\u001b[0;32m    240\u001b[0m         \u001b[38;5;28;01mwith\u001b[39;00m torch\u001b[38;5;241m.\u001b[39mno_grad():\n\u001b[0;32m    241\u001b[0m             \u001b[38;5;66;03m# Get unwhitened p(u)\u001b[39;00m\n\u001b[0;32m    242\u001b[0m             prior_function_dist \u001b[38;5;241m=\u001b[39m \u001b[38;5;28mself\u001b[39m(\u001b[38;5;28mself\u001b[39m\u001b[38;5;241m.\u001b[39minducing_points, prior\u001b[38;5;241m=\u001b[39m\u001b[38;5;28;01mTrue\u001b[39;00m)\n",
      "\u001b[1;31mKeyboardInterrupt\u001b[0m: "
     ]
    }
   ],
   "source": [
    "DGP_2 = Training.train_DGP_2_minibatch(train_x, train_y_21, num_hidden_dgp_dims=10, inducing_num=300, num_iterations=2000, patience=50, \n",
    "                                       device='cuda',batch_size=512,eval_every=100,eval_batch_size=1024,lr=0.1)"
   ]
  },
  {
   "cell_type": "code",
   "execution_count": 12,
   "metadata": {},
   "outputs": [
    {
     "data": {
      "text/plain": [
       "2.0461097955703735"
      ]
     },
     "execution_count": 12,
     "metadata": {},
     "output_type": "execute_result"
    }
   ],
   "source": [
    "from torch.utils.data import TensorDataset, DataLoader\n",
    "\n",
    "def evaluate_full_dataset_loss_dgp(model, x_data, y_data, mll, device='cuda', batch_size=1024):\n",
    "\n",
    "    model.eval()\n",
    "    total_loss = 0.0\n",
    "    dataset = TensorDataset(x_data, y_data)\n",
    "    data_loader = DataLoader(dataset, batch_size=batch_size, shuffle=False)\n",
    "    \n",
    "    with torch.no_grad():\n",
    "        for x_batch, y_batch in data_loader:\n",
    "            x_batch, y_batch = x_batch.to(device), y_batch.to(device)\n",
    "            output = model.predict(x_batch)[0]\n",
    "            loss = mll(output, y_batch)\n",
    "            total_loss += loss.item() * x_batch.size(0)\n",
    "\n",
    "    avg_loss = total_loss / len(dataset)\n",
    "    model.train()\n",
    "    return avg_loss\n",
    "\n",
    "\n",
    "evaluate_full_dataset_loss_dgp(DGP_2, test_x.to(Device),  test_y_21.to(Device), torch.nn.MSELoss(), device='cuda', batch_size=20)"
   ]
  },
  {
   "cell_type": "code",
   "execution_count": 17,
   "metadata": {},
   "outputs": [],
   "source": [
    "checkpoint = {\n",
    "    'model_state_dict': DGP_2.state_dict(),\n",
    "    'likelihood_state_dict': DGP_2.likelihood.state_dict(),\n",
    "    'input_dims': DGP_2.hidden_layer_1.input_dims,\n",
    "    'num_tasks': DGP_2.last_layer.output_dims,\n",
    "    'num_hidden_dgp_dims': DGP_2.hidden_layer_1.output_dims,\n",
    "}\n",
    "\n",
    "torch.save(checkpoint, 'dgp_model.pth')"
   ]
  },
  {
   "cell_type": "code",
   "execution_count": 53,
   "metadata": {},
   "outputs": [
    {
     "name": "stderr",
     "output_type": "stream",
     "text": [
      "C:\\Users\\r4718\\AppData\\Local\\Temp\\ipykernel_27420\\1177128362.py:1: FutureWarning: You are using `torch.load` with `weights_only=False` (the current default value), which uses the default pickle module implicitly. It is possible to construct malicious pickle data which will execute arbitrary code during unpickling (See https://github.com/pytorch/pytorch/blob/main/SECURITY.md#untrusted-models for more details). In a future release, the default value for `weights_only` will be flipped to `True`. This limits the functions that could be executed during unpickling. Arbitrary objects will no longer be allowed to be loaded via this mode unless they are explicitly allowlisted by the user via `torch.serialization.add_safe_globals`. We recommend you start setting `weights_only=True` for any use case where you don't have full control of the loaded file. Please open an issue on GitHub for any issues related to this experimental feature.\n",
      "  checkpoint = torch.load('dgp_model.pth', map_location=torch.device('cuda'))\n"
     ]
    }
   ],
   "source": [
    "checkpoint = torch.load('dgp_model.pth', map_location=torch.device('cuda'))\n",
    "\n",
    "dummy_train_x_shape = (1, checkpoint['input_dims'])\n",
    "dummy_train_y = torch.zeros(1, checkpoint['num_tasks'])\n",
    "\n",
    "\n",
    "loaded_model = GP_models.DeepGP_2(\n",
    "    train_x_shape=dummy_train_x_shape,\n",
    "    train_y=dummy_train_y,\n",
    "    num_hidden_dgp_dims=checkpoint['num_hidden_dgp_dims'], \n",
    "    inducing_num=500\n",
    ")\n",
    "\n",
    "\n",
    "loaded_model.load_state_dict(checkpoint['model_state_dict'])\n",
    "loaded_model.likelihood.load_state_dict(checkpoint['likelihood_state_dict'])\n",
    "loaded_model = loaded_model.to(Device)\n"
   ]
  },
  {
   "cell_type": "code",
   "execution_count": 57,
   "metadata": {},
   "outputs": [
    {
     "data": {
      "text/plain": [
       "(tensor([-0.9499,  0.0202,  0.0202,  0.0202,  0.8728,  0.0202,  0.0202,  0.0202,\n",
       "          0.0202,  0.0202,  0.0202,  0.0202,  0.0202, -0.2175,  0.0202,  0.0202,\n",
       "         -0.1284,  0.0202,  0.0202,  0.0106,  0.0202], device='cuda:0',\n",
       "        grad_fn=<SqueezeBackward0>),\n",
       " tensor([3.5439e-02, 1.4620e+01, 1.1734e+01, 1.0023e+01, 5.0288e-02, 4.0517e+00,\n",
       "         1.5869e-01, 1.2491e-01, 9.0505e-02, 8.6849e-02, 4.9222e-02, 5.7805e-02,\n",
       "         4.0537e-02, 2.2661e-02, 3.5357e-02, 2.2699e-02, 3.9727e-03, 1.5552e-02,\n",
       "         1.1265e-02, 2.7205e-03, 7.2542e-03], device='cuda:0',\n",
       "        grad_fn=<SqueezeBackward0>))"
      ]
     },
     "execution_count": 57,
     "metadata": {},
     "output_type": "execute_result"
    }
   ],
   "source": [
    "loaded_model.predict(test_x[:1].to(Device))"
   ]
  },
  {
   "cell_type": "code",
   "execution_count": 50,
   "metadata": {},
   "outputs": [
    {
     "data": {
      "text/plain": [
       "tensor([[3.6700, 4.8642, 1.4330, 4.7406, 2.8699, 0.6171, 3.0394, 3.4495, 4.7810,\n",
       "         1.8129]])"
      ]
     },
     "execution_count": 50,
     "metadata": {},
     "output_type": "execute_result"
    }
   ],
   "source": [
    "test_x[:1]"
   ]
  },
  {
   "cell_type": "code",
   "execution_count": 37,
   "metadata": {},
   "outputs": [
    {
     "data": {
      "text/plain": [
       "tensor([[3.6700, 4.8642, 1.4330, 4.7406, 2.8699, 0.6171, 3.0394, 3.4495, 4.7810,\n",
       "         1.8129]], device='cuda:0')"
      ]
     },
     "execution_count": 37,
     "metadata": {},
     "output_type": "execute_result"
    }
   ],
   "source": [
    "test_x[:1].to(Device)"
   ]
  },
  {
   "cell_type": "code",
   "execution_count": 56,
   "metadata": {},
   "outputs": [
    {
     "data": {
      "text/plain": [
       "(tensor([-0.9336,  0.0187,  0.0187,  0.0187,  0.8132,  0.0187,  0.0187,  0.0187,\n",
       "          0.0187,  0.0187,  0.0187,  0.0187,  0.0187, -0.2040,  0.0187,  0.0187,\n",
       "         -0.1183,  0.0187,  0.0187,  0.0135,  0.0187], device='cuda:0',\n",
       "        grad_fn=<SqueezeBackward0>),\n",
       " tensor([3.5331e-02, 1.4620e+01, 1.1734e+01, 1.0023e+01, 5.0043e-02, 4.0517e+00,\n",
       "         1.5869e-01, 1.2491e-01, 9.0505e-02, 8.6849e-02, 4.9222e-02, 5.7805e-02,\n",
       "         4.0537e-02, 2.2568e-02, 3.5357e-02, 2.2699e-02, 3.9456e-03, 1.5552e-02,\n",
       "         1.1265e-02, 2.7104e-03, 7.2542e-03], device='cuda:0',\n",
       "        grad_fn=<SqueezeBackward0>))"
      ]
     },
     "execution_count": 56,
     "metadata": {},
     "output_type": "execute_result"
    }
   ],
   "source": [
    "DGP_2.predict(test_x[:1].to(Device))"
   ]
  },
  {
   "cell_type": "code",
   "execution_count": 71,
   "metadata": {},
   "outputs": [
    {
     "data": {
      "text/plain": [
       "tensor([-0.9575,  0.0203,  0.0203,  0.0203,  0.8253,  0.0203,  0.0203,  0.0203,\n",
       "         0.0203,  0.0203,  0.0203,  0.0203,  0.0203, -0.2080,  0.0203,  0.0203,\n",
       "        -0.1242,  0.0203,  0.0203,  0.0179,  0.0203], device='cuda:0',\n",
       "       grad_fn=<SqueezeBackward0>)"
      ]
     },
     "execution_count": 71,
     "metadata": {},
     "output_type": "execute_result"
    }
   ],
   "source": [
    "DGP_2.eval()\n",
    "DGP_2.likelihood.eval()\n",
    "\n",
    "\n",
    "mean, var = DGP_2.predict(test_x[:1].to(Device))\n",
    "mean"
   ]
  },
  {
   "cell_type": "code",
   "execution_count": 72,
   "metadata": {},
   "outputs": [
    {
     "data": {
      "text/plain": [
       "OrderedDict([('hidden_layer_1.variational_strategy.inducing_points',\n",
       "              tensor([[[ 5.1397,  5.7806,  4.1946,  ...,  0.0930,  1.8100,  5.9063],\n",
       "                       [ 1.4916,  1.0533,  2.2086,  ...,  5.3225,  2.0638,  3.1021],\n",
       "                       [ 2.6889,  0.9007,  0.3010,  ...,  3.8687,  2.6669,  0.8021],\n",
       "                       ...,\n",
       "                       [-3.7203, -0.7093, -2.3237,  ..., -1.2736,  1.3199,  4.2071],\n",
       "                       [-2.0169,  1.5574, -5.8672,  ..., -2.7132,  4.6708,  1.3651],\n",
       "                       [-1.6703,  3.9795,  1.9985,  ..., -5.9495,  7.9066,  5.4192]],\n",
       "              \n",
       "                      [[ 1.1644,  1.0673,  4.0660,  ...,  3.3011,  2.2568, -0.3824],\n",
       "                       [ 3.0885,  4.5404,  5.7173,  ...,  4.1927,  0.2847,  2.4185],\n",
       "                       [ 3.0253,  2.5651,  3.9566,  ...,  3.2017,  1.2977,  2.8559],\n",
       "                       ...,\n",
       "                       [-0.3813, -1.5167,  3.7336,  ..., -7.7186,  9.0799, -1.5754],\n",
       "                       [ 6.1587,  1.0001,  4.1930,  ..., 11.7923, -9.2047, -2.7237],\n",
       "                       [ 1.3144,  7.5970,  2.4664,  ..., -1.7701, 13.7442, -0.3695]],\n",
       "              \n",
       "                      [[ 5.5103,  4.4836,  2.9816,  ...,  2.1010, -1.0049,  4.0515],\n",
       "                       [ 0.1222,  5.0612,  7.7728,  ..., -0.4875,  1.3315,  1.6427],\n",
       "                       [ 3.7567,  0.2477,  1.0559,  ...,  1.8035,  1.6149,  1.8055],\n",
       "                       ...,\n",
       "                       [ 5.0231,  1.1154, 12.5913,  ...,  5.9757, -0.3405,  5.4728],\n",
       "                       [-1.7204,  0.8299,  0.0226,  ...,  1.5780,  2.0589,  1.2130],\n",
       "                       [ 0.1167,  0.4639,  9.0632,  ...,  4.8420,  1.2544, 11.9291]],\n",
       "              \n",
       "                      ...,\n",
       "              \n",
       "                      [[ 3.9412,  4.5891,  4.0436,  ...,  4.4889,  0.7204,  3.9177],\n",
       "                       [ 2.8356,  4.5655,  5.0768,  ...,  0.1856,  4.0076,  4.0030],\n",
       "                       [ 4.8729,  1.5551,  4.3232,  ...,  2.6027,  2.4149,  3.5060],\n",
       "                       ...,\n",
       "                       [-0.1124,  0.5597,  3.2465,  ...,  3.5395,  2.4229,  2.2151],\n",
       "                       [ 4.2324,  0.5672,  2.4374,  ...,  1.0780,  0.8985,  4.9041],\n",
       "                       [ 2.9504,  1.0719,  0.7531,  ...,  4.3495,  1.8531,  0.5347]],\n",
       "              \n",
       "                      [[ 1.2869, -0.1084,  4.0983,  ...,  4.0212, -0.5958,  2.1558],\n",
       "                       [ 4.8175,  2.1226,  3.7043,  ...,  3.3110,  3.1767,  2.3336],\n",
       "                       [ 1.6270,  2.9574, -0.5223,  ..., -0.6683,  1.1412,  4.7191],\n",
       "                       ...,\n",
       "                       [ 1.8159,  5.2809,  2.1648,  ...,  1.3188, -0.0346,  2.5519],\n",
       "                       [ 3.5988,  1.9755,  2.7027,  ...,  1.5703, -0.2870,  1.8851],\n",
       "                       [ 2.9589,  4.6307,  1.4957,  ...,  1.2606,  0.3600,  5.1840]],\n",
       "              \n",
       "                      [[ 1.1351,  3.7197,  3.0357,  ...,  2.3321,  3.5425,  1.7999],\n",
       "                       [ 3.2565,  2.3114,  1.7323,  ...,  2.7051,  2.0011,  1.6525],\n",
       "                       [-2.8428,  3.3105, -0.2369,  ...,  5.4338, -6.2399,  9.9318],\n",
       "                       ...,\n",
       "                       [ 9.2373, 10.2732,  1.7921,  ..., -1.8710,  0.8056,  4.8575],\n",
       "                       [ 4.0964, 12.9683,  0.1966,  ...,  6.6295,  2.5446,  4.9666],\n",
       "                       [ 9.8000, -4.2486,  6.1817,  ..., -0.1665,  1.7256,  2.5509]]],\n",
       "                     device='cuda:0')),\n",
       "             ('hidden_layer_1.variational_strategy.variational_params_initialized',\n",
       "              tensor(1, device='cuda:0')),\n",
       "             ('hidden_layer_1.variational_strategy.updated_strategy',\n",
       "              tensor(True, device='cuda:0')),\n",
       "             ('hidden_layer_1.variational_strategy._variational_distribution.variational_mean',\n",
       "              tensor([[ 1.8177e+00, -1.1014e+00, -1.8735e+00,  ..., -2.1301e-01,\n",
       "                        1.0126e-01,  1.0665e-01],\n",
       "                      [-5.2678e-02, -6.4006e-02, -3.5226e-01,  ..., -7.5240e-02,\n",
       "                       -9.1968e-02, -2.0002e-02],\n",
       "                      [ 8.3665e-01,  1.8790e+00, -6.7678e-01,  ...,  4.1085e-02,\n",
       "                        7.1085e-02, -1.6092e-01],\n",
       "                      ...,\n",
       "                      [ 4.0008e-03, -2.0572e-03,  8.4430e-04,  ...,  7.6249e-06,\n",
       "                       -7.8656e-04,  1.2899e-02],\n",
       "                      [-3.6129e-03, -2.3222e-02, -5.1091e-03,  ...,  4.0492e-03,\n",
       "                        1.2365e-02, -1.8171e-03],\n",
       "                      [-2.7031e-01, -1.9115e+00,  5.5055e+00,  ...,  2.6859e-01,\n",
       "                        6.7767e-02,  7.8746e-02]], device='cuda:0')),\n",
       "             ('hidden_layer_1.variational_strategy._variational_distribution.chol_variational_covar',\n",
       "              tensor([[[ 9.6382e-02,  0.0000e+00,  0.0000e+00,  ...,  0.0000e+00,\n",
       "                         0.0000e+00,  0.0000e+00],\n",
       "                       [-2.8342e-02,  8.4395e-02,  0.0000e+00,  ...,  0.0000e+00,\n",
       "                         0.0000e+00,  0.0000e+00],\n",
       "                       [ 1.8858e-02, -4.6208e-02,  4.5211e-02,  ...,  0.0000e+00,\n",
       "                         0.0000e+00,  0.0000e+00],\n",
       "                       ...,\n",
       "                       [-4.8255e-03, -3.2209e-02,  9.2229e-02,  ...,  9.9135e-01,\n",
       "                         0.0000e+00,  0.0000e+00],\n",
       "                       [ 2.2051e-03, -1.0405e-02, -1.5316e-02,  ..., -1.4755e-03,\n",
       "                         1.0000e+00,  0.0000e+00],\n",
       "                       [ 5.7374e-03,  9.4351e-03, -1.3535e-02,  ..., -7.6302e-04,\n",
       "                        -4.5858e-04,  9.9128e-01]],\n",
       "              \n",
       "                      [[ 9.2776e-02,  0.0000e+00,  0.0000e+00,  ...,  0.0000e+00,\n",
       "                         0.0000e+00,  0.0000e+00],\n",
       "                       [-4.8718e-02,  1.0874e-01,  0.0000e+00,  ...,  0.0000e+00,\n",
       "                         0.0000e+00,  0.0000e+00],\n",
       "                       [-3.9593e-02, -7.6503e-02,  9.5130e-02,  ...,  0.0000e+00,\n",
       "                         0.0000e+00,  0.0000e+00],\n",
       "                       ...,\n",
       "                       [ 3.7650e-03,  6.1279e-03,  1.4250e-01,  ...,  9.9997e-01,\n",
       "                         0.0000e+00,  0.0000e+00],\n",
       "                       [ 1.8256e-03,  1.2701e-02, -1.0929e-02,  ..., -9.1461e-04,\n",
       "                         9.9949e-01,  0.0000e+00],\n",
       "                       [ 1.4922e-02,  2.8227e-02,  1.2884e-02,  ..., -6.3456e-03,\n",
       "                         1.2537e-03,  9.9921e-01]],\n",
       "              \n",
       "                      [[ 2.3253e-01,  0.0000e+00,  0.0000e+00,  ...,  0.0000e+00,\n",
       "                         0.0000e+00,  0.0000e+00],\n",
       "                       [-1.4260e-01,  4.8046e-01,  0.0000e+00,  ...,  0.0000e+00,\n",
       "                         0.0000e+00,  0.0000e+00],\n",
       "                       [-1.0433e-01,  6.7039e-02,  8.2967e-02,  ...,  0.0000e+00,\n",
       "                         0.0000e+00,  0.0000e+00],\n",
       "                       ...,\n",
       "                       [-9.2853e-03, -1.7468e-02, -6.4973e-03,  ...,  9.9991e-01,\n",
       "                         0.0000e+00,  0.0000e+00],\n",
       "                       [ 2.3254e-03,  1.3082e-02, -2.0616e-02,  ...,  5.2283e-05,\n",
       "                         9.9993e-01,  0.0000e+00],\n",
       "                       [ 3.0617e-02, -4.9231e-02,  9.7800e-02,  ..., -5.4333e-04,\n",
       "                         9.1283e-05,  9.9478e-01]],\n",
       "              \n",
       "                      ...,\n",
       "              \n",
       "                      [[ 9.9999e-01,  0.0000e+00,  0.0000e+00,  ...,  0.0000e+00,\n",
       "                         0.0000e+00,  0.0000e+00],\n",
       "                       [-4.6695e-05,  1.0000e+00,  0.0000e+00,  ...,  0.0000e+00,\n",
       "                         0.0000e+00,  0.0000e+00],\n",
       "                       [-3.1786e-06, -4.2505e-06,  1.0000e+00,  ...,  0.0000e+00,\n",
       "                         0.0000e+00,  0.0000e+00],\n",
       "                       ...,\n",
       "                       [-5.4120e-07,  4.7899e-10,  1.7903e-06,  ...,  1.0017e+00,\n",
       "                         0.0000e+00,  0.0000e+00],\n",
       "                       [-1.1313e-06, -6.1540e-05,  3.1747e-06,  ..., -3.1483e-04,\n",
       "                         1.0000e+00,  0.0000e+00],\n",
       "                       [ 7.4530e-11,  1.2320e-11, -5.0883e-06,  ..., -3.0194e-02,\n",
       "                         3.0223e-06,  1.0000e+00]],\n",
       "              \n",
       "                      [[ 1.0018e+00,  0.0000e+00,  0.0000e+00,  ...,  0.0000e+00,\n",
       "                         0.0000e+00,  0.0000e+00],\n",
       "                       [ 4.0060e-04,  1.0037e+00,  0.0000e+00,  ...,  0.0000e+00,\n",
       "                         0.0000e+00,  0.0000e+00],\n",
       "                       [ 1.0241e-04, -5.8786e-08,  1.0022e+00,  ...,  0.0000e+00,\n",
       "                         0.0000e+00,  0.0000e+00],\n",
       "                       ...,\n",
       "                       [-1.3317e-07,  6.2725e-03,  2.5691e-03,  ...,  9.9997e-01,\n",
       "                         0.0000e+00,  0.0000e+00],\n",
       "                       [ 4.9060e-05,  1.6890e-03, -3.7921e-04,  ..., -4.3548e-04,\n",
       "                         9.9469e-01,  0.0000e+00],\n",
       "                       [ 9.7975e-06,  5.3413e-03, -3.0280e-06,  ...,  1.3425e-03,\n",
       "                         3.4392e-07,  1.0002e+00]],\n",
       "              \n",
       "                      [[ 3.1943e-02,  0.0000e+00,  0.0000e+00,  ...,  0.0000e+00,\n",
       "                         0.0000e+00,  0.0000e+00],\n",
       "                       [-4.1519e-03, -3.8637e-02,  0.0000e+00,  ...,  0.0000e+00,\n",
       "                         0.0000e+00,  0.0000e+00],\n",
       "                       [ 3.3192e-02, -1.0210e-02,  8.3652e-01,  ...,  0.0000e+00,\n",
       "                         0.0000e+00,  0.0000e+00],\n",
       "                       ...,\n",
       "                       [ 1.1124e-02,  1.1913e-01,  1.3797e-01,  ...,  1.0026e+00,\n",
       "                         0.0000e+00,  0.0000e+00],\n",
       "                       [-1.2702e-01, -2.6105e-02,  2.3172e-02,  ..., -2.1278e-03,\n",
       "                         1.0009e+00,  0.0000e+00],\n",
       "                       [ 2.2258e-02, -1.3750e-02,  8.0853e-04,  ..., -4.5103e-03,\n",
       "                        -1.2781e-03,  9.9952e-01]]], device='cuda:0')),\n",
       "             ('hidden_layer_1.covar_module.raw_outputscale',\n",
       "              tensor([ -2.0806,  -2.0670,  -2.4232,  -3.1031,  -2.1561, -10.8720,  -3.9349,\n",
       "                      -10.5194,  -4.7802,  -1.9408], device='cuda:0')),\n",
       "             ('hidden_layer_1.covar_module.base_kernel.raw_lengthscale',\n",
       "              tensor([[[ 1.8355e+01,  1.7497e+01,  1.5369e+00,  3.2149e+00,  2.9138e+01,\n",
       "                         2.8071e+01,  2.7328e+01,  2.0618e+01,  3.5362e+01,  3.2959e+01]],\n",
       "              \n",
       "                      [[ 3.6035e+01,  3.5607e+01,  3.4048e+01,  4.0441e+01,  5.8955e+00,\n",
       "                         6.3715e+00,  6.9352e+00,  1.0809e+01,  3.6423e+00,  3.6587e+00]],\n",
       "              \n",
       "                      [[ 1.8732e+01,  1.9975e+01,  4.2609e+00,  3.9142e+00,  4.1251e+00,\n",
       "                         1.7035e+00,  1.2851e+01,  1.6116e+01,  1.4947e+01,  2.3420e+01]],\n",
       "              \n",
       "                      [[-7.8230e-02,  5.4879e-01,  8.0039e-01,  1.1570e-01,  7.9005e-01,\n",
       "                         6.5063e-02,  3.1282e-01,  1.1866e-01,  5.4235e-01,  8.9039e-02]],\n",
       "              \n",
       "                      [[ 6.7415e+00,  5.7834e+00,  8.9688e+00,  7.4282e+00,  7.5306e+00,\n",
       "                         1.0786e+01,  5.2541e+00,  4.2690e+00,  8.3517e+00,  1.4300e+01]],\n",
       "              \n",
       "                      [[-3.0296e-01, -6.8391e-01, -4.1192e-01, -1.1397e+00, -1.0325e+00,\n",
       "                        -1.0162e+00, -9.1835e-02, -1.1844e-01, -1.1385e+00, -5.5725e-01]],\n",
       "              \n",
       "                      [[-1.4487e-01,  9.1392e-01,  1.6827e-01, -2.7447e-01,  1.6006e+00,\n",
       "                        -1.4891e-01,  5.8175e-01,  4.0626e-01,  1.4977e+00,  6.7147e-01]],\n",
       "              \n",
       "                      [[-8.4464e-03, -1.3320e+00,  5.6550e-01, -3.6876e-01, -1.1296e-01,\n",
       "                        -5.2496e-01, -1.1704e+00, -1.5685e-01, -5.4026e-01, -1.3462e-01]],\n",
       "              \n",
       "                      [[ 6.8866e-01,  9.0217e-01,  4.5735e-01,  3.6656e-01,  9.2836e-01,\n",
       "                         1.5736e-01,  6.5649e-01,  9.7731e-01,  6.1781e-01,  2.1279e-01]],\n",
       "              \n",
       "                      [[ 1.5518e+00,  2.4754e+00,  2.2787e+01,  3.1040e+01,  2.1106e+01,\n",
       "                         2.7790e+01,  3.3728e+01,  3.7999e+01,  2.7820e+01,  3.7176e+01]]],\n",
       "                     device='cuda:0')),\n",
       "             ('hidden_layer_1.covar_module.base_kernel.raw_lengthscale_constraint.lower_bound',\n",
       "              tensor(0., device='cuda:0')),\n",
       "             ('hidden_layer_1.covar_module.base_kernel.raw_lengthscale_constraint.upper_bound',\n",
       "              tensor(inf, device='cuda:0')),\n",
       "             ('hidden_layer_1.covar_module.raw_outputscale_constraint.lower_bound',\n",
       "              tensor(0., device='cuda:0')),\n",
       "             ('hidden_layer_1.covar_module.raw_outputscale_constraint.upper_bound',\n",
       "              tensor(inf, device='cuda:0')),\n",
       "             ('last_layer.variational_strategy.inducing_points',\n",
       "              tensor([[[ 8.2066,  4.9105,  4.5737,  ..., -2.6004,  5.0487,  4.5309],\n",
       "                       [-1.9846,  6.0960,  9.4669,  ..., 10.9305,  5.5279,  3.3374],\n",
       "                       [ 0.2440,  5.4285,  6.0796,  ...,  3.7344,  7.2735,  9.3143],\n",
       "                       ...,\n",
       "                       [12.2405,  5.4797,  5.0282,  ...,  3.8446,  2.5897,  5.0304],\n",
       "                       [ 1.2207,  6.9488,  8.3634,  ...,  2.4494, -2.4385,  2.0403],\n",
       "                       [-8.8214, -1.0606,  0.6135,  ...,  0.4961,  0.1694,  1.9778]],\n",
       "              \n",
       "                      [[ 4.9174,  3.1862,  0.1418,  ...,  3.5732,  2.8510,  2.9669],\n",
       "                       [ 4.4946,  0.6138,  3.1709,  ...,  2.0910,  4.3425,  0.2484],\n",
       "                       [ 2.5622,  1.7565,  1.2242,  ...,  1.7833,  2.5003,  3.2187],\n",
       "                       ...,\n",
       "                       [ 2.9735,  0.6101,  2.5097,  ...,  0.4931,  3.9767,  3.2133],\n",
       "                       [ 4.7437,  3.7212,  0.1194,  ...,  1.9625,  1.4746,  3.3229],\n",
       "                       [ 0.3273,  2.8472,  0.8317,  ...,  3.2383,  3.5235,  1.5618]],\n",
       "              \n",
       "                      [[ 1.9845,  4.0020,  3.6185,  ...,  4.8657,  3.0515,  1.0594],\n",
       "                       [ 1.2010,  3.8983,  1.4537,  ...,  1.9382,  0.8694,  0.5414],\n",
       "                       [ 0.8363,  1.4728,  1.5814,  ...,  3.8421,  3.5199,  0.2888],\n",
       "                       ...,\n",
       "                       [ 3.5623,  2.9517,  3.1583,  ...,  3.7913,  2.1768,  3.8418],\n",
       "                       [ 4.2926,  4.9123,  0.4763,  ...,  2.8509,  3.6632,  1.9538],\n",
       "                       [ 2.6277,  4.2621,  2.4203,  ...,  3.8488,  0.2676,  3.9256]],\n",
       "              \n",
       "                      ...,\n",
       "              \n",
       "                      [[ 1.9917,  3.0844,  1.4513,  ...,  0.4041,  0.2640,  3.2201],\n",
       "                       [ 4.5636,  2.0355,  3.7497,  ...,  2.2335,  0.1128,  0.6955],\n",
       "                       [ 0.3240,  2.6072,  0.5074,  ...,  1.8021,  4.3664,  0.1596],\n",
       "                       ...,\n",
       "                       [ 3.7373,  0.6393,  0.4410,  ...,  3.2380,  3.2739,  2.4624],\n",
       "                       [ 0.9836,  0.8066,  3.9054,  ...,  3.8461,  4.3487,  3.0549],\n",
       "                       [ 1.4914,  4.2378,  3.8039,  ...,  4.1433,  4.0175,  0.3114]],\n",
       "              \n",
       "                      [[ 0.9989,  7.5631,  7.2995,  ..., -0.2915,  1.5479,  6.9378],\n",
       "                       [ 0.4946,  4.7595,  5.6324,  ...,  5.5874, 10.4693,  6.8212],\n",
       "                       [-0.7224,  5.4930,  5.8360,  ...,  6.5195,  9.1309,  2.9411],\n",
       "                       ...,\n",
       "                       [ 9.0051,  5.5461,  4.7910,  ..., 11.4847, -1.6783,  9.6980],\n",
       "                       [ 2.4389, -4.7231,  0.5403,  ...,  0.4147, -0.0703, -1.2940],\n",
       "                       [-2.2091,  9.8293, -6.9994,  ..., -2.6517,  2.9825,  2.3276]],\n",
       "              \n",
       "                      [[ 1.2960,  3.4894,  0.7335,  ...,  1.3372,  3.4408,  0.2579],\n",
       "                       [ 1.1221,  4.2465,  1.6992,  ...,  2.8108,  1.2890,  1.0527],\n",
       "                       [ 4.6479,  3.8555,  2.8634,  ...,  1.1514,  0.3113,  1.9811],\n",
       "                       ...,\n",
       "                       [ 3.2168,  3.8291,  4.8513,  ...,  4.6018,  0.7521,  0.2004],\n",
       "                       [ 2.5651,  0.8421,  1.1515,  ...,  2.3026,  3.5314,  0.6354],\n",
       "                       [ 3.1439,  4.2711,  4.0865,  ...,  0.3704,  3.4160,  1.3705]]],\n",
       "                     device='cuda:0')),\n",
       "             ('last_layer.variational_strategy.variational_params_initialized',\n",
       "              tensor(1, device='cuda:0')),\n",
       "             ('last_layer.variational_strategy.updated_strategy',\n",
       "              tensor(True, device='cuda:0')),\n",
       "             ('last_layer.variational_strategy._variational_distribution.variational_mean',\n",
       "              tensor([[ 1.5078e+00,  7.1102e-02, -3.3379e-02,  ..., -1.4685e-02,\n",
       "                        1.2457e-02,  6.0083e-01],\n",
       "                      [-1.3798e-07,  3.2169e-31,  2.0253e-13,  ..., -8.9821e-17,\n",
       "                       -7.1098e-06,  2.5823e-18],\n",
       "                      [ 1.9147e-30,  2.2949e-10,  1.4335e-22,  ..., -1.9868e-25,\n",
       "                        1.0577e-26, -3.3361e-22],\n",
       "                      ...,\n",
       "                      [-4.2901e-05, -1.9388e-12,  1.7983e-17,  ..., -1.7846e-10,\n",
       "                       -1.4742e-11,  7.6067e-14],\n",
       "                      [ 1.3941e-02, -4.3183e-01,  1.4285e-02,  ..., -5.8829e-03,\n",
       "                        1.0372e+00, -1.6555e-02],\n",
       "                      [-8.8910e-14, -1.5134e-14,  6.4966e-17,  ..., -2.7115e-13,\n",
       "                        3.4841e-13,  4.3321e-16]], device='cuda:0')),\n",
       "             ('last_layer.variational_strategy._variational_distribution.chol_variational_covar',\n",
       "              tensor([[[ 1.0062e+00,  0.0000e+00,  0.0000e+00,  ...,  0.0000e+00,\n",
       "                         0.0000e+00,  0.0000e+00],\n",
       "                       [ 4.8331e-03,  1.0001e+00,  0.0000e+00,  ...,  0.0000e+00,\n",
       "                         0.0000e+00,  0.0000e+00],\n",
       "                       [-2.4778e-02, -4.6156e-04,  9.9985e-01,  ...,  0.0000e+00,\n",
       "                         0.0000e+00,  0.0000e+00],\n",
       "                       ...,\n",
       "                       [ 1.7721e-02, -3.2504e-04, -1.6513e-04,  ...,  1.0005e+00,\n",
       "                         0.0000e+00,  0.0000e+00],\n",
       "                       [ 5.2173e-03,  1.0387e-04,  3.6882e-05,  ...,  6.1614e-03,\n",
       "                         9.9955e-01,  0.0000e+00],\n",
       "                       [ 8.1536e-02,  8.4890e-04,  8.4668e-04,  ..., -4.5068e-03,\n",
       "                        -1.1761e-02,  5.7839e-01]],\n",
       "              \n",
       "                      [[ 1.0000e+00,  0.0000e+00,  0.0000e+00,  ...,  0.0000e+00,\n",
       "                         0.0000e+00,  0.0000e+00],\n",
       "                       [-1.5005e-10,  1.0000e+00,  0.0000e+00,  ...,  0.0000e+00,\n",
       "                         0.0000e+00,  0.0000e+00],\n",
       "                       [ 4.8727e-04,  5.5647e-08,  1.0000e+00,  ...,  0.0000e+00,\n",
       "                         0.0000e+00,  0.0000e+00],\n",
       "                       ...,\n",
       "                       [-3.4691e-05,  9.2675e-08, -8.7375e-10,  ...,  1.0000e+00,\n",
       "                         0.0000e+00,  0.0000e+00],\n",
       "                       [-1.7108e-04,  6.0525e-06,  9.8517e-05,  ..., -1.7778e-04,\n",
       "                         1.0000e+00,  0.0000e+00],\n",
       "                       [ 1.7415e-10,  2.4997e-04, -1.2884e-10,  ..., -2.6766e-08,\n",
       "                         8.2413e-04,  1.0000e+00]],\n",
       "              \n",
       "                      [[ 1.0000e+00,  0.0000e+00,  0.0000e+00,  ...,  0.0000e+00,\n",
       "                         0.0000e+00,  0.0000e+00],\n",
       "                       [ 8.3693e-14,  1.0000e+00,  0.0000e+00,  ...,  0.0000e+00,\n",
       "                         0.0000e+00,  0.0000e+00],\n",
       "                       [ 1.5591e-18, -1.3019e-12,  1.0000e+00,  ...,  0.0000e+00,\n",
       "                         0.0000e+00,  0.0000e+00],\n",
       "                       ...,\n",
       "                       [ 0.0000e+00,  2.4307e-04,  4.4490e-11,  ...,  1.0000e+00,\n",
       "                         0.0000e+00,  0.0000e+00],\n",
       "                       [ 1.0504e-10,  7.1401e-09, -1.6557e-08,  ..., -3.2455e-03,\n",
       "                         1.0000e+00,  0.0000e+00],\n",
       "                       [ 4.7530e-19,  3.1245e-05,  1.3447e-03,  ..., -1.0660e-04,\n",
       "                         1.1135e-11,  1.0000e+00]],\n",
       "              \n",
       "                      ...,\n",
       "              \n",
       "                      [[ 1.0000e+00,  0.0000e+00,  0.0000e+00,  ...,  0.0000e+00,\n",
       "                         0.0000e+00,  0.0000e+00],\n",
       "                       [ 8.5611e-08,  1.0000e+00,  0.0000e+00,  ...,  0.0000e+00,\n",
       "                         0.0000e+00,  0.0000e+00],\n",
       "                       [ 5.1835e-03,  4.9666e-03,  1.0000e+00,  ...,  0.0000e+00,\n",
       "                         0.0000e+00,  0.0000e+00],\n",
       "                       ...,\n",
       "                       [ 7.8656e-08, -6.9066e-06, -1.2270e-13,  ...,  1.0000e+00,\n",
       "                         0.0000e+00,  0.0000e+00],\n",
       "                       [ 3.5015e-09,  1.0170e-11,  2.7758e-10,  ..., -2.3833e-13,\n",
       "                         1.0000e+00,  0.0000e+00],\n",
       "                       [ 2.2196e-11,  6.7014e-13, -4.9374e-04,  ...,  6.8903e-05,\n",
       "                         1.6167e-03,  1.0000e+00]],\n",
       "              \n",
       "                      [[ 1.0001e+00,  0.0000e+00,  0.0000e+00,  ...,  0.0000e+00,\n",
       "                         0.0000e+00,  0.0000e+00],\n",
       "                       [ 2.3346e-04,  9.9810e-01,  0.0000e+00,  ...,  0.0000e+00,\n",
       "                         0.0000e+00,  0.0000e+00],\n",
       "                       [-1.4253e-05,  2.6130e-03,  9.9987e-01,  ...,  0.0000e+00,\n",
       "                         0.0000e+00,  0.0000e+00],\n",
       "                       ...,\n",
       "                       [-1.8522e-05, -4.7294e-05,  3.7434e-05,  ...,  1.0037e+00,\n",
       "                         0.0000e+00,  0.0000e+00],\n",
       "                       [-2.5919e-03,  3.0412e-03,  4.4418e-04,  ...,  1.2450e-04,\n",
       "                         3.6752e-01,  0.0000e+00],\n",
       "                       [ 4.0800e-04, -1.7443e-04,  1.2823e-05,  ..., -3.9019e-04,\n",
       "                        -4.6487e-04,  1.0000e+00]],\n",
       "              \n",
       "                      [[ 1.0000e+00,  0.0000e+00,  0.0000e+00,  ...,  0.0000e+00,\n",
       "                         0.0000e+00,  0.0000e+00],\n",
       "                       [ 5.1672e-04,  1.0000e+00,  0.0000e+00,  ...,  0.0000e+00,\n",
       "                         0.0000e+00,  0.0000e+00],\n",
       "                       [-3.0960e-12,  1.2456e-08,  1.0000e+00,  ...,  0.0000e+00,\n",
       "                         0.0000e+00,  0.0000e+00],\n",
       "                       ...,\n",
       "                       [ 3.2548e-05, -7.3585e-04, -1.9286e-02,  ...,  1.0000e+00,\n",
       "                         0.0000e+00,  0.0000e+00],\n",
       "                       [ 1.5125e-07, -7.8185e-10,  2.2644e-03,  ..., -2.5922e-06,\n",
       "                         1.0000e+00,  0.0000e+00],\n",
       "                       [ 4.4824e-03, -2.7621e-07, -2.8793e-07,  ..., -6.0825e-07,\n",
       "                        -2.7078e-09,  1.0000e+00]]], device='cuda:0')),\n",
       "             ('last_layer.mean_module.weights',\n",
       "              tensor([[ 0.0071],\n",
       "                      [ 0.0013],\n",
       "                      [ 0.0326],\n",
       "                      [-0.0074],\n",
       "                      [-0.0454],\n",
       "                      [ 0.0284],\n",
       "                      [-0.0010],\n",
       "                      [ 0.0355],\n",
       "                      [-0.0056],\n",
       "                      [ 0.0160]], device='cuda:0')),\n",
       "             ('last_layer.mean_module.bias',\n",
       "              tensor([-0.0082], device='cuda:0')),\n",
       "             ('last_layer.covar_module.raw_outputscale',\n",
       "              tensor([ -0.7644,  -6.7488,  -6.8987,  -7.0258,   0.7769,  -7.8470, -10.9137,\n",
       "                      -11.2584, -11.4704, -11.6847, -11.9933, -12.0050, -12.2829,  -3.5401,\n",
       "                      -12.4431, -12.8241,  -3.1331, -13.3081, -13.4679,  -4.4916, -13.9971],\n",
       "                     device='cuda:0')),\n",
       "             ('last_layer.covar_module.base_kernel.raw_lengthscale',\n",
       "              tensor([[[ 8.0487e+00,  1.5167e+00,  1.8565e+01,  1.5411e+01,  2.0323e+01,\n",
       "                         1.6754e+01,  2.4286e+01,  1.5542e+01,  1.9474e+01,  5.9916e+00]],\n",
       "              \n",
       "                      [[-5.8408e-01, -3.7570e-01, -4.7390e-01, -1.5350e-01, -4.0725e-01,\n",
       "                        -5.2093e-01,  4.7450e-01,  1.5924e-01, -5.8132e-01, -2.1219e-01]],\n",
       "              \n",
       "                      [[-1.4642e-01, -3.3936e-01, -5.4539e-01, -3.3711e-02, -2.2871e-01,\n",
       "                        -2.6491e-01, -5.4875e-01, -3.2965e-01, -2.0706e-01, -6.9379e-02]],\n",
       "              \n",
       "                      [[ 1.0921e-02, -3.7628e-01, -2.6896e-01, -1.5714e-01, -9.7276e-02,\n",
       "                        -1.1467e-01, -1.3773e-01, -2.5108e-01, -6.7957e-02, -4.5529e-02]],\n",
       "              \n",
       "                      [[ 3.2713e+00,  1.1357e+01,  1.2062e+01,  1.3209e+01,  1.5230e+01,\n",
       "                         8.8350e+00,  1.0932e+01,  1.2406e+01,  1.2869e+01,  2.6277e+00]],\n",
       "              \n",
       "                      [[-2.9670e-01, -3.5295e-01, -5.8586e-01, -4.4153e-01, -2.6846e-01,\n",
       "                        -5.5166e-01, -5.5291e-01, -6.4625e-01, -6.7951e-01, -4.9481e-01]],\n",
       "              \n",
       "                      [[-1.4229e-01, -4.8639e-01, -3.7554e-01, -8.0738e-01, -2.4039e-01,\n",
       "                        -1.1768e-01, -4.9502e-02,  1.9412e-01, -6.7827e-01, -7.4115e-01]],\n",
       "              \n",
       "                      [[-5.6965e-01, -5.1635e-01, -6.0171e-01, -5.9140e-01, -6.0767e-01,\n",
       "                        -1.1457e-01, -5.5400e-01, -4.7615e-01, -5.6197e-01, -4.0425e-01]],\n",
       "              \n",
       "                      [[-9.9838e-02,  2.8138e-01,  3.3633e-01,  2.7595e-01, -1.1572e-01,\n",
       "                        -2.9660e-02,  4.1709e-01,  3.8346e-01,  4.7303e-01,  8.6189e-02]],\n",
       "              \n",
       "                      [[-2.7800e-01, -3.7597e-01, -3.0371e-01, -1.6996e-01, -3.7450e-01,\n",
       "                        -3.6541e-02, -3.5903e-01, -2.3259e-01, -2.2931e-01, -3.2778e-01]],\n",
       "              \n",
       "                      [[-2.8631e-01, -1.3478e-01, -3.0879e-01, -7.6036e-02, -1.9374e-01,\n",
       "                        -1.5617e-01, -1.5924e-01, -2.0134e-01, -1.5095e-01, -2.8071e-01]],\n",
       "              \n",
       "                      [[-3.2821e-01, -6.1501e-02, -5.6563e-01, -5.5876e-01, -5.2579e-01,\n",
       "                        -3.2567e-01, -2.9239e-01, -4.2390e-01, -2.9631e-01, -2.7796e-01]],\n",
       "              \n",
       "                      [[-3.4015e-01, -1.0051e-01, -3.1464e-02, -4.4440e-01, -3.8996e-01,\n",
       "                        -2.9470e-01, -4.5061e-01, -3.9874e-01, -2.3419e-01, -1.0544e-01]],\n",
       "              \n",
       "                      [[ 1.8025e+01,  1.4525e+00,  2.4405e+00,  1.3706e+01,  2.6484e+00,\n",
       "                         2.1555e+01,  2.0216e+01,  1.8898e+01,  2.8412e+01,  2.2933e+00]],\n",
       "              \n",
       "                      [[-5.5759e-02, -2.4134e-03,  6.3883e-02,  1.4216e-01,  2.9387e-01,\n",
       "                         1.1756e-01,  6.6349e-02,  1.1300e-01, -8.1288e-02,  9.7787e-02]],\n",
       "              \n",
       "                      [[-6.9829e-02,  8.1755e-02, -4.0927e-02, -2.3888e-01,  1.4346e-01,\n",
       "                        -3.6032e-01, -2.0807e-01, -1.3144e-01, -2.2439e-01,  5.0387e-02]],\n",
       "              \n",
       "                      [[ 2.3678e+00,  1.1994e+01,  3.6270e+00,  2.0713e+01,  2.5753e+00,\n",
       "                         2.5915e+01,  3.3758e+01,  2.3059e+01,  2.8664e+01,  3.2425e+00]],\n",
       "              \n",
       "                      [[-4.2539e-01, -3.2824e-01, -4.0249e-01, -4.8264e-01, -5.8298e-01,\n",
       "                        -4.9423e-01, -5.5332e-01, -3.1575e-01, -4.9905e-01, -4.7496e-01]],\n",
       "              \n",
       "                      [[-2.2276e-02, -1.2928e-01, -3.9663e-01, -1.3327e-01, -3.0189e-02,\n",
       "                        -1.2054e-01, -1.1433e-01, -2.9156e-02, -3.1060e-04, -8.4405e-02]],\n",
       "              \n",
       "                      [[ 3.9478e+00,  3.7075e+00,  1.6026e+00,  2.1489e+01,  3.9763e+00,\n",
       "                         2.3475e+01,  3.3440e+01,  2.5010e+01,  2.6926e+01,  6.2421e+00]],\n",
       "              \n",
       "                      [[ 1.8646e-01, -6.4863e-02,  2.9990e-01,  2.3272e-02,  1.5039e-03,\n",
       "                         5.7205e-02,  1.4027e-01,  5.7022e-02,  4.2638e-02,  2.3592e-01]]],\n",
       "                     device='cuda:0')),\n",
       "             ('last_layer.covar_module.base_kernel.raw_lengthscale_constraint.lower_bound',\n",
       "              tensor(0., device='cuda:0')),\n",
       "             ('last_layer.covar_module.base_kernel.raw_lengthscale_constraint.upper_bound',\n",
       "              tensor(inf, device='cuda:0')),\n",
       "             ('last_layer.covar_module.raw_outputscale_constraint.lower_bound',\n",
       "              tensor(0., device='cuda:0')),\n",
       "             ('last_layer.covar_module.raw_outputscale_constraint.upper_bound',\n",
       "              tensor(inf, device='cuda:0')),\n",
       "             ('likelihood.raw_task_noises',\n",
       "              tensor([ -3.4216,  14.6158,  11.7303,  10.0194,  -3.0608,   4.0311,  -1.7783,\n",
       "                       -2.0394,  -2.3872,  -2.4315,  -3.0422,  -2.8689,  -3.2526,  -3.9514,\n",
       "                       -3.4020,  -3.8966,  -6.7692,  -4.3393,  -4.7429, -10.3248,  -5.3653],\n",
       "                     device='cuda:0')),\n",
       "             ('likelihood.raw_noise', tensor([-6.1236], device='cuda:0')),\n",
       "             ('likelihood.raw_task_noises_constraint.lower_bound',\n",
       "              tensor(1.0000e-04, device='cuda:0')),\n",
       "             ('likelihood.raw_task_noises_constraint.upper_bound',\n",
       "              tensor(inf, device='cuda:0')),\n",
       "             ('likelihood.raw_noise_constraint.lower_bound',\n",
       "              tensor(1.0000e-04, device='cuda:0')),\n",
       "             ('likelihood.raw_noise_constraint.upper_bound',\n",
       "              tensor(inf, device='cuda:0'))])"
      ]
     },
     "execution_count": 72,
     "metadata": {},
     "output_type": "execute_result"
    }
   ],
   "source": [
    "DGP_2.state_dict()"
   ]
  },
  {
   "cell_type": "code",
   "execution_count": 73,
   "metadata": {},
   "outputs": [
    {
     "data": {
      "text/plain": [
       "OrderedDict([('hidden_layer_1.variational_strategy.inducing_points',\n",
       "              tensor([[[ 5.1397,  5.7806,  4.1946,  ...,  0.0930,  1.8100,  5.9063],\n",
       "                       [ 1.4916,  1.0533,  2.2086,  ...,  5.3225,  2.0638,  3.1021],\n",
       "                       [ 2.6889,  0.9007,  0.3010,  ...,  3.8687,  2.6669,  0.8021],\n",
       "                       ...,\n",
       "                       [-3.7203, -0.7093, -2.3237,  ..., -1.2736,  1.3199,  4.2071],\n",
       "                       [-2.0169,  1.5574, -5.8672,  ..., -2.7132,  4.6708,  1.3651],\n",
       "                       [-1.6703,  3.9795,  1.9985,  ..., -5.9495,  7.9066,  5.4192]],\n",
       "              \n",
       "                      [[ 1.1644,  1.0673,  4.0660,  ...,  3.3011,  2.2568, -0.3824],\n",
       "                       [ 3.0885,  4.5404,  5.7173,  ...,  4.1927,  0.2847,  2.4185],\n",
       "                       [ 3.0253,  2.5651,  3.9566,  ...,  3.2017,  1.2977,  2.8559],\n",
       "                       ...,\n",
       "                       [-0.3813, -1.5167,  3.7336,  ..., -7.7186,  9.0799, -1.5754],\n",
       "                       [ 6.1587,  1.0001,  4.1930,  ..., 11.7923, -9.2047, -2.7237],\n",
       "                       [ 1.3144,  7.5970,  2.4664,  ..., -1.7701, 13.7442, -0.3695]],\n",
       "              \n",
       "                      [[ 5.5103,  4.4836,  2.9816,  ...,  2.1010, -1.0049,  4.0515],\n",
       "                       [ 0.1222,  5.0612,  7.7728,  ..., -0.4875,  1.3315,  1.6427],\n",
       "                       [ 3.7567,  0.2477,  1.0559,  ...,  1.8035,  1.6149,  1.8055],\n",
       "                       ...,\n",
       "                       [ 5.0231,  1.1154, 12.5913,  ...,  5.9757, -0.3405,  5.4728],\n",
       "                       [-1.7204,  0.8299,  0.0226,  ...,  1.5780,  2.0589,  1.2130],\n",
       "                       [ 0.1167,  0.4639,  9.0632,  ...,  4.8420,  1.2544, 11.9291]],\n",
       "              \n",
       "                      ...,\n",
       "              \n",
       "                      [[ 3.9412,  4.5891,  4.0436,  ...,  4.4889,  0.7204,  3.9177],\n",
       "                       [ 2.8356,  4.5655,  5.0768,  ...,  0.1856,  4.0076,  4.0030],\n",
       "                       [ 4.8729,  1.5551,  4.3232,  ...,  2.6027,  2.4149,  3.5060],\n",
       "                       ...,\n",
       "                       [-0.1124,  0.5597,  3.2465,  ...,  3.5395,  2.4229,  2.2151],\n",
       "                       [ 4.2324,  0.5672,  2.4374,  ...,  1.0780,  0.8985,  4.9041],\n",
       "                       [ 2.9504,  1.0719,  0.7531,  ...,  4.3495,  1.8531,  0.5347]],\n",
       "              \n",
       "                      [[ 1.2869, -0.1084,  4.0983,  ...,  4.0212, -0.5958,  2.1558],\n",
       "                       [ 4.8175,  2.1226,  3.7043,  ...,  3.3110,  3.1767,  2.3336],\n",
       "                       [ 1.6270,  2.9574, -0.5223,  ..., -0.6683,  1.1412,  4.7191],\n",
       "                       ...,\n",
       "                       [ 1.8159,  5.2809,  2.1648,  ...,  1.3188, -0.0346,  2.5519],\n",
       "                       [ 3.5988,  1.9755,  2.7027,  ...,  1.5703, -0.2870,  1.8851],\n",
       "                       [ 2.9589,  4.6307,  1.4957,  ...,  1.2606,  0.3600,  5.1840]],\n",
       "              \n",
       "                      [[ 1.1351,  3.7197,  3.0357,  ...,  2.3321,  3.5425,  1.7999],\n",
       "                       [ 3.2565,  2.3114,  1.7323,  ...,  2.7051,  2.0011,  1.6525],\n",
       "                       [-2.8428,  3.3105, -0.2369,  ...,  5.4338, -6.2399,  9.9318],\n",
       "                       ...,\n",
       "                       [ 9.2373, 10.2732,  1.7921,  ..., -1.8710,  0.8056,  4.8575],\n",
       "                       [ 4.0964, 12.9683,  0.1966,  ...,  6.6295,  2.5446,  4.9666],\n",
       "                       [ 9.8000, -4.2486,  6.1817,  ..., -0.1665,  1.7256,  2.5509]]],\n",
       "                     device='cuda:0')),\n",
       "             ('hidden_layer_1.variational_strategy.variational_params_initialized',\n",
       "              tensor(1, device='cuda:0')),\n",
       "             ('hidden_layer_1.variational_strategy.updated_strategy',\n",
       "              tensor(True, device='cuda:0')),\n",
       "             ('hidden_layer_1.variational_strategy._variational_distribution.variational_mean',\n",
       "              tensor([[ 1.8177e+00, -1.1014e+00, -1.8735e+00,  ..., -2.1301e-01,\n",
       "                        1.0126e-01,  1.0665e-01],\n",
       "                      [-5.2678e-02, -6.4006e-02, -3.5226e-01,  ..., -7.5240e-02,\n",
       "                       -9.1968e-02, -2.0002e-02],\n",
       "                      [ 8.3665e-01,  1.8790e+00, -6.7678e-01,  ...,  4.1085e-02,\n",
       "                        7.1085e-02, -1.6092e-01],\n",
       "                      ...,\n",
       "                      [ 4.0008e-03, -2.0572e-03,  8.4430e-04,  ...,  7.6249e-06,\n",
       "                       -7.8656e-04,  1.2899e-02],\n",
       "                      [-3.6129e-03, -2.3222e-02, -5.1091e-03,  ...,  4.0492e-03,\n",
       "                        1.2365e-02, -1.8171e-03],\n",
       "                      [-2.7031e-01, -1.9115e+00,  5.5055e+00,  ...,  2.6859e-01,\n",
       "                        6.7767e-02,  7.8746e-02]], device='cuda:0')),\n",
       "             ('hidden_layer_1.variational_strategy._variational_distribution.chol_variational_covar',\n",
       "              tensor([[[ 9.6382e-02,  0.0000e+00,  0.0000e+00,  ...,  0.0000e+00,\n",
       "                         0.0000e+00,  0.0000e+00],\n",
       "                       [-2.8342e-02,  8.4395e-02,  0.0000e+00,  ...,  0.0000e+00,\n",
       "                         0.0000e+00,  0.0000e+00],\n",
       "                       [ 1.8858e-02, -4.6208e-02,  4.5211e-02,  ...,  0.0000e+00,\n",
       "                         0.0000e+00,  0.0000e+00],\n",
       "                       ...,\n",
       "                       [-4.8255e-03, -3.2209e-02,  9.2229e-02,  ...,  9.9135e-01,\n",
       "                         0.0000e+00,  0.0000e+00],\n",
       "                       [ 2.2051e-03, -1.0405e-02, -1.5316e-02,  ..., -1.4755e-03,\n",
       "                         1.0000e+00,  0.0000e+00],\n",
       "                       [ 5.7374e-03,  9.4351e-03, -1.3535e-02,  ..., -7.6302e-04,\n",
       "                        -4.5858e-04,  9.9128e-01]],\n",
       "              \n",
       "                      [[ 9.2776e-02,  0.0000e+00,  0.0000e+00,  ...,  0.0000e+00,\n",
       "                         0.0000e+00,  0.0000e+00],\n",
       "                       [-4.8718e-02,  1.0874e-01,  0.0000e+00,  ...,  0.0000e+00,\n",
       "                         0.0000e+00,  0.0000e+00],\n",
       "                       [-3.9593e-02, -7.6503e-02,  9.5130e-02,  ...,  0.0000e+00,\n",
       "                         0.0000e+00,  0.0000e+00],\n",
       "                       ...,\n",
       "                       [ 3.7650e-03,  6.1279e-03,  1.4250e-01,  ...,  9.9997e-01,\n",
       "                         0.0000e+00,  0.0000e+00],\n",
       "                       [ 1.8256e-03,  1.2701e-02, -1.0929e-02,  ..., -9.1461e-04,\n",
       "                         9.9949e-01,  0.0000e+00],\n",
       "                       [ 1.4922e-02,  2.8227e-02,  1.2884e-02,  ..., -6.3456e-03,\n",
       "                         1.2537e-03,  9.9921e-01]],\n",
       "              \n",
       "                      [[ 2.3253e-01,  0.0000e+00,  0.0000e+00,  ...,  0.0000e+00,\n",
       "                         0.0000e+00,  0.0000e+00],\n",
       "                       [-1.4260e-01,  4.8046e-01,  0.0000e+00,  ...,  0.0000e+00,\n",
       "                         0.0000e+00,  0.0000e+00],\n",
       "                       [-1.0433e-01,  6.7039e-02,  8.2967e-02,  ...,  0.0000e+00,\n",
       "                         0.0000e+00,  0.0000e+00],\n",
       "                       ...,\n",
       "                       [-9.2853e-03, -1.7468e-02, -6.4973e-03,  ...,  9.9991e-01,\n",
       "                         0.0000e+00,  0.0000e+00],\n",
       "                       [ 2.3254e-03,  1.3082e-02, -2.0616e-02,  ...,  5.2283e-05,\n",
       "                         9.9993e-01,  0.0000e+00],\n",
       "                       [ 3.0617e-02, -4.9231e-02,  9.7800e-02,  ..., -5.4333e-04,\n",
       "                         9.1283e-05,  9.9478e-01]],\n",
       "              \n",
       "                      ...,\n",
       "              \n",
       "                      [[ 9.9999e-01,  0.0000e+00,  0.0000e+00,  ...,  0.0000e+00,\n",
       "                         0.0000e+00,  0.0000e+00],\n",
       "                       [-4.6695e-05,  1.0000e+00,  0.0000e+00,  ...,  0.0000e+00,\n",
       "                         0.0000e+00,  0.0000e+00],\n",
       "                       [-3.1786e-06, -4.2505e-06,  1.0000e+00,  ...,  0.0000e+00,\n",
       "                         0.0000e+00,  0.0000e+00],\n",
       "                       ...,\n",
       "                       [-5.4120e-07,  4.7899e-10,  1.7903e-06,  ...,  1.0017e+00,\n",
       "                         0.0000e+00,  0.0000e+00],\n",
       "                       [-1.1313e-06, -6.1540e-05,  3.1747e-06,  ..., -3.1483e-04,\n",
       "                         1.0000e+00,  0.0000e+00],\n",
       "                       [ 7.4530e-11,  1.2320e-11, -5.0883e-06,  ..., -3.0194e-02,\n",
       "                         3.0223e-06,  1.0000e+00]],\n",
       "              \n",
       "                      [[ 1.0018e+00,  0.0000e+00,  0.0000e+00,  ...,  0.0000e+00,\n",
       "                         0.0000e+00,  0.0000e+00],\n",
       "                       [ 4.0060e-04,  1.0037e+00,  0.0000e+00,  ...,  0.0000e+00,\n",
       "                         0.0000e+00,  0.0000e+00],\n",
       "                       [ 1.0241e-04, -5.8786e-08,  1.0022e+00,  ...,  0.0000e+00,\n",
       "                         0.0000e+00,  0.0000e+00],\n",
       "                       ...,\n",
       "                       [-1.3317e-07,  6.2725e-03,  2.5691e-03,  ...,  9.9997e-01,\n",
       "                         0.0000e+00,  0.0000e+00],\n",
       "                       [ 4.9060e-05,  1.6890e-03, -3.7921e-04,  ..., -4.3548e-04,\n",
       "                         9.9469e-01,  0.0000e+00],\n",
       "                       [ 9.7975e-06,  5.3413e-03, -3.0280e-06,  ...,  1.3425e-03,\n",
       "                         3.4392e-07,  1.0002e+00]],\n",
       "              \n",
       "                      [[ 3.1943e-02,  0.0000e+00,  0.0000e+00,  ...,  0.0000e+00,\n",
       "                         0.0000e+00,  0.0000e+00],\n",
       "                       [-4.1519e-03, -3.8637e-02,  0.0000e+00,  ...,  0.0000e+00,\n",
       "                         0.0000e+00,  0.0000e+00],\n",
       "                       [ 3.3192e-02, -1.0210e-02,  8.3652e-01,  ...,  0.0000e+00,\n",
       "                         0.0000e+00,  0.0000e+00],\n",
       "                       ...,\n",
       "                       [ 1.1124e-02,  1.1913e-01,  1.3797e-01,  ...,  1.0026e+00,\n",
       "                         0.0000e+00,  0.0000e+00],\n",
       "                       [-1.2702e-01, -2.6105e-02,  2.3172e-02,  ..., -2.1278e-03,\n",
       "                         1.0009e+00,  0.0000e+00],\n",
       "                       [ 2.2258e-02, -1.3750e-02,  8.0853e-04,  ..., -4.5103e-03,\n",
       "                        -1.2781e-03,  9.9952e-01]]], device='cuda:0')),\n",
       "             ('hidden_layer_1.covar_module.raw_outputscale',\n",
       "              tensor([ -2.0806,  -2.0670,  -2.4232,  -3.1031,  -2.1561, -10.8720,  -3.9349,\n",
       "                      -10.5194,  -4.7802,  -1.9408], device='cuda:0')),\n",
       "             ('hidden_layer_1.covar_module.base_kernel.raw_lengthscale',\n",
       "              tensor([[[ 1.8355e+01,  1.7497e+01,  1.5369e+00,  3.2149e+00,  2.9138e+01,\n",
       "                         2.8071e+01,  2.7328e+01,  2.0618e+01,  3.5362e+01,  3.2959e+01]],\n",
       "              \n",
       "                      [[ 3.6035e+01,  3.5607e+01,  3.4048e+01,  4.0441e+01,  5.8955e+00,\n",
       "                         6.3715e+00,  6.9352e+00,  1.0809e+01,  3.6423e+00,  3.6587e+00]],\n",
       "              \n",
       "                      [[ 1.8732e+01,  1.9975e+01,  4.2609e+00,  3.9142e+00,  4.1251e+00,\n",
       "                         1.7035e+00,  1.2851e+01,  1.6116e+01,  1.4947e+01,  2.3420e+01]],\n",
       "              \n",
       "                      [[-7.8230e-02,  5.4879e-01,  8.0039e-01,  1.1570e-01,  7.9005e-01,\n",
       "                         6.5063e-02,  3.1282e-01,  1.1866e-01,  5.4235e-01,  8.9039e-02]],\n",
       "              \n",
       "                      [[ 6.7415e+00,  5.7834e+00,  8.9688e+00,  7.4282e+00,  7.5306e+00,\n",
       "                         1.0786e+01,  5.2541e+00,  4.2690e+00,  8.3517e+00,  1.4300e+01]],\n",
       "              \n",
       "                      [[-3.0296e-01, -6.8391e-01, -4.1192e-01, -1.1397e+00, -1.0325e+00,\n",
       "                        -1.0162e+00, -9.1835e-02, -1.1844e-01, -1.1385e+00, -5.5725e-01]],\n",
       "              \n",
       "                      [[-1.4487e-01,  9.1392e-01,  1.6827e-01, -2.7447e-01,  1.6006e+00,\n",
       "                        -1.4891e-01,  5.8175e-01,  4.0626e-01,  1.4977e+00,  6.7147e-01]],\n",
       "              \n",
       "                      [[-8.4464e-03, -1.3320e+00,  5.6550e-01, -3.6876e-01, -1.1296e-01,\n",
       "                        -5.2496e-01, -1.1704e+00, -1.5685e-01, -5.4026e-01, -1.3462e-01]],\n",
       "              \n",
       "                      [[ 6.8866e-01,  9.0217e-01,  4.5735e-01,  3.6656e-01,  9.2836e-01,\n",
       "                         1.5736e-01,  6.5649e-01,  9.7731e-01,  6.1781e-01,  2.1279e-01]],\n",
       "              \n",
       "                      [[ 1.5518e+00,  2.4754e+00,  2.2787e+01,  3.1040e+01,  2.1106e+01,\n",
       "                         2.7790e+01,  3.3728e+01,  3.7999e+01,  2.7820e+01,  3.7176e+01]]],\n",
       "                     device='cuda:0')),\n",
       "             ('hidden_layer_1.covar_module.base_kernel.raw_lengthscale_constraint.lower_bound',\n",
       "              tensor(0., device='cuda:0')),\n",
       "             ('hidden_layer_1.covar_module.base_kernel.raw_lengthscale_constraint.upper_bound',\n",
       "              tensor(inf, device='cuda:0')),\n",
       "             ('hidden_layer_1.covar_module.raw_outputscale_constraint.lower_bound',\n",
       "              tensor(0., device='cuda:0')),\n",
       "             ('hidden_layer_1.covar_module.raw_outputscale_constraint.upper_bound',\n",
       "              tensor(inf, device='cuda:0')),\n",
       "             ('last_layer.variational_strategy.inducing_points',\n",
       "              tensor([[[ 8.2066,  4.9105,  4.5737,  ..., -2.6004,  5.0487,  4.5309],\n",
       "                       [-1.9846,  6.0960,  9.4669,  ..., 10.9305,  5.5279,  3.3374],\n",
       "                       [ 0.2440,  5.4285,  6.0796,  ...,  3.7344,  7.2735,  9.3143],\n",
       "                       ...,\n",
       "                       [12.2405,  5.4797,  5.0282,  ...,  3.8446,  2.5897,  5.0304],\n",
       "                       [ 1.2207,  6.9488,  8.3634,  ...,  2.4494, -2.4385,  2.0403],\n",
       "                       [-8.8214, -1.0606,  0.6135,  ...,  0.4961,  0.1694,  1.9778]],\n",
       "              \n",
       "                      [[ 4.9174,  3.1862,  0.1418,  ...,  3.5732,  2.8510,  2.9669],\n",
       "                       [ 4.4946,  0.6138,  3.1709,  ...,  2.0910,  4.3425,  0.2484],\n",
       "                       [ 2.5622,  1.7565,  1.2242,  ...,  1.7833,  2.5003,  3.2187],\n",
       "                       ...,\n",
       "                       [ 2.9735,  0.6101,  2.5097,  ...,  0.4931,  3.9767,  3.2133],\n",
       "                       [ 4.7437,  3.7212,  0.1194,  ...,  1.9625,  1.4746,  3.3229],\n",
       "                       [ 0.3273,  2.8472,  0.8317,  ...,  3.2383,  3.5235,  1.5618]],\n",
       "              \n",
       "                      [[ 1.9845,  4.0020,  3.6185,  ...,  4.8657,  3.0515,  1.0594],\n",
       "                       [ 1.2010,  3.8983,  1.4537,  ...,  1.9382,  0.8694,  0.5414],\n",
       "                       [ 0.8363,  1.4728,  1.5814,  ...,  3.8421,  3.5199,  0.2888],\n",
       "                       ...,\n",
       "                       [ 3.5623,  2.9517,  3.1583,  ...,  3.7913,  2.1768,  3.8418],\n",
       "                       [ 4.2926,  4.9123,  0.4763,  ...,  2.8509,  3.6632,  1.9538],\n",
       "                       [ 2.6277,  4.2621,  2.4203,  ...,  3.8488,  0.2676,  3.9256]],\n",
       "              \n",
       "                      ...,\n",
       "              \n",
       "                      [[ 1.9917,  3.0844,  1.4513,  ...,  0.4041,  0.2640,  3.2201],\n",
       "                       [ 4.5636,  2.0355,  3.7497,  ...,  2.2335,  0.1128,  0.6955],\n",
       "                       [ 0.3240,  2.6072,  0.5074,  ...,  1.8021,  4.3664,  0.1596],\n",
       "                       ...,\n",
       "                       [ 3.7373,  0.6393,  0.4410,  ...,  3.2380,  3.2739,  2.4624],\n",
       "                       [ 0.9836,  0.8066,  3.9054,  ...,  3.8461,  4.3487,  3.0549],\n",
       "                       [ 1.4914,  4.2378,  3.8039,  ...,  4.1433,  4.0175,  0.3114]],\n",
       "              \n",
       "                      [[ 0.9989,  7.5631,  7.2995,  ..., -0.2915,  1.5479,  6.9378],\n",
       "                       [ 0.4946,  4.7595,  5.6324,  ...,  5.5874, 10.4693,  6.8212],\n",
       "                       [-0.7224,  5.4930,  5.8360,  ...,  6.5195,  9.1309,  2.9411],\n",
       "                       ...,\n",
       "                       [ 9.0051,  5.5461,  4.7910,  ..., 11.4847, -1.6783,  9.6980],\n",
       "                       [ 2.4389, -4.7231,  0.5403,  ...,  0.4147, -0.0703, -1.2940],\n",
       "                       [-2.2091,  9.8293, -6.9994,  ..., -2.6517,  2.9825,  2.3276]],\n",
       "              \n",
       "                      [[ 1.2960,  3.4894,  0.7335,  ...,  1.3372,  3.4408,  0.2579],\n",
       "                       [ 1.1221,  4.2465,  1.6992,  ...,  2.8108,  1.2890,  1.0527],\n",
       "                       [ 4.6479,  3.8555,  2.8634,  ...,  1.1514,  0.3113,  1.9811],\n",
       "                       ...,\n",
       "                       [ 3.2168,  3.8291,  4.8513,  ...,  4.6018,  0.7521,  0.2004],\n",
       "                       [ 2.5651,  0.8421,  1.1515,  ...,  2.3026,  3.5314,  0.6354],\n",
       "                       [ 3.1439,  4.2711,  4.0865,  ...,  0.3704,  3.4160,  1.3705]]],\n",
       "                     device='cuda:0')),\n",
       "             ('last_layer.variational_strategy.variational_params_initialized',\n",
       "              tensor(1, device='cuda:0')),\n",
       "             ('last_layer.variational_strategy.updated_strategy',\n",
       "              tensor(True, device='cuda:0')),\n",
       "             ('last_layer.variational_strategy._variational_distribution.variational_mean',\n",
       "              tensor([[ 1.5078e+00,  7.1102e-02, -3.3379e-02,  ..., -1.4685e-02,\n",
       "                        1.2457e-02,  6.0083e-01],\n",
       "                      [-1.3798e-07,  3.2169e-31,  2.0253e-13,  ..., -8.9821e-17,\n",
       "                       -7.1098e-06,  2.5823e-18],\n",
       "                      [ 1.9147e-30,  2.2949e-10,  1.4335e-22,  ..., -1.9868e-25,\n",
       "                        1.0577e-26, -3.3361e-22],\n",
       "                      ...,\n",
       "                      [-4.2901e-05, -1.9388e-12,  1.7983e-17,  ..., -1.7846e-10,\n",
       "                       -1.4742e-11,  7.6067e-14],\n",
       "                      [ 1.3941e-02, -4.3183e-01,  1.4285e-02,  ..., -5.8829e-03,\n",
       "                        1.0372e+00, -1.6555e-02],\n",
       "                      [-8.8910e-14, -1.5134e-14,  6.4966e-17,  ..., -2.7115e-13,\n",
       "                        3.4841e-13,  4.3321e-16]], device='cuda:0')),\n",
       "             ('last_layer.variational_strategy._variational_distribution.chol_variational_covar',\n",
       "              tensor([[[ 1.0062e+00,  0.0000e+00,  0.0000e+00,  ...,  0.0000e+00,\n",
       "                         0.0000e+00,  0.0000e+00],\n",
       "                       [ 4.8331e-03,  1.0001e+00,  0.0000e+00,  ...,  0.0000e+00,\n",
       "                         0.0000e+00,  0.0000e+00],\n",
       "                       [-2.4778e-02, -4.6156e-04,  9.9985e-01,  ...,  0.0000e+00,\n",
       "                         0.0000e+00,  0.0000e+00],\n",
       "                       ...,\n",
       "                       [ 1.7721e-02, -3.2504e-04, -1.6513e-04,  ...,  1.0005e+00,\n",
       "                         0.0000e+00,  0.0000e+00],\n",
       "                       [ 5.2173e-03,  1.0387e-04,  3.6882e-05,  ...,  6.1614e-03,\n",
       "                         9.9955e-01,  0.0000e+00],\n",
       "                       [ 8.1536e-02,  8.4890e-04,  8.4668e-04,  ..., -4.5068e-03,\n",
       "                        -1.1761e-02,  5.7839e-01]],\n",
       "              \n",
       "                      [[ 1.0000e+00,  0.0000e+00,  0.0000e+00,  ...,  0.0000e+00,\n",
       "                         0.0000e+00,  0.0000e+00],\n",
       "                       [-1.5005e-10,  1.0000e+00,  0.0000e+00,  ...,  0.0000e+00,\n",
       "                         0.0000e+00,  0.0000e+00],\n",
       "                       [ 4.8727e-04,  5.5647e-08,  1.0000e+00,  ...,  0.0000e+00,\n",
       "                         0.0000e+00,  0.0000e+00],\n",
       "                       ...,\n",
       "                       [-3.4691e-05,  9.2675e-08, -8.7375e-10,  ...,  1.0000e+00,\n",
       "                         0.0000e+00,  0.0000e+00],\n",
       "                       [-1.7108e-04,  6.0525e-06,  9.8517e-05,  ..., -1.7778e-04,\n",
       "                         1.0000e+00,  0.0000e+00],\n",
       "                       [ 1.7415e-10,  2.4997e-04, -1.2884e-10,  ..., -2.6766e-08,\n",
       "                         8.2413e-04,  1.0000e+00]],\n",
       "              \n",
       "                      [[ 1.0000e+00,  0.0000e+00,  0.0000e+00,  ...,  0.0000e+00,\n",
       "                         0.0000e+00,  0.0000e+00],\n",
       "                       [ 8.3693e-14,  1.0000e+00,  0.0000e+00,  ...,  0.0000e+00,\n",
       "                         0.0000e+00,  0.0000e+00],\n",
       "                       [ 1.5591e-18, -1.3019e-12,  1.0000e+00,  ...,  0.0000e+00,\n",
       "                         0.0000e+00,  0.0000e+00],\n",
       "                       ...,\n",
       "                       [ 0.0000e+00,  2.4307e-04,  4.4490e-11,  ...,  1.0000e+00,\n",
       "                         0.0000e+00,  0.0000e+00],\n",
       "                       [ 1.0504e-10,  7.1401e-09, -1.6557e-08,  ..., -3.2455e-03,\n",
       "                         1.0000e+00,  0.0000e+00],\n",
       "                       [ 4.7530e-19,  3.1245e-05,  1.3447e-03,  ..., -1.0660e-04,\n",
       "                         1.1135e-11,  1.0000e+00]],\n",
       "              \n",
       "                      ...,\n",
       "              \n",
       "                      [[ 1.0000e+00,  0.0000e+00,  0.0000e+00,  ...,  0.0000e+00,\n",
       "                         0.0000e+00,  0.0000e+00],\n",
       "                       [ 8.5611e-08,  1.0000e+00,  0.0000e+00,  ...,  0.0000e+00,\n",
       "                         0.0000e+00,  0.0000e+00],\n",
       "                       [ 5.1835e-03,  4.9666e-03,  1.0000e+00,  ...,  0.0000e+00,\n",
       "                         0.0000e+00,  0.0000e+00],\n",
       "                       ...,\n",
       "                       [ 7.8656e-08, -6.9066e-06, -1.2270e-13,  ...,  1.0000e+00,\n",
       "                         0.0000e+00,  0.0000e+00],\n",
       "                       [ 3.5015e-09,  1.0170e-11,  2.7758e-10,  ..., -2.3833e-13,\n",
       "                         1.0000e+00,  0.0000e+00],\n",
       "                       [ 2.2196e-11,  6.7014e-13, -4.9374e-04,  ...,  6.8903e-05,\n",
       "                         1.6167e-03,  1.0000e+00]],\n",
       "              \n",
       "                      [[ 1.0001e+00,  0.0000e+00,  0.0000e+00,  ...,  0.0000e+00,\n",
       "                         0.0000e+00,  0.0000e+00],\n",
       "                       [ 2.3346e-04,  9.9810e-01,  0.0000e+00,  ...,  0.0000e+00,\n",
       "                         0.0000e+00,  0.0000e+00],\n",
       "                       [-1.4253e-05,  2.6130e-03,  9.9987e-01,  ...,  0.0000e+00,\n",
       "                         0.0000e+00,  0.0000e+00],\n",
       "                       ...,\n",
       "                       [-1.8522e-05, -4.7294e-05,  3.7434e-05,  ...,  1.0037e+00,\n",
       "                         0.0000e+00,  0.0000e+00],\n",
       "                       [-2.5919e-03,  3.0412e-03,  4.4418e-04,  ...,  1.2450e-04,\n",
       "                         3.6752e-01,  0.0000e+00],\n",
       "                       [ 4.0800e-04, -1.7443e-04,  1.2823e-05,  ..., -3.9019e-04,\n",
       "                        -4.6487e-04,  1.0000e+00]],\n",
       "              \n",
       "                      [[ 1.0000e+00,  0.0000e+00,  0.0000e+00,  ...,  0.0000e+00,\n",
       "                         0.0000e+00,  0.0000e+00],\n",
       "                       [ 5.1672e-04,  1.0000e+00,  0.0000e+00,  ...,  0.0000e+00,\n",
       "                         0.0000e+00,  0.0000e+00],\n",
       "                       [-3.0960e-12,  1.2456e-08,  1.0000e+00,  ...,  0.0000e+00,\n",
       "                         0.0000e+00,  0.0000e+00],\n",
       "                       ...,\n",
       "                       [ 3.2548e-05, -7.3585e-04, -1.9286e-02,  ...,  1.0000e+00,\n",
       "                         0.0000e+00,  0.0000e+00],\n",
       "                       [ 1.5125e-07, -7.8185e-10,  2.2644e-03,  ..., -2.5922e-06,\n",
       "                         1.0000e+00,  0.0000e+00],\n",
       "                       [ 4.4824e-03, -2.7621e-07, -2.8793e-07,  ..., -6.0825e-07,\n",
       "                        -2.7078e-09,  1.0000e+00]]], device='cuda:0')),\n",
       "             ('last_layer.mean_module.weights',\n",
       "              tensor([[ 0.0071],\n",
       "                      [ 0.0013],\n",
       "                      [ 0.0326],\n",
       "                      [-0.0074],\n",
       "                      [-0.0454],\n",
       "                      [ 0.0284],\n",
       "                      [-0.0010],\n",
       "                      [ 0.0355],\n",
       "                      [-0.0056],\n",
       "                      [ 0.0160]], device='cuda:0')),\n",
       "             ('last_layer.mean_module.bias',\n",
       "              tensor([-0.0082], device='cuda:0')),\n",
       "             ('last_layer.covar_module.raw_outputscale',\n",
       "              tensor([ -0.7644,  -6.7488,  -6.8987,  -7.0258,   0.7769,  -7.8470, -10.9137,\n",
       "                      -11.2584, -11.4704, -11.6847, -11.9933, -12.0050, -12.2829,  -3.5401,\n",
       "                      -12.4431, -12.8241,  -3.1331, -13.3081, -13.4679,  -4.4916, -13.9971],\n",
       "                     device='cuda:0')),\n",
       "             ('last_layer.covar_module.base_kernel.raw_lengthscale',\n",
       "              tensor([[[ 8.0487e+00,  1.5167e+00,  1.8565e+01,  1.5411e+01,  2.0323e+01,\n",
       "                         1.6754e+01,  2.4286e+01,  1.5542e+01,  1.9474e+01,  5.9916e+00]],\n",
       "              \n",
       "                      [[-5.8408e-01, -3.7570e-01, -4.7390e-01, -1.5350e-01, -4.0725e-01,\n",
       "                        -5.2093e-01,  4.7450e-01,  1.5924e-01, -5.8132e-01, -2.1219e-01]],\n",
       "              \n",
       "                      [[-1.4642e-01, -3.3936e-01, -5.4539e-01, -3.3711e-02, -2.2871e-01,\n",
       "                        -2.6491e-01, -5.4875e-01, -3.2965e-01, -2.0706e-01, -6.9379e-02]],\n",
       "              \n",
       "                      [[ 1.0921e-02, -3.7628e-01, -2.6896e-01, -1.5714e-01, -9.7276e-02,\n",
       "                        -1.1467e-01, -1.3773e-01, -2.5108e-01, -6.7957e-02, -4.5529e-02]],\n",
       "              \n",
       "                      [[ 3.2713e+00,  1.1357e+01,  1.2062e+01,  1.3209e+01,  1.5230e+01,\n",
       "                         8.8350e+00,  1.0932e+01,  1.2406e+01,  1.2869e+01,  2.6277e+00]],\n",
       "              \n",
       "                      [[-2.9670e-01, -3.5295e-01, -5.8586e-01, -4.4153e-01, -2.6846e-01,\n",
       "                        -5.5166e-01, -5.5291e-01, -6.4625e-01, -6.7951e-01, -4.9481e-01]],\n",
       "              \n",
       "                      [[-1.4229e-01, -4.8639e-01, -3.7554e-01, -8.0738e-01, -2.4039e-01,\n",
       "                        -1.1768e-01, -4.9502e-02,  1.9412e-01, -6.7827e-01, -7.4115e-01]],\n",
       "              \n",
       "                      [[-5.6965e-01, -5.1635e-01, -6.0171e-01, -5.9140e-01, -6.0767e-01,\n",
       "                        -1.1457e-01, -5.5400e-01, -4.7615e-01, -5.6197e-01, -4.0425e-01]],\n",
       "              \n",
       "                      [[-9.9838e-02,  2.8138e-01,  3.3633e-01,  2.7595e-01, -1.1572e-01,\n",
       "                        -2.9660e-02,  4.1709e-01,  3.8346e-01,  4.7303e-01,  8.6189e-02]],\n",
       "              \n",
       "                      [[-2.7800e-01, -3.7597e-01, -3.0371e-01, -1.6996e-01, -3.7450e-01,\n",
       "                        -3.6541e-02, -3.5903e-01, -2.3259e-01, -2.2931e-01, -3.2778e-01]],\n",
       "              \n",
       "                      [[-2.8631e-01, -1.3478e-01, -3.0879e-01, -7.6036e-02, -1.9374e-01,\n",
       "                        -1.5617e-01, -1.5924e-01, -2.0134e-01, -1.5095e-01, -2.8071e-01]],\n",
       "              \n",
       "                      [[-3.2821e-01, -6.1501e-02, -5.6563e-01, -5.5876e-01, -5.2579e-01,\n",
       "                        -3.2567e-01, -2.9239e-01, -4.2390e-01, -2.9631e-01, -2.7796e-01]],\n",
       "              \n",
       "                      [[-3.4015e-01, -1.0051e-01, -3.1464e-02, -4.4440e-01, -3.8996e-01,\n",
       "                        -2.9470e-01, -4.5061e-01, -3.9874e-01, -2.3419e-01, -1.0544e-01]],\n",
       "              \n",
       "                      [[ 1.8025e+01,  1.4525e+00,  2.4405e+00,  1.3706e+01,  2.6484e+00,\n",
       "                         2.1555e+01,  2.0216e+01,  1.8898e+01,  2.8412e+01,  2.2933e+00]],\n",
       "              \n",
       "                      [[-5.5759e-02, -2.4134e-03,  6.3883e-02,  1.4216e-01,  2.9387e-01,\n",
       "                         1.1756e-01,  6.6349e-02,  1.1300e-01, -8.1288e-02,  9.7787e-02]],\n",
       "              \n",
       "                      [[-6.9829e-02,  8.1755e-02, -4.0927e-02, -2.3888e-01,  1.4346e-01,\n",
       "                        -3.6032e-01, -2.0807e-01, -1.3144e-01, -2.2439e-01,  5.0387e-02]],\n",
       "              \n",
       "                      [[ 2.3678e+00,  1.1994e+01,  3.6270e+00,  2.0713e+01,  2.5753e+00,\n",
       "                         2.5915e+01,  3.3758e+01,  2.3059e+01,  2.8664e+01,  3.2425e+00]],\n",
       "              \n",
       "                      [[-4.2539e-01, -3.2824e-01, -4.0249e-01, -4.8264e-01, -5.8298e-01,\n",
       "                        -4.9423e-01, -5.5332e-01, -3.1575e-01, -4.9905e-01, -4.7496e-01]],\n",
       "              \n",
       "                      [[-2.2276e-02, -1.2928e-01, -3.9663e-01, -1.3327e-01, -3.0189e-02,\n",
       "                        -1.2054e-01, -1.1433e-01, -2.9156e-02, -3.1060e-04, -8.4405e-02]],\n",
       "              \n",
       "                      [[ 3.9478e+00,  3.7075e+00,  1.6026e+00,  2.1489e+01,  3.9763e+00,\n",
       "                         2.3475e+01,  3.3440e+01,  2.5010e+01,  2.6926e+01,  6.2421e+00]],\n",
       "              \n",
       "                      [[ 1.8646e-01, -6.4863e-02,  2.9990e-01,  2.3272e-02,  1.5039e-03,\n",
       "                         5.7205e-02,  1.4027e-01,  5.7022e-02,  4.2638e-02,  2.3592e-01]]],\n",
       "                     device='cuda:0')),\n",
       "             ('last_layer.covar_module.base_kernel.raw_lengthscale_constraint.lower_bound',\n",
       "              tensor(0., device='cuda:0')),\n",
       "             ('last_layer.covar_module.base_kernel.raw_lengthscale_constraint.upper_bound',\n",
       "              tensor(inf, device='cuda:0')),\n",
       "             ('last_layer.covar_module.raw_outputscale_constraint.lower_bound',\n",
       "              tensor(0., device='cuda:0')),\n",
       "             ('last_layer.covar_module.raw_outputscale_constraint.upper_bound',\n",
       "              tensor(inf, device='cuda:0')),\n",
       "             ('likelihood.raw_task_noises',\n",
       "              tensor([ -3.4216,  14.6158,  11.7303,  10.0194,  -3.0608,   4.0311,  -1.7783,\n",
       "                       -2.0394,  -2.3872,  -2.4315,  -3.0422,  -2.8689,  -3.2526,  -3.9514,\n",
       "                       -3.4020,  -3.8966,  -6.7692,  -4.3393,  -4.7429, -10.3248,  -5.3653],\n",
       "                     device='cuda:0')),\n",
       "             ('likelihood.raw_noise', tensor([-6.1236], device='cuda:0')),\n",
       "             ('likelihood.raw_task_noises_constraint.lower_bound',\n",
       "              tensor(1.0000e-04, device='cuda:0')),\n",
       "             ('likelihood.raw_task_noises_constraint.upper_bound',\n",
       "              tensor(inf, device='cuda:0')),\n",
       "             ('likelihood.raw_noise_constraint.lower_bound',\n",
       "              tensor(1.0000e-04, device='cuda:0')),\n",
       "             ('likelihood.raw_noise_constraint.upper_bound',\n",
       "              tensor(inf, device='cuda:0'))])"
      ]
     },
     "execution_count": 73,
     "metadata": {},
     "output_type": "execute_result"
    }
   ],
   "source": [
    "loaded_model.state_dict()"
   ]
  },
  {
   "cell_type": "markdown",
   "metadata": {},
   "source": [
    "# Estimation"
   ]
  },
  {
   "cell_type": "markdown",
   "metadata": {},
   "source": [
    "### Point estimation"
   ]
  },
  {
   "cell_type": "code",
   "execution_count": null,
   "metadata": {},
   "outputs": [],
   "source": [
    "estimated_params, func_loss = Estimation.multi_start_estimation(MultitaskGP_models, MultitaskGP_likelihoods, row_idx, test_y_21, bounds, Estimation.estimate_params_for_one_model_Adam, \n",
    "                                                                num_starts=5, num_iterations=2000, lr=0.01, patience=10, \n",
    "                                                                attraction_threshold=0.1, repulsion_strength=0.1, device=Device)\n",
    "\n",
    "\n",
    "# full_estimated_params = estimated_params.detach().numpy()\n"
   ]
  },
  {
   "cell_type": "code",
   "execution_count": null,
   "metadata": {},
   "outputs": [],
   "source": [
    "estimated_params"
   ]
  },
  {
   "cell_type": "markdown",
   "metadata": {},
   "source": [
    "### MCMC "
   ]
  },
  {
   "cell_type": "code",
   "execution_count": null,
   "metadata": {},
   "outputs": [],
   "source": [
    "mcmc_result_Uniform = Estimation.run_mcmc_Uniform(Prediction.preds_distribution, MultitaskGP_models, MultitaskGP_likelihoods, row_idx, test_y_21, bounds, \n",
    "                                                  num_sampling = 1200, warmup_step = 300)\n",
    "\n"
   ]
  },
  {
   "cell_type": "code",
   "execution_count": null,
   "metadata": {},
   "outputs": [],
   "source": [
    "mcmc_result_Uniform = Estimation.run_mcmc_Uniform(Prediction.preds_distribution, MVGP_models, MVGP_likelihoods, row_idx, test_y_21, bounds, \n",
    "                                                  num_sampling = 1200, warmup_step = 300)\n",
    "\n"
   ]
  },
  {
   "cell_type": "code",
   "execution_count": null,
   "metadata": {},
   "outputs": [],
   "source": [
    "mcmc_result_Normal = Estimation.run_mcmc_Normal(Prediction.preds_for_one_model, MultitaskGP_models, MultitaskGP_likelihoods, row_idx, test_y, local_train_x, \n",
    "                                                 PCA_func = pca_20, \n",
    "                                                 num_sampling = 400, warmup_step = 100)\n",
    "\n"
   ]
  },
  {
   "cell_type": "code",
   "execution_count": null,
   "metadata": {},
   "outputs": [],
   "source": [
    "posterior_samples = mcmc_result_Uniform.get_samples()\n",
    "\n",
    "param_names = [f'param_{i}' for i in range(len(bounds))]\n",
    "\n",
    "posterior_means_array = np.zeros(len(param_names))\n",
    "\n",
    "\n",
    "for idx, param_name in enumerate(param_names):\n",
    "    samples = posterior_samples[param_name]\n",
    "    if samples.ndim > 1:\n",
    "        samples = samples.reshape(-1)\n",
    "    mean_value = torch.mean(samples).item()\n",
    "    posterior_means_array[idx] = mean_value"
   ]
  },
  {
   "cell_type": "code",
   "execution_count": null,
   "metadata": {},
   "outputs": [],
   "source": [
    "bounds"
   ]
  },
  {
   "cell_type": "markdown",
   "metadata": {},
   "source": [
    "### Plot"
   ]
  },
  {
   "cell_type": "code",
   "execution_count": null,
   "metadata": {},
   "outputs": [],
   "source": [
    "true_values"
   ]
  },
  {
   "cell_type": "code",
   "execution_count": null,
   "metadata": {},
   "outputs": [],
   "source": [
    "mcmc_result_Uniform.diagnostics()"
   ]
  },
  {
   "cell_type": "code",
   "execution_count": null,
   "metadata": {},
   "outputs": [],
   "source": [
    "posterior_samples_Uniform = mcmc_result_Uniform.get_samples()\n",
    "\n",
    "true_values = test_x[row_idx,:]\n",
    "\n",
    "point_estimations = posterior_means_array\n",
    "\n",
    "fig, axes = plt.subplots(len(posterior_samples_Uniform), 1, figsize=(8, len(posterior_samples_Uniform) * 3))\n",
    "\n",
    "for i, (param_name, samples) in enumerate(posterior_samples_Uniform.items()):\n",
    "    if len(posterior_samples_Uniform) > 1:\n",
    "        ax = axes[i]\n",
    "    else:\n",
    "        ax = axes\n",
    "    sns.kdeplot(samples.detach().numpy(), ax=ax, color='blue')\n",
    "    ax.set_title(f'Density of {param_name}')\n",
    "    \n",
    "    # 标记 true_values 和 point_estimations\n",
    "    if true_values is not None and i < len(true_values):\n",
    "        ax.axvline(true_values[i], color='red', linestyle='--', label='True Value')\n",
    "    if point_estimations is not None and i < len(point_estimations):\n",
    "        ax.axvline(point_estimations[i], color='green', linestyle='-.', label='Point Estimation')\n",
    "    ax.legend()\n",
    "\n",
    "plt.tight_layout()\n",
    "plt.show()"
   ]
  },
  {
   "cell_type": "code",
   "execution_count": null,
   "metadata": {},
   "outputs": [],
   "source": [
    "posterior_samples_Uniform"
   ]
  },
  {
   "cell_type": "code",
   "execution_count": null,
   "metadata": {},
   "outputs": [],
   "source": [
    "posterior_samples_Uniform['param_1']"
   ]
  },
  {
   "cell_type": "code",
   "execution_count": null,
   "metadata": {},
   "outputs": [],
   "source": [
    "idata = az.from_pyro(mcmc_result_Uniform)\n",
    "az.plot_trace(idata)\n",
    "plt.show()\n",
    "\n",
    "\n",
    "summary = az.summary(idata, hdi_prob=0.95)\n",
    "print(summary)"
   ]
  },
  {
   "cell_type": "markdown",
   "metadata": {},
   "source": [
    "# **End**"
   ]
  },
  {
   "cell_type": "code",
   "execution_count": null,
   "metadata": {},
   "outputs": [],
   "source": [
    "import numpy as np\n",
    "import matplotlib.pyplot as plt\n",
    "\n",
    "# Parameters for the Gaussian distribution\n",
    "mu = 0  # mean\n",
    "sigma = 1  # standard deviation\n",
    "\n",
    "# Generate random samples from the Gaussian distribution\n",
    "x = np.random.normal(mu, sigma, 10000)\n",
    "# x = np.random.uniform(mu, sigma, 10000)\n",
    "\n",
    "# Plot the distribution\n",
    "plt.figure(figsize=(8, 6))\n",
    "plt.hist(x, bins=30, density=True, alpha=0.6, color='b', edgecolor='black')\n",
    "\n",
    "\n",
    "# Labeling the plot\n",
    "\n",
    "plt.xlabel(\"X values\")\n",
    "plt.ylabel(\"Probability Density\")\n",
    "\n",
    "plt.show()\n"
   ]
  },
  {
   "cell_type": "code",
   "execution_count": null,
   "metadata": {},
   "outputs": [],
   "source": [
    "# Define the sigmoid function\n",
    "def sigmoid(x):\n",
    "    return 1 / (1 + np.exp(-x))\n",
    "\n",
    "# Define the affine transformation function\n",
    "def affine_transform(x, loc=1.3, scale=2.6):\n",
    "    return loc + scale * x"
   ]
  },
  {
   "cell_type": "code",
   "execution_count": null,
   "metadata": {},
   "outputs": [],
   "source": [
    "# Apply sigmoid transform to the generated data\n",
    "# x_1 = affine_transform(x,3,1.5)\n",
    "x_2 = sigmoid(x)\n",
    "x_transformed = affine_transform(x_2)\n",
    "\n",
    "# Plot the transformed distribution\n",
    "plt.figure(figsize=(8, 6))\n",
    "plt.hist(x_transformed, bins=30, density=True, alpha=0.6, color='b', edgecolor='black')\n",
    "\n",
    "# Labeling the plot\n",
    "plt.xlabel(\"Transformed X values\")\n",
    "plt.ylabel(\"Probability Density\")\n",
    "\n",
    "plt.show()\n"
   ]
  },
  {
   "cell_type": "code",
   "execution_count": null,
   "metadata": {},
   "outputs": [],
   "source": [
    "import numpy as np\n",
    "import scipy.stats as stats\n",
    "import matplotlib.pyplot as plt\n",
    "\n",
    "row_idx = 0\n",
    "\n",
    "input_point = test_y[row_idx,:]\n",
    "local_train_x, local_train_y = Tools.find_k_nearest_neighbors_CPU(input_point, train_x, train_y, k = 400)\n",
    "\n",
    "# 假设x是已知数据\n",
    "x = local_train_x[:,3] \n",
    "\n",
    "# 1. 绘制直方图\n",
    "plt.hist(x, bins=30, density=True, alpha=0.6, color='g')\n",
    "\n",
    "# 2. 尝试拟合正态分布\n",
    "mu, std = stats.norm.fit(x)\n",
    "\n",
    "# 3. 绘制拟合的正态分布曲线\n",
    "xmin, xmax = plt.xlim()\n",
    "x_plot = np.linspace(xmin, xmax, 100)\n",
    "p = stats.norm.pdf(x_plot, mu, std)\n",
    "plt.plot(x_plot, p, 'k', linewidth=2)\n",
    "title = f\"Fit results: mu = {mu:.2f}, std = {std:.2f}\"\n",
    "plt.title(title)\n",
    "plt.show()\n",
    "\n",
    "# 4. 生成与数据类似的随机数\n",
    "random_data = np.random.normal(mu, std, len(x))\n"
   ]
  },
  {
   "cell_type": "code",
   "execution_count": null,
   "metadata": {},
   "outputs": [],
   "source": [
    "test_x[0,:]"
   ]
  }
 ],
 "metadata": {
  "kernelspec": {
   "display_name": "FGPyT",
   "language": "python",
   "name": "python3"
  },
  "language_info": {
   "codemirror_mode": {
    "name": "ipython",
    "version": 3
   },
   "file_extension": ".py",
   "mimetype": "text/x-python",
   "name": "python",
   "nbconvert_exporter": "python",
   "pygments_lexer": "ipython3",
   "version": "3.10.15"
  }
 },
 "nbformat": 4,
 "nbformat_minor": 2
}
