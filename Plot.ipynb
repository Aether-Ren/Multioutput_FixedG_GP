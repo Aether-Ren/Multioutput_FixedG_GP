{
 "cells": [
  {
   "cell_type": "markdown",
   "id": "1f5389be",
   "metadata": {},
   "source": [
    "# Set up"
   ]
  },
  {
   "cell_type": "code",
   "execution_count": 1,
   "id": "dc49b2a2",
   "metadata": {},
   "outputs": [],
   "source": [
    "import numpy as np\n",
    "import pandas as pd\n",
    "import ast\n",
    "import os\n",
    "import matplotlib.pyplot as plt"
   ]
  },
  {
   "cell_type": "markdown",
   "id": "bf8f5abc",
   "metadata": {},
   "source": [
    "# Data"
   ]
  },
  {
   "cell_type": "code",
   "execution_count": 2,
   "id": "7a3c9832",
   "metadata": {},
   "outputs": [],
   "source": [
    "def extract_data(csv_path, col_name = \"estimated_params\"):\n",
    "    df = pd.read_csv(csv_path)\n",
    "    estimated_params_list = df[col_name].apply(ast.literal_eval).tolist()\n",
    "    return np.array(estimated_params_list)"
   ]
  },
  {
   "cell_type": "code",
   "execution_count": 3,
   "id": "511aa85f",
   "metadata": {},
   "outputs": [],
   "source": [
    "X_train = pd.read_csv('Data/X_train.csv', header=None, delimiter=',').values\n",
    "X_test = pd.read_csv('Data/X_test.csv', header=None, delimiter=',').values\n",
    "\n",
    "Y_train_21 = pd.read_csv('Data/Y_train_std_21.csv', header=None, delimiter=',').values\n",
    "Y_test_21 = pd.read_csv('Data/Y_test_std_21.csv', header=None, delimiter=',').values\n",
    "\n",
    "Y_train_std = pd.read_csv('Data/Y_train_std.csv', header=None, delimiter=',').values\n",
    "Y_test_std = pd.read_csv('Data/Y_test_std.csv', header=None, delimiter=',').values"
   ]
  },
  {
   "cell_type": "code",
   "execution_count": 4,
   "id": "60354282",
   "metadata": {},
   "outputs": [],
   "source": [
    "L_GP_params = extract_data(\"PlotData/L.GP_21_result.csv\")\n",
    "\n",
    "L_MGP_params = extract_data(\"PlotData/L.MGP_21_result.csv\")\n",
    "\n",
    "L_DKMGP_params = extract_data(\"PlotData/L.DKMGP_21_result.csv\")\n",
    "\n",
    "MVGP_params = extract_data(\"PlotData/MVGP_21_result.csv\")\n",
    "\n",
    "DNN_params = extract_data(\"PlotData/DNN_21_result.csv\")"
   ]
  },
  {
   "cell_type": "markdown",
   "id": "62e051d9",
   "metadata": {},
   "source": [
    "# Plots"
   ]
  },
  {
   "cell_type": "code",
   "execution_count": 5,
   "id": "84027685",
   "metadata": {},
   "outputs": [],
   "source": [
    "base_dir = \"PlotData\"\n",
    "\n",
    "model_files = {\n",
    "    \"L_GP\": \"L.GP_21_result.csv\",\n",
    "    \"L_MGP\": \"L.MGP_21_result.csv\",\n",
    "    \"L_DKMGP\": \"L.DKMGP_21_result.csv\",\n",
    "    \"MVGP\": \"MVGP_21_result.csv\",\n",
    "    \"DNN\": \"DNN_21_result.csv\"\n",
    "}"
   ]
  },
  {
   "cell_type": "markdown",
   "id": "0545e2c4",
   "metadata": {},
   "source": [
    "## pre"
   ]
  },
  {
   "cell_type": "code",
   "execution_count": 9,
   "id": "c672b34a",
   "metadata": {},
   "outputs": [
    {
     "name": "stdout",
     "output_type": "stream",
     "text": [
      "     Model       MSE\n",
      "0     L_GP  0.003194\n",
      "1    L_MGP  0.009780\n",
      "2  L_DKMGP  0.001409\n",
      "3     MVGP  0.000643\n",
      "4      DNN  0.003068\n"
     ]
    }
   ],
   "source": [
    "mse_results = {}\n",
    "for model, filename in model_files.items():\n",
    "    est = extract_data(os.path.join(base_dir, filename), col_name = 'test_preds')\n",
    "\n",
    "    mse_results[model] = np.mean((est - Y_test_21) ** 2)\n",
    "\n",
    "\n",
    "\n",
    "mse_df = pd.DataFrame.from_dict(mse_results, orient='index', columns=['MSE'])\n",
    "mse_df.index.name = 'Model'\n",
    "mse_df = mse_df.reset_index()\n",
    "\n",
    "\n",
    "print(mse_df)\n"
   ]
  },
  {
   "cell_type": "markdown",
   "id": "395b62e3",
   "metadata": {},
   "source": [
    "## Single vs. Multi"
   ]
  },
  {
   "cell_type": "code",
   "execution_count": null,
   "id": "f2604b47",
   "metadata": {},
   "outputs": [],
   "source": [
    "mse_dict = {}\n",
    "for model, filename in model_files.items():\n",
    "    est = extract_data(os.path.join(base_dir, filename))\n",
    "\n",
    "    mse_per_row = np.mean((est - X_test) ** 2, axis=1)\n",
    "    mse_dict[model] = mse_per_row\n",
    "\n",
    "\n",
    "\n",
    "mse_df = pd.DataFrame(mse_dict)\n"
   ]
  },
  {
   "cell_type": "code",
   "execution_count": null,
   "id": "5ed706ba",
   "metadata": {},
   "outputs": [],
   "source": [
    "plt.figure(figsize=(8, 6))\n",
    "plt.boxplot([mse_df[model] for model in mse_df.columns], labels=mse_df.columns)\n",
    "plt.ylabel(\"Mean Squared Error per Sample\")\n",
    "plt.title(\"Model Comparison\")\n",
    "plt.grid(True, linestyle='--', linewidth=0.5)\n",
    "# plt.ylim(0, 0.5)\n",
    "plt.show()"
   ]
  },
  {
   "cell_type": "code",
   "execution_count": null,
   "id": "c20acf6e",
   "metadata": {},
   "outputs": [],
   "source": [
    "fig, ax = plt.subplots(figsize=(8,6))\n",
    "ax.boxplot([mse_df[model] for model in mse_df.columns], labels=mse_df.columns)\n",
    "ax.set_yscale('log')\n",
    "ax.set_ylabel(\"MSE per Sample (log scale)\")\n",
    "ax.set_title(\"Comparison with Log-scaled Y-axis\")\n",
    "ax.grid(True, which='both', linestyle='--', linewidth=0.5)\n",
    "plt.tight_layout()\n",
    "plt.show()"
   ]
  }
 ],
 "metadata": {
  "kernelspec": {
   "display_name": "GT",
   "language": "python",
   "name": "python3"
  },
  "language_info": {
   "codemirror_mode": {
    "name": "ipython",
    "version": 3
   },
   "file_extension": ".py",
   "mimetype": "text/x-python",
   "name": "python",
   "nbconvert_exporter": "python",
   "pygments_lexer": "ipython3",
   "version": "3.10.15"
  }
 },
 "nbformat": 4,
 "nbformat_minor": 5
}
