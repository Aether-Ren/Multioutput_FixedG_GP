{
 "cells": [
  {
   "cell_type": "markdown",
   "metadata": {},
   "source": [
    "# Set up"
   ]
  },
  {
   "cell_type": "code",
   "execution_count": 1,
   "metadata": {},
   "outputs": [],
   "source": [
    "import torch\n",
    "import gpytorch\n",
    "import pandas as pd\n",
    "import numpy as np\n",
    "import tqdm as tqdm\n",
    "\n",
    "import matplotlib.pyplot as plt\n",
    "\n",
    "import arviz as az\n",
    "import seaborn as sns\n",
    "\n",
    "import os\n",
    "import scipy.stats as stats\n",
    "\n",
    "from statsmodels.graphics.tsaplots import plot_acf\n",
    "import statsmodels\n",
    "\n",
    "from scipy.stats import gaussian_kde\n",
    "from pyro.ops.stats import (\n",
    "    gelman_rubin,\n",
    "    split_gelman_rubin,\n",
    "    autocorrelation,\n",
    "    effective_sample_size,\n",
    "    resample,\n",
    "    quantile,\n",
    "    weighed_quantile\n",
    ")\n",
    "\n",
    "import pickle"
   ]
  },
  {
   "cell_type": "code",
   "execution_count": 2,
   "metadata": {},
   "outputs": [],
   "source": [
    "import GP_functions.Loss_function as Loss_function\n",
    "import GP_functions.bound as bound\n",
    "import GP_functions.Estimation as Estimation\n",
    "import GP_functions.Training as Training\n",
    "import GP_functions.Prediction as Prediction\n",
    "import GP_functions.GP_models as GP_models\n",
    "import GP_functions.Tools as Tools\n",
    "import GP_functions.FeatureE as FeatureE"
   ]
  },
  {
   "cell_type": "code",
   "execution_count": 3,
   "metadata": {},
   "outputs": [],
   "source": [
    "Device = 'cpu'"
   ]
  },
  {
   "cell_type": "markdown",
   "metadata": {},
   "source": [
    "# Data"
   ]
  },
  {
   "cell_type": "code",
   "execution_count": 4,
   "metadata": {},
   "outputs": [],
   "source": [
    "X_train = pd.read_csv('Data/X_train.csv', header=None, delimiter=',').values\n",
    "# X_test = pd.read_csv('Data/X_test.csv', header=None, delimiter=',').values\n",
    "X_test = pd.read_csv('LocalDisease/X_1_1.csv', header=None, delimiter=',').values\n",
    "\n",
    "Y_train_21 = pd.read_csv('Data/Y_train_std_21.csv', header=None, delimiter=',').values\n",
    "Y_test_21 = pd.read_csv('Data/Y_test_std_21.csv', header=None, delimiter=',').values\n",
    "\n",
    "Y_train_std = pd.read_csv('Data/Y_train_std.csv', header=None, delimiter=',').values\n",
    "Y_test_std = pd.read_csv('Data/Y_test_std.csv', header=None, delimiter=',').values\n",
    "\n",
    "\n",
    "train_x = torch.tensor(X_train, dtype=torch.float32)\n",
    "test_x = torch.tensor(X_test, dtype=torch.float32)\n",
    "\n",
    "train_y_21 = torch.tensor(Y_train_21, dtype=torch.float32)\n",
    "test_y_21 = torch.tensor(Y_test_21, dtype=torch.float32)\n",
    "\n",
    "train_y = torch.tensor(Y_train_std, dtype=torch.float32)\n",
    "test_y = torch.tensor(Y_test_std, dtype=torch.float32)\n"
   ]
  },
  {
   "cell_type": "markdown",
   "metadata": {},
   "source": [
    "# Emulator Result"
   ]
  },
  {
   "cell_type": "code",
   "execution_count": null,
   "metadata": {},
   "outputs": [],
   "source": [
    "loaded_samples_chain1 = torch.load(\"mcmc_samples_2.pt\", map_location=Device)"
   ]
  },
  {
   "cell_type": "code",
   "execution_count": null,
   "metadata": {},
   "outputs": [],
   "source": [
    "loaded_samples_chain2 = torch.load(\"mcmc_samples_1.pt\", map_location=Device)"
   ]
  },
  {
   "cell_type": "markdown",
   "metadata": {},
   "source": [
    "# MCMC V 2 chains"
   ]
  },
  {
   "cell_type": "code",
   "execution_count": null,
   "metadata": {},
   "outputs": [],
   "source": [
    "autocorrelation(loaded_samples_chain1['param_0'], dim=0)"
   ]
  },
  {
   "cell_type": "code",
   "execution_count": null,
   "metadata": {},
   "outputs": [],
   "source": [
    "statsmodels.tsa.stattools.acf(loaded_samples_chain1['param_0'], nlags=1199)"
   ]
  },
  {
   "cell_type": "code",
   "execution_count": null,
   "metadata": {},
   "outputs": [],
   "source": [
    "true_params_tensor = test_x[0]\n",
    "\n",
    "param_names = sorted(list(loaded_samples_chain1.keys()))\n",
    "\n",
    "true_params = {name: true_params_tensor[i].item() for i, name in enumerate(param_names)}\n",
    "\n",
    "\n",
    "mcmc_samples = {}\n",
    "for param in loaded_samples_chain1.keys():\n",
    "    mcmc_samples[param] = torch.stack([loaded_samples_chain1[param], loaded_samples_chain2[param]])\n",
    "\n",
    "n_chains = 2\n",
    "diagnostics_results = {}\n",
    "\n",
    "for param, samples_chains in mcmc_samples.items():\n",
    "    true_value = true_params[param]\n",
    "    n_samples = samples_chains.shape[1]\n",
    "    \n",
    "    # rhat ...\n",
    "    rhat = gelman_rubin(samples_chains, chain_dim=0, sample_dim=1)\n",
    "    split_rhat = split_gelman_rubin(samples_chains, chain_dim=0, sample_dim=1)\n",
    "    ess = effective_sample_size(samples_chains, chain_dim=0, sample_dim=1)\n",
    "    \n",
    "    diagnostics_results[param] = {\n",
    "         \"R-hat\": rhat.item(),\n",
    "         \"Split R-hat\": split_rhat.item(),\n",
    "         \"Effective Sample Size\": ess.item()\n",
    "    }\n",
    "    print(f\"{param}: R-hat = {rhat.item():.3f}, split R-hat = {split_rhat.item():.3f}, ESS = {ess.item():.1f}\")\n",
    "    \n",
    "    # Trace Plot\n",
    "    plt.figure(figsize=(12, 4))\n",
    "    plt.subplot(1, 2, 1)\n",
    "    for i in range(n_chains):\n",
    "         plt.plot(samples_chains[i].numpy(), marker='o', label=f\"Chain {i+1}\")\n",
    "    plt.axhline(true_value, color='green', linestyle='--', linewidth=2, label=\"True value\")\n",
    "    plt.title(f\"Trace Plot for {param}\")\n",
    "    plt.xlabel(\"Sample Index\")\n",
    "    plt.ylabel(param)\n",
    "    plt.legend()\n",
    "    \n",
    "    # Quantiles\n",
    "    plt.subplot(1, 2, 2)\n",
    "    all_samples = samples_chains.flatten()\n",
    "    plt.hist(all_samples.numpy(), bins=15, density=True, alpha=0.7, color='gray')\n",
    "    plt.axvline(true_value, color='green', linestyle='-', linewidth=2, label=\"True value\")\n",
    "    qs = quantile(all_samples, probs=[0.025, 0.5, 0.975], dim=0)\n",
    "    for q in qs:\n",
    "         plt.axvline(q.item(), color='red', linestyle='--', linewidth=2)\n",
    "    plt.title(f\"Histogram with Quantiles for {param}\")\n",
    "    plt.xlabel(\"Parameter Value\")\n",
    "    plt.ylabel(\"Density\")\n",
    "    plt.tight_layout()\n",
    "    plt.show()\n",
    "\n",
    "    # ACF\n",
    "    plot_acf(samples_chains[0].numpy(), lags=50)\n",
    "    plt.xlabel(\"Lag\")\n",
    "    plt.ylabel(\"Autocorrelation\")\n",
    "    plt.title(f\"ACF Plot for {param} (Chain 1)\")\n",
    "    plt.show()\n",
    "\n",
    "    \n",
    "#     acf = autocorrelation(mcmc_samples[param], dim=0)\n",
    "#     plt.figure(figsize=(6, 4))\n",
    "#     plt.plot(acf.numpy(), marker='o')\n",
    "#     plt.title(f\"Autocorrelation for {param} (Chain 1)\")\n",
    "#     plt.xlabel(\"Lag\")\n",
    "#     plt.ylabel(\"Autocorrelation\")\n",
    "#     plt.show()\n",
    "    \n",
    "    # Weighed Quantile\n",
    "    # 使用均匀权重（对数权重为0）时，带权重分位数应与普通分位数一致\n",
    "#     log_weights = torch.zeros_like(samples)\n",
    "#     wq = weighed_quantile(samples, probs=[0.025, 0.5, 0.975], log_weights=log_weights, dim=0)\n",
    "#     print(f\"{param} weighed quantiles: {wq}\\n\")\n"
   ]
  },
  {
   "cell_type": "markdown",
   "metadata": {},
   "source": [
    "# MCMC V 1 chain"
   ]
  },
  {
   "cell_type": "code",
   "execution_count": null,
   "metadata": {},
   "outputs": [],
   "source": [
    "with open(\"Result/L.MGP_21_mcmc_result/result_35.pkl\", \"rb\") as f:\n",
    "    loaded_samples_chain1 = pickle.load(f)"
   ]
  },
  {
   "cell_type": "code",
   "execution_count": 18,
   "metadata": {},
   "outputs": [],
   "source": [
    "with open(\"PlotData/MVGP_21_mcmc_result/result_1.pkl\", \"rb\") as f:\n",
    "    loaded_samples_chain1 = pickle.load(f)"
   ]
  },
  {
   "cell_type": "code",
   "execution_count": 16,
   "metadata": {},
   "outputs": [],
   "source": [
    "with open(\"PlotData/L.DKMGP_21_mcmc_result/result_1.pkl\", \"rb\") as f:\n",
    "    loaded_samples_chain1 = pickle.load(f)"
   ]
  },
  {
   "cell_type": "code",
   "execution_count": null,
   "metadata": {},
   "outputs": [],
   "source": [
    "with open(\"PlotData/DNN_21_mcmc_result/result_1.pkl\", \"rb\") as f:\n",
    "    loaded_samples_chain1 = pickle.load(f)"
   ]
  },
  {
   "cell_type": "code",
   "execution_count": 5,
   "metadata": {},
   "outputs": [],
   "source": [
    "with open(\"LocalDisease/Result/MVGP_21_mcmc_result/result_1.pkl\", \"rb\") as f:\n",
    "    loaded_samples_chain1 = pickle.load(f)"
   ]
  },
  {
   "cell_type": "code",
   "execution_count": 7,
   "metadata": {},
   "outputs": [
    {
     "data": {
      "text/plain": [
       "{'param_0': tensor([4.9722, 4.9722, 4.9722,  ..., 4.9722, 4.9722, 4.9722]),\n",
       " 'param_1': tensor([0.6832, 0.6832, 0.6832,  ..., 0.6832, 0.6832, 0.6832]),\n",
       " 'param_2': tensor([4.9218, 4.9218, 4.9218,  ..., 4.9218, 4.9218, 4.9218]),\n",
       " 'param_3': tensor([0.6107, 0.6107, 0.6107,  ..., 0.6107, 0.6107, 0.6107]),\n",
       " 'param_4': tensor([4.9383, 4.9383, 4.9383,  ..., 4.9383, 4.9383, 4.9383]),\n",
       " 'param_5': tensor([4.7618, 4.7618, 4.7618,  ..., 4.7618, 4.7618, 4.7618]),\n",
       " 'param_6': tensor([4.9941, 4.9941, 4.9941,  ..., 4.9941, 4.9941, 4.9941]),\n",
       " 'param_7': tensor([4.9470, 4.9470, 4.9470,  ..., 4.9470, 4.9470, 4.9470]),\n",
       " 'param_8': tensor([4.9444, 4.9444, 4.9444,  ..., 4.9444, 4.9444, 4.9444]),\n",
       " 'param_9': tensor([2.7773, 2.7773, 2.7773,  ..., 2.7768, 2.7768, 2.7768])}"
      ]
     },
     "execution_count": 7,
     "metadata": {},
     "output_type": "execute_result"
    }
   ],
   "source": [
    "loaded_samples_chain1"
   ]
  },
  {
   "cell_type": "code",
   "execution_count": null,
   "metadata": {},
   "outputs": [],
   "source": [
    "loaded_samples_chain1 = torch.load(\"mcmc_samples_6.pt\", map_location=Device)"
   ]
  },
  {
   "cell_type": "code",
   "execution_count": 6,
   "metadata": {},
   "outputs": [
    {
     "name": "stdout",
     "output_type": "stream",
     "text": [
      "param_0: R-hat = nan, split R-hat = nan, ESS = nan\n"
     ]
    },
    {
     "ename": "LinAlgError",
     "evalue": "The data appears to lie in a lower-dimensional subspace of the space in which it is expressed. This has resulted in a singular data covariance matrix, which cannot be treated using the algorithms implemented in `gaussian_kde`. Consider performing principle component analysis / dimensionality reduction and using `gaussian_kde` with the transformed data.",
     "output_type": "error",
     "traceback": [
      "\u001b[1;31m---------------------------------------------------------------------------\u001b[0m",
      "\u001b[1;31mLinAlgError\u001b[0m                               Traceback (most recent call last)",
      "File \u001b[1;32md:\\anaconda3\\envs\\FGPyT\\lib\\site-packages\\scipy\\stats\\_kde.py:226\u001b[0m, in \u001b[0;36mgaussian_kde.__init__\u001b[1;34m(self, dataset, bw_method, weights)\u001b[0m\n\u001b[0;32m    225\u001b[0m \u001b[38;5;28;01mtry\u001b[39;00m:\n\u001b[1;32m--> 226\u001b[0m     \u001b[38;5;28;43mself\u001b[39;49m\u001b[38;5;241;43m.\u001b[39;49m\u001b[43mset_bandwidth\u001b[49m\u001b[43m(\u001b[49m\u001b[43mbw_method\u001b[49m\u001b[38;5;241;43m=\u001b[39;49m\u001b[43mbw_method\u001b[49m\u001b[43m)\u001b[49m\n\u001b[0;32m    227\u001b[0m \u001b[38;5;28;01mexcept\u001b[39;00m linalg\u001b[38;5;241m.\u001b[39mLinAlgError \u001b[38;5;28;01mas\u001b[39;00m e:\n",
      "File \u001b[1;32md:\\anaconda3\\envs\\FGPyT\\lib\\site-packages\\scipy\\stats\\_kde.py:574\u001b[0m, in \u001b[0;36mgaussian_kde.set_bandwidth\u001b[1;34m(self, bw_method)\u001b[0m\n\u001b[0;32m    572\u001b[0m     \u001b[38;5;28;01mraise\u001b[39;00m \u001b[38;5;167;01mValueError\u001b[39;00m(msg)\n\u001b[1;32m--> 574\u001b[0m \u001b[38;5;28;43mself\u001b[39;49m\u001b[38;5;241;43m.\u001b[39;49m\u001b[43m_compute_covariance\u001b[49m\u001b[43m(\u001b[49m\u001b[43m)\u001b[49m\n",
      "File \u001b[1;32md:\\anaconda3\\envs\\FGPyT\\lib\\site-packages\\scipy\\stats\\_kde.py:586\u001b[0m, in \u001b[0;36mgaussian_kde._compute_covariance\u001b[1;34m(self)\u001b[0m\n\u001b[0;32m    583\u001b[0m     \u001b[38;5;28mself\u001b[39m\u001b[38;5;241m.\u001b[39m_data_covariance \u001b[38;5;241m=\u001b[39m atleast_2d(cov(\u001b[38;5;28mself\u001b[39m\u001b[38;5;241m.\u001b[39mdataset, rowvar\u001b[38;5;241m=\u001b[39m\u001b[38;5;241m1\u001b[39m,\n\u001b[0;32m    584\u001b[0m                                        bias\u001b[38;5;241m=\u001b[39m\u001b[38;5;28;01mFalse\u001b[39;00m,\n\u001b[0;32m    585\u001b[0m                                        aweights\u001b[38;5;241m=\u001b[39m\u001b[38;5;28mself\u001b[39m\u001b[38;5;241m.\u001b[39mweights))\n\u001b[1;32m--> 586\u001b[0m     \u001b[38;5;28mself\u001b[39m\u001b[38;5;241m.\u001b[39m_data_cho_cov \u001b[38;5;241m=\u001b[39m \u001b[43mlinalg\u001b[49m\u001b[38;5;241;43m.\u001b[39;49m\u001b[43mcholesky\u001b[49m\u001b[43m(\u001b[49m\u001b[38;5;28;43mself\u001b[39;49m\u001b[38;5;241;43m.\u001b[39;49m\u001b[43m_data_covariance\u001b[49m\u001b[43m,\u001b[49m\n\u001b[0;32m    587\u001b[0m \u001b[43m                                         \u001b[49m\u001b[43mlower\u001b[49m\u001b[38;5;241;43m=\u001b[39;49m\u001b[38;5;28;43;01mTrue\u001b[39;49;00m\u001b[43m)\u001b[49m\n\u001b[0;32m    589\u001b[0m \u001b[38;5;28mself\u001b[39m\u001b[38;5;241m.\u001b[39mcovariance \u001b[38;5;241m=\u001b[39m \u001b[38;5;28mself\u001b[39m\u001b[38;5;241m.\u001b[39m_data_covariance \u001b[38;5;241m*\u001b[39m \u001b[38;5;28mself\u001b[39m\u001b[38;5;241m.\u001b[39mfactor\u001b[38;5;241m*\u001b[39m\u001b[38;5;241m*\u001b[39m\u001b[38;5;241m2\u001b[39m\n",
      "File \u001b[1;32md:\\anaconda3\\envs\\FGPyT\\lib\\site-packages\\scipy\\linalg\\_decomp_cholesky.py:88\u001b[0m, in \u001b[0;36mcholesky\u001b[1;34m(a, lower, overwrite_a, check_finite)\u001b[0m\n\u001b[0;32m     45\u001b[0m \u001b[38;5;250m\u001b[39m\u001b[38;5;124;03m\"\"\"\u001b[39;00m\n\u001b[0;32m     46\u001b[0m \u001b[38;5;124;03mCompute the Cholesky decomposition of a matrix.\u001b[39;00m\n\u001b[0;32m     47\u001b[0m \n\u001b[1;32m   (...)\u001b[0m\n\u001b[0;32m     86\u001b[0m \n\u001b[0;32m     87\u001b[0m \u001b[38;5;124;03m\"\"\"\u001b[39;00m\n\u001b[1;32m---> 88\u001b[0m c, lower \u001b[38;5;241m=\u001b[39m \u001b[43m_cholesky\u001b[49m\u001b[43m(\u001b[49m\u001b[43ma\u001b[49m\u001b[43m,\u001b[49m\u001b[43m \u001b[49m\u001b[43mlower\u001b[49m\u001b[38;5;241;43m=\u001b[39;49m\u001b[43mlower\u001b[49m\u001b[43m,\u001b[49m\u001b[43m \u001b[49m\u001b[43moverwrite_a\u001b[49m\u001b[38;5;241;43m=\u001b[39;49m\u001b[43moverwrite_a\u001b[49m\u001b[43m,\u001b[49m\u001b[43m \u001b[49m\u001b[43mclean\u001b[49m\u001b[38;5;241;43m=\u001b[39;49m\u001b[38;5;28;43;01mTrue\u001b[39;49;00m\u001b[43m,\u001b[49m\n\u001b[0;32m     89\u001b[0m \u001b[43m                     \u001b[49m\u001b[43mcheck_finite\u001b[49m\u001b[38;5;241;43m=\u001b[39;49m\u001b[43mcheck_finite\u001b[49m\u001b[43m)\u001b[49m\n\u001b[0;32m     90\u001b[0m \u001b[38;5;28;01mreturn\u001b[39;00m c\n",
      "File \u001b[1;32md:\\anaconda3\\envs\\FGPyT\\lib\\site-packages\\scipy\\linalg\\_decomp_cholesky.py:36\u001b[0m, in \u001b[0;36m_cholesky\u001b[1;34m(a, lower, overwrite_a, clean, check_finite)\u001b[0m\n\u001b[0;32m     35\u001b[0m \u001b[38;5;28;01mif\u001b[39;00m info \u001b[38;5;241m>\u001b[39m \u001b[38;5;241m0\u001b[39m:\n\u001b[1;32m---> 36\u001b[0m     \u001b[38;5;28;01mraise\u001b[39;00m LinAlgError(\u001b[38;5;124m\"\u001b[39m\u001b[38;5;132;01m%d\u001b[39;00m\u001b[38;5;124m-th leading minor of the array is not positive \u001b[39m\u001b[38;5;124m\"\u001b[39m\n\u001b[0;32m     37\u001b[0m                       \u001b[38;5;124m\"\u001b[39m\u001b[38;5;124mdefinite\u001b[39m\u001b[38;5;124m\"\u001b[39m \u001b[38;5;241m%\u001b[39m info)\n\u001b[0;32m     38\u001b[0m \u001b[38;5;28;01mif\u001b[39;00m info \u001b[38;5;241m<\u001b[39m \u001b[38;5;241m0\u001b[39m:\n",
      "\u001b[1;31mLinAlgError\u001b[0m: 1-th leading minor of the array is not positive definite",
      "\nThe above exception was the direct cause of the following exception:\n",
      "\u001b[1;31mLinAlgError\u001b[0m                               Traceback (most recent call last)",
      "Cell \u001b[1;32mIn[6], line 53\u001b[0m\n\u001b[0;32m     49\u001b[0m xmin, xmax \u001b[38;5;241m=\u001b[39m np\u001b[38;5;241m.\u001b[39mpercentile(all_samps, [\u001b[38;5;241m0.5\u001b[39m, \u001b[38;5;241m99.5\u001b[39m])\n\u001b[0;32m     51\u001b[0m plt\u001b[38;5;241m.\u001b[39mhist(all_samps, bins\u001b[38;5;241m=\u001b[39m\u001b[38;5;241m15\u001b[39m, density\u001b[38;5;241m=\u001b[39m\u001b[38;5;28;01mTrue\u001b[39;00m, alpha\u001b[38;5;241m=\u001b[39m\u001b[38;5;241m0.7\u001b[39m, color\u001b[38;5;241m=\u001b[39m\u001b[38;5;124m'\u001b[39m\u001b[38;5;124mgray\u001b[39m\u001b[38;5;124m'\u001b[39m)\n\u001b[1;32m---> 53\u001b[0m kde \u001b[38;5;241m=\u001b[39m \u001b[43mgaussian_kde\u001b[49m\u001b[43m(\u001b[49m\u001b[43mall_samps\u001b[49m\u001b[43m)\u001b[49m\n\u001b[0;32m     54\u001b[0m x_grid \u001b[38;5;241m=\u001b[39m np\u001b[38;5;241m.\u001b[39mlinspace(xmin, xmax, \u001b[38;5;241m200\u001b[39m)\n\u001b[0;32m     55\u001b[0m \u001b[38;5;66;03m# plt.plot(x_grid, kde(x_grid), color='blue', linewidth=2, label=\"KDE\")\u001b[39;00m\n",
      "File \u001b[1;32md:\\anaconda3\\envs\\FGPyT\\lib\\site-packages\\scipy\\stats\\_kde.py:235\u001b[0m, in \u001b[0;36mgaussian_kde.__init__\u001b[1;34m(self, dataset, bw_method, weights)\u001b[0m\n\u001b[0;32m    227\u001b[0m \u001b[38;5;28;01mexcept\u001b[39;00m linalg\u001b[38;5;241m.\u001b[39mLinAlgError \u001b[38;5;28;01mas\u001b[39;00m e:\n\u001b[0;32m    228\u001b[0m     msg \u001b[38;5;241m=\u001b[39m (\u001b[38;5;124m\"\u001b[39m\u001b[38;5;124mThe data appears to lie in a lower-dimensional subspace \u001b[39m\u001b[38;5;124m\"\u001b[39m\n\u001b[0;32m    229\u001b[0m            \u001b[38;5;124m\"\u001b[39m\u001b[38;5;124mof the space in which it is expressed. This has resulted \u001b[39m\u001b[38;5;124m\"\u001b[39m\n\u001b[0;32m    230\u001b[0m            \u001b[38;5;124m\"\u001b[39m\u001b[38;5;124min a singular data covariance matrix, which cannot be \u001b[39m\u001b[38;5;124m\"\u001b[39m\n\u001b[1;32m   (...)\u001b[0m\n\u001b[0;32m    233\u001b[0m            \u001b[38;5;124m\"\u001b[39m\u001b[38;5;124manalysis / dimensionality reduction and using \u001b[39m\u001b[38;5;124m\"\u001b[39m\n\u001b[0;32m    234\u001b[0m            \u001b[38;5;124m\"\u001b[39m\u001b[38;5;124m`gaussian_kde` with the transformed data.\u001b[39m\u001b[38;5;124m\"\u001b[39m)\n\u001b[1;32m--> 235\u001b[0m     \u001b[38;5;28;01mraise\u001b[39;00m linalg\u001b[38;5;241m.\u001b[39mLinAlgError(msg) \u001b[38;5;28;01mfrom\u001b[39;00m \u001b[38;5;21;01me\u001b[39;00m\n",
      "\u001b[1;31mLinAlgError\u001b[0m: The data appears to lie in a lower-dimensional subspace of the space in which it is expressed. This has resulted in a singular data covariance matrix, which cannot be treated using the algorithms implemented in `gaussian_kde`. Consider performing principle component analysis / dimensionality reduction and using `gaussian_kde` with the transformed data."
     ]
    },
    {
     "data": {
      "image/png": "[encoded data removed]",
      "text/plain": [
       "<Figure size 1200x400 with 2 Axes>"
      ]
     },
     "metadata": {},
     "output_type": "display_data"
    }
   ],
   "source": [
    "single_chain_samples = loaded_samples_chain1  # dict: param -> Tensor[n_samples]\n",
    "\n",
    "# 将每条参数的样本拆成两半\n",
    "def split_chain(chain_tensor):\n",
    "    n = chain_tensor.shape[0]\n",
    "    half = n // 2\n",
    "    return chain_tensor[:half], chain_tensor[half:2*half]\n",
    "\n",
    "# 整理成 mcmc_samples：param -> Tensor[2, n_half]\n",
    "mcmc_samples = {}\n",
    "for param, samples in single_chain_samples.items():\n",
    "    chain_a, chain_b = split_chain(samples)\n",
    "    # 如果原链长度是奇数，可以选择丢弃最后一个样本或做其他处理\n",
    "    mcmc_samples[param] = torch.stack([chain_a, chain_b], dim=0)\n",
    "\n",
    "# 真实值\n",
    "param_names = sorted(list(single_chain_samples.keys()))\n",
    "### 记得改\n",
    "true_params_tensor = test_x[0]\n",
    "\n",
    "true_params = {name: true_params_tensor[i].item() for i, name in enumerate(param_names)}\n",
    "\n",
    "\n",
    "# 诊断和可视化\n",
    "for param, samples_chains in mcmc_samples.items():\n",
    "    true_value = true_params[param]\n",
    "    \n",
    "    # 计算诊断量\n",
    "    rhat = gelman_rubin(samples_chains, chain_dim=0, sample_dim=1)\n",
    "    split_rhat = split_gelman_rubin(samples_chains, chain_dim=0, sample_dim=1)\n",
    "    ess = effective_sample_size(samples_chains, chain_dim=0, sample_dim=1)\n",
    "    print(f\"{param}: R-hat = {rhat:.3f}, split R-hat = {split_rhat:.3f}, ESS = {ess:.1f}\")\n",
    "    \n",
    "    # 绘制 Trace Plot\n",
    "    plt.figure(figsize=(12, 4))\n",
    "    plt.subplot(1, 2, 1)\n",
    "    for i in range(2):\n",
    "        plt.plot(samples_chains[i].cpu().numpy(), marker='o', label=f\"Chain {i+1}\", alpha=0.7)\n",
    "    plt.axhline(true_value, color='green', linestyle='--', linewidth=2, label=\"True value\")\n",
    "    plt.title(f\"Trace Plot for {param}\")\n",
    "    plt.xlabel(\"Sample Index\")\n",
    "    plt.ylabel(param)\n",
    "    plt.legend()\n",
    "    \n",
    "    # 绘制 Histogram + Quantiles\n",
    "    plt.subplot(1, 2, 2)\n",
    "    all_samps = samples_chains.reshape(-1).cpu().numpy()\n",
    "\n",
    "    xmin, xmax = np.percentile(all_samps, [0.5, 99.5])\n",
    "\n",
    "    plt.hist(all_samps, bins=15, density=True, alpha=0.7, color='gray')\n",
    "\n",
    "    kde = gaussian_kde(all_samps)\n",
    "    x_grid = np.linspace(xmin, xmax, 200)\n",
    "    # plt.plot(x_grid, kde(x_grid), color='blue', linewidth=2, label=\"KDE\")\n",
    "    plt.plot(x_grid, kde(x_grid), color='blue', linewidth=2)\n",
    "\n",
    "    plt.axvline(true_value, color='green', linestyle='-', linewidth=2, label=\"True value\")\n",
    "    qs = torch.quantile(torch.from_numpy(all_samps), torch.tensor([0.025, 0.5, 0.975]))\n",
    "    for q in qs:\n",
    "        plt.axvline(q.item(), color='red', linestyle='--', linewidth=2)\n",
    "    \n",
    "    # plt.xlim(0.1, 5)\n",
    "\n",
    "    plt.title(f\"Histogram + 2.5/50/97.5% Quantiles\")\n",
    "    plt.xlabel(\"Value\")\n",
    "    plt.ylabel(\"Density\")\n",
    "    plt.tight_layout()\n",
    "    plt.show()\n",
    "    \n",
    "    # 绘制 ACF（仅第一“伪链”）\n",
    "    plt.figure(figsize=(6,4))\n",
    "    plot_acf(samples_chains[0].cpu().numpy(), lags=40)\n",
    "    plt.title(f\"ACF for {param} (Chain 1)\")\n",
    "    plt.xlabel(\"Lag\")\n",
    "    plt.ylabel(\"Autocorrelation\")\n",
    "    plt.tight_layout()\n",
    "    plt.show()"
   ]
  },
  {
   "cell_type": "code",
   "execution_count": null,
   "metadata": {},
   "outputs": [],
   "source": [
    "single_chain_samples = loaded_samples_chain1  # dict: param -> Tensor[n_samples]\n",
    "\n",
    "# 将每条参数的样本拆成两半\n",
    "def split_chain(chain_tensor):\n",
    "    n = chain_tensor.shape[0]\n",
    "    half = n // 2\n",
    "    return chain_tensor[:half], chain_tensor[half:2*half]\n",
    "\n",
    "# 整理成 mcmc_samples：param -> Tensor[2, n_half]\n",
    "mcmc_samples = {}\n",
    "for param, samples in single_chain_samples.items():\n",
    "    chain_a, chain_b = split_chain(samples)\n",
    "    # 如果原链长度是奇数，可以选择丢弃最后一个样本或做其他处理\n",
    "    mcmc_samples[param] = torch.stack([chain_a, chain_b], dim=0)\n",
    "\n",
    "# 真实值\n",
    "# param_names = sorted(list(single_chain_samples.keys()))\n",
    "# true_params_tensor = test_x[34]\n",
    "# true_params = {name: true_params_tensor[i].item() for i, name in enumerate(param_names)}\n",
    "\n",
    "# 诊断和可视化\n",
    "for param, samples_chains in mcmc_samples.items():\n",
    "    # true_value = true_params[param]\n",
    "    \n",
    "    # 计算诊断量\n",
    "    rhat = gelman_rubin(samples_chains, chain_dim=0, sample_dim=1)\n",
    "    split_rhat = split_gelman_rubin(samples_chains, chain_dim=0, sample_dim=1)\n",
    "    ess = effective_sample_size(samples_chains, chain_dim=0, sample_dim=1)\n",
    "    print(f\"{param}: R-hat = {rhat:.3f}, split R-hat = {split_rhat:.3f}, ESS = {ess:.1f}\")\n",
    "    \n",
    "    # 绘制 Trace Plot\n",
    "    plt.figure(figsize=(12, 4))\n",
    "    plt.subplot(1, 2, 1)\n",
    "    for i in range(2):\n",
    "        plt.plot(samples_chains[i].cpu().numpy(), marker='o', label=f\"Chain {i+1}\", alpha=0.7)\n",
    "    # plt.axhline(true_value, color='green', linestyle='--', linewidth=2, label=\"True value\")\n",
    "    plt.title(f\"Trace Plot for {param}\")\n",
    "    plt.xlabel(\"Sample Index\")\n",
    "    plt.ylabel(param)\n",
    "    plt.legend()\n",
    "    \n",
    "    # 绘制 Histogram + Quantiles\n",
    "    plt.subplot(1, 2, 2)\n",
    "    all_samps = samples_chains.reshape(-1).cpu().numpy()\n",
    "    plt.hist(all_samps, bins=15, density=True, alpha=0.7, color='gray')\n",
    "    # plt.axvline(true_value, color='green', linestyle='-', linewidth=2, label=\"True value\")\n",
    "    qs = torch.quantile(torch.from_numpy(all_samps), torch.tensor([0.025, 0.5, 0.975]))\n",
    "    for q in qs:\n",
    "        plt.axvline(q.item(), color='red', linestyle='--', linewidth=2)\n",
    "    plt.title(f\"Histogram + 2.5/50/97.5% Quantiles\")\n",
    "    plt.xlabel(\"Value\")\n",
    "    plt.ylabel(\"Density\")\n",
    "    plt.tight_layout()\n",
    "    plt.show()\n",
    "    \n",
    "    # 绘制 ACF（仅第一“伪链”）\n",
    "    plt.figure(figsize=(6,4))\n",
    "    plot_acf(samples_chains[0].cpu().numpy(), lags=40)\n",
    "    plt.title(f\"ACF for {param} (Chain 1)\")\n",
    "    plt.xlabel(\"Lag\")\n",
    "    plt.ylabel(\"Autocorrelation\")\n",
    "    plt.tight_layout()\n",
    "    plt.show()"
   ]
  },
  {
   "cell_type": "markdown",
   "metadata": {},
   "source": [
    "# Likelihood"
   ]
  },
  {
   "cell_type": "markdown",
   "metadata": {},
   "source": [
    "## L.MGP"
   ]
  },
  {
   "cell_type": "code",
   "execution_count": null,
   "metadata": {},
   "outputs": [],
   "source": [
    "row_idx = 0\n",
    "\n",
    "input_point = test_y_21[row_idx,:]\n",
    "local_train_x, local_train_y = Tools.find_k_nearest_neighbors_CPU(input_point, train_x, train_y_21, k=500)\n",
    "\n",
    "MultitaskGP_models, MultitaskGP_likelihoods = Training.train_one_row_MultitaskGP(\n",
    "    local_train_x, local_train_y, n_tasks = local_train_y.shape[1], \n",
    "    covar_type = 'RBF', lr=0.05, num_iterations=5000, patience=50, device=Device)"
   ]
  },
  {
   "cell_type": "markdown",
   "metadata": {},
   "source": [
    "## L.DKMGP"
   ]
  },
  {
   "cell_type": "code",
   "execution_count": null,
   "metadata": {},
   "outputs": [],
   "source": [
    "row_idx = 0\n",
    "\n",
    "input_point = test_y_21[row_idx,:]\n",
    "local_train_x, local_train_y = Tools.find_k_nearest_neighbors_CPU(input_point, train_x, train_y_21, k=500)\n",
    "\n",
    "MultitaskGP_models, MultitaskGP_likelihoods = Training.train_one_row_NNMultitaskGP(\n",
    "        local_train_x, local_train_y, n_tasks = local_train_y.shape[1], \n",
    "        feature_extractor_class = FeatureE.FeatureExtractor_4, covar_type = 'RQ', \n",
    "        lr=0.05, num_iterations=5000, patience=50, device = Device)"
   ]
  },
  {
   "cell_type": "markdown",
   "metadata": {},
   "source": [
    "## MVGP"
   ]
  },
  {
   "cell_type": "code",
   "execution_count": null,
   "metadata": {},
   "outputs": [],
   "source": [
    "checkpoint = torch.load('multitask_gp_checkpoint_21.pth', map_location=Device)\n",
    "model_params = checkpoint['model_params']\n",
    "\n",
    "MVGP_models = GP_models.MultitaskVariationalGP(train_x, train_y_21, \n",
    "                                               num_latents=model_params['num_latents'], \n",
    "                                               num_inducing=model_params['num_inducing'], \n",
    "                                               covar_type=model_params['covar_type']).to(Device)\n",
    "\n",
    "MVGP_models.load_state_dict(checkpoint['model_state_dict'])\n",
    "\n",
    "MVGP_likelihoods = gpytorch.likelihoods.MultitaskGaussianLikelihood(num_tasks=train_y_21.shape[1]).to(Device)\n",
    "MVGP_likelihoods.load_state_dict(checkpoint['likelihood_state_dict'])\n",
    "\n",
    "MVGP_models.eval()\n",
    "MVGP_likelihoods.eval()"
   ]
  },
  {
   "cell_type": "code",
   "execution_count": null,
   "metadata": {},
   "outputs": [],
   "source": [
    "param_names = sorted(\n",
    "    [n for n in loaded_samples_chain1 if n.startswith('param_')],\n",
    "    key=lambda s: int(s.split('_')[1])\n",
    ")\n",
    "\n",
    "\n",
    "theta_samples = torch.stack([loaded_samples_chain1[n] for n in param_names], dim=-1)\n",
    "num_samples = theta_samples.shape[0]"
   ]
  },
  {
   "cell_type": "code",
   "execution_count": null,
   "metadata": {},
   "outputs": [],
   "source": [
    "model, likelihood = MVGP_models, MVGP_likelihoods\n",
    "\n",
    "model.eval()\n",
    "likelihood.eval()\n",
    "\n",
    "row_idx = 0\n",
    "\n",
    "log_likes = []\n",
    "\n",
    "with torch.no_grad():\n",
    "    for i in range(num_samples):\n",
    "        theta = theta_samples[i]\n",
    "        theta = torch.tensor(theta, dtype=torch.float32).unsqueeze(0)\n",
    "        # f_pred = model(theta)  \n",
    "\n",
    "        # y_pred_dist = likelihood(f_pred)\n",
    "        y_pred_dist = Prediction.preds_distribution_fast_pred_var(model, likelihood, theta)\n",
    "\n",
    "        y_obs = test_y_21[row_idx]            \n",
    "        ll = torch.exp(y_pred_dist.log_prob(y_obs))\n",
    "        log_likes.append(ll.item())\n",
    "\n",
    "\n",
    "log_likes = np.array(log_likes)\n",
    "\n",
    "plt.figure(figsize=(8,4))\n",
    "plt.plot(log_likes, lw=1)\n",
    "plt.xlabel('Sample index')\n",
    "plt.ylabel('Predictive Likelihood')\n",
    "plt.title('Trace of Predictive Likelihood')\n",
    "plt.grid(True)\n",
    "plt.tight_layout()\n",
    "plt.show()\n"
   ]
  },
  {
   "cell_type": "code",
   "execution_count": null,
   "metadata": {},
   "outputs": [],
   "source": [
    "theta = test_x[0].unsqueeze(0)"
   ]
  },
  {
   "cell_type": "code",
   "execution_count": null,
   "metadata": {},
   "outputs": [],
   "source": [
    "y_pred_dist = Prediction.preds_distribution_fast_pred_var(model, likelihood, theta)\n",
    "\n",
    "y_obs = test_y_21[row_idx]            \n",
    "torch.exp(y_pred_dist.log_prob(y_obs))"
   ]
  },
  {
   "cell_type": "code",
   "execution_count": null,
   "metadata": {},
   "outputs": [],
   "source": [
    "y_pred_dist.mean"
   ]
  },
  {
   "cell_type": "code",
   "execution_count": null,
   "metadata": {},
   "outputs": [],
   "source": [
    "y_obs"
   ]
  },
  {
   "cell_type": "markdown",
   "metadata": {},
   "source": [
    "# End"
   ]
  }
 ],
 "metadata": {
  "kernelspec": {
   "display_name": "FGPyT",
   "language": "python",
   "name": "python3"
  },
  "language_info": {
   "codemirror_mode": {
    "name": "ipython",
    "version": 3
   },
   "file_extension": ".py",
   "mimetype": "text/x-python",
   "name": "python",
   "nbconvert_exporter": "python",
   "pygments_lexer": "ipython3",
   "version": "3.10.15"
  }
 },
 "nbformat": 4,
 "nbformat_minor": 2
}
