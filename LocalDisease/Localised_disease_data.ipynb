{
 "cells": [
  {
   "cell_type": "markdown",
   "id": "1bb9903f",
   "metadata": {},
   "source": [
    "# Set up"
   ]
  },
  {
   "cell_type": "code",
   "execution_count": 1,
   "id": "954ad320",
   "metadata": {},
   "outputs": [],
   "source": [
    "import numpy as np\n",
    "import pandas as pd\n",
    "from typing import List, Tuple"
   ]
  },
  {
   "cell_type": "code",
   "execution_count": 2,
   "id": "561174f6",
   "metadata": {},
   "outputs": [],
   "source": [
    "RNG = np.random.default_rng(827)\n",
    "\n",
    "LOW, HIGH = 0.1, 5.0\n",
    "BASELINE = 1.0\n",
    "CENTRES = [1.0, 1.1, 1.5, 2.0, 3.0]\n",
    "REPLICATES_PER_REGION = 20"
   ]
  },
  {
   "cell_type": "code",
   "execution_count": 3,
   "id": "6487566c",
   "metadata": {},
   "outputs": [],
   "source": [
    "def sample_trunc_bvn(mean: np.ndarray, cov: np.ndarray, low: float, high: float) -> np.ndarray:\n",
    "    while True:\n",
    "        x = RNG.multivariate_normal(mean, cov)\n",
    "        if low <= x[0] <= high and low <= x[1] <= high:\n",
    "            return x\n",
    "\n",
    "def build_datasets_for_centre(m: float, sd2: float = 0.1, rho: float = 0.3) -> pd.DataFrame:\n",
    "    sd = np.sqrt(sd2)\n",
    "    cov = np.array([[sd**2, rho*sd**2],\n",
    "                    [rho*sd**2, sd**2]])\n",
    "    rows = []\n",
    "    for region in range(1, 6):\n",
    "        for _ in range(REPLICATES_PER_REGION):\n",
    "            mean = np.array([m, m])\n",
    "            a_r, b_r = sample_trunc_bvn(mean, cov, LOW, HIGH)\n",
    "            params = []\n",
    "            for r in range(1, 6):\n",
    "                if r == region:\n",
    "                    params.extend([a_r, b_r])\n",
    "                else:\n",
    "                    params.extend([BASELINE, BASELINE])\n",
    "            rows.append(params)\n",
    "    df = pd.DataFrame(rows, columns=[f\"{ab}{r}\" for r in range(1, 6) for ab in (\"a\",\"b\")])\n",
    "    return df\n",
    "\n",
    "\n"
   ]
  },
  {
   "cell_type": "code",
   "execution_count": 16,
   "id": "83bf30d3",
   "metadata": {},
   "outputs": [],
   "source": [
    "m=4\n",
    "df = build_datasets_for_centre(CENTRES[m], sd2=0.1, rho=0.3)"
   ]
  },
  {
   "cell_type": "code",
   "execution_count": null,
   "id": "9c2f9b34",
   "metadata": {},
   "outputs": [],
   "source": [
    "df.shape"
   ]
  },
  {
   "cell_type": "code",
   "execution_count": null,
   "id": "749feb9c",
   "metadata": {},
   "outputs": [],
   "source": [
    "df"
   ]
  },
  {
   "cell_type": "code",
   "execution_count": 17,
   "id": "a68cd551",
   "metadata": {},
   "outputs": [],
   "source": [
    "df = df.to_numpy()\n",
    "m, n = df.shape\n",
    "\n",
    "\n",
    "new_data = np.zeros((m, 34))\n",
    "\n",
    "\n",
    "mapping = {\n",
    "    0: [4, 16],\n",
    "    1: [5, 17],\n",
    "    2: [10, 22],\n",
    "    3: [11, 23],\n",
    "    4: [8, 6, 20, 18],\n",
    "    5: [9, 7, 21, 19],\n",
    "    6: [2, 0, 14, 12],\n",
    "    7: [3, 1, 15, 13],\n",
    "    8: [24, 26, 28, 30, 32],\n",
    "    9: [25, 27, 29, 31, 33]\n",
    "}\n",
    "\n",
    "for orig_col, new_cols in mapping.items():\n",
    "    for new_col in new_cols:\n",
    "        new_data[:, new_col] = df[:, orig_col]"
   ]
  },
  {
   "cell_type": "code",
   "execution_count": 18,
   "id": "1c0ab73b",
   "metadata": {},
   "outputs": [],
   "source": [
    "np.savetxt(\"LocalDisease/X_3.txt\", new_data, fmt='%0.4f')"
   ]
  },
  {
   "cell_type": "code",
   "execution_count": 3,
   "id": "f0401b74",
   "metadata": {},
   "outputs": [],
   "source": [
    "X_train = pd.read_csv('X_1_1.txt', header=None, delimiter=' ').values\n",
    "\n",
    "m = X_train.shape[0]\n",
    "\n",
    "mapping = {\n",
    "    0: [4, 16],\n",
    "    1: [5, 17],\n",
    "    2: [10, 22],\n",
    "    3: [11, 23],\n",
    "    4: [8, 6, 20, 18],\n",
    "    5: [9, 7, 21, 19],\n",
    "    6: [2, 0, 14, 12],\n",
    "    7: [3, 1, 15, 13],\n",
    "    8: [24, 26, 28, 30, 32],\n",
    "    9: [25, 27, 29, 31, 33]\n",
    "}\n",
    "\n",
    "X_all_recovered = np.zeros((m, len(mapping)))\n",
    "\n",
    "\n",
    "for orig_col, new_cols in mapping.items():\n",
    "\n",
    "    X_all_recovered[:, orig_col] = X_train[:, new_cols].mean(axis=1)\n",
    "\n",
    "X_train = np.around(X_all_recovered, decimals=4)"
   ]
  },
  {
   "cell_type": "code",
   "execution_count": 4,
   "id": "0d4fa553",
   "metadata": {},
   "outputs": [],
   "source": [
    "np.savetxt(\"X_1_1.csv\", X_train, delimiter=\",\", fmt=\"%.4f\")"
   ]
  }
 ],
 "metadata": {
  "kernelspec": {
   "display_name": "FGPyT",
   "language": "python",
   "name": "python3"
  },
  "language_info": {
   "codemirror_mode": {
    "name": "ipython",
    "version": 3
   },
   "file_extension": ".py",
   "mimetype": "text/x-python",
   "name": "python",
   "nbconvert_exporter": "python",
   "pygments_lexer": "ipython3",
   "version": "3.10.15"
  }
 },
 "nbformat": 4,
 "nbformat_minor": 5
}
