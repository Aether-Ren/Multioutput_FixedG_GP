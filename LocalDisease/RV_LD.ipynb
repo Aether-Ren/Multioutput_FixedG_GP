{
 "cells": [
  {
   "cell_type": "markdown",
   "id": "35b601ed",
   "metadata": {},
   "source": [
    "# Set up"
   ]
  },
  {
   "cell_type": "code",
   "execution_count": 8,
   "id": "0c811141",
   "metadata": {},
   "outputs": [],
   "source": [
    "import pandas as pd\n",
    "import ast\n",
    "import re"
   ]
  },
  {
   "cell_type": "markdown",
   "id": "f6ce6603",
   "metadata": {},
   "source": [
    "# Read&Edit Data"
   ]
  },
  {
   "cell_type": "code",
   "execution_count": 2,
   "id": "23dadb6c",
   "metadata": {},
   "outputs": [],
   "source": [
    "df = pd.read_csv(\"Result/MVGP_X_1_1_result.csv\")\n",
    "\n",
    "\n",
    "def parse_list_safe(s):\n",
    "    try:\n",
    "        return ast.literal_eval(s)\n",
    "    except Exception:\n",
    "        return []\n",
    "\n",
    "df[\"estimated_params_list\"] = df[\"estimated_params\"].apply(parse_list_safe)\n",
    "\n",
    "\n",
    "params_df = df[\"estimated_params_list\"].apply(pd.Series)\n"
   ]
  },
  {
   "cell_type": "code",
   "execution_count": null,
   "id": "5ae2b759",
   "metadata": {},
   "outputs": [],
   "source": [
    "params_df.to_csv(\"Result/PE_result/PE_X_1_1_result.csv\", index=False, header=False)"
   ]
  },
  {
   "cell_type": "code",
   "execution_count": 11,
   "id": "06a451c5",
   "metadata": {},
   "outputs": [],
   "source": [
    "df = pd.read_csv(\"Result/MVGP_X_1_5_result.csv\")\n",
    "\n",
    "def parse_np_float_list(s):\n",
    "    if pd.isna(s):\n",
    "        return []\n",
    "    s = str(s)\n",
    "\n",
    "    s = re.sub(r'np\\.float32\\(', '', s)\n",
    "    s = s.replace(')', '')\n",
    "\n",
    "    try:\n",
    "        out = ast.literal_eval(s)\n",
    "    except Exception:\n",
    "        out = re.findall(r'[-+]?\\d*\\.?\\d+(?:[eE][-+]?\\d+)?', s)\n",
    "    return [float(x) for x in out]\n",
    "\n",
    "\n",
    "params_list = df[\"estimated_params\"].apply(parse_np_float_list)\n",
    "params_df = params_list.apply(pd.Series)\n"
   ]
  },
  {
   "cell_type": "code",
   "execution_count": 13,
   "id": "d619e0dd",
   "metadata": {},
   "outputs": [],
   "source": [
    "params_df.to_csv(\"Result/PE_result/PE_X_1_5_result.csv\", index=False, header=False)"
   ]
  }
 ],
 "metadata": {
  "kernelspec": {
   "display_name": "GPTG",
   "language": "python",
   "name": "python3"
  },
  "language_info": {
   "codemirror_mode": {
    "name": "ipython",
    "version": 3
   },
   "file_extension": ".py",
   "mimetype": "text/x-python",
   "name": "python",
   "nbconvert_exporter": "python",
   "pygments_lexer": "ipython3",
   "version": "3.12.12"
  }
 },
 "nbformat": 4,
 "nbformat_minor": 5
}
