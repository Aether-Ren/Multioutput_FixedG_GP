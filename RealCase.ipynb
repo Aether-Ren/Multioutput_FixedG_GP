{
 "cells": [
  {
   "cell_type": "markdown",
   "id": "3f7b1e67",
   "metadata": {},
   "source": [
    "# Set up"
   ]
  },
  {
   "cell_type": "code",
   "execution_count": 1,
   "id": "6a7d7ae1",
   "metadata": {},
   "outputs": [],
   "source": [
    "import torch\n",
    "import gpytorch\n",
    "import pandas as pd\n",
    "import numpy as np\n",
    "import tqdm as tqdm\n",
    "\n",
    "\n",
    "import os\n",
    "import pickle\n",
    "\n",
    "import GP_functions.Loss_function as Loss_function\n",
    "import GP_functions.bound as bound\n",
    "import GP_functions.Estimation as Estimation\n",
    "import GP_functions.Training as Training\n",
    "import GP_functions.Prediction as Prediction\n",
    "import GP_functions.GP_models as GP_models\n",
    "import GP_functions.Tools as Tools\n",
    "import GP_functions.FeatureE as FeatureE"
   ]
  },
  {
   "cell_type": "markdown",
   "id": "ef57c16c",
   "metadata": {},
   "source": [
    "# Data"
   ]
  },
  {
   "cell_type": "code",
   "execution_count": null,
   "id": "138a48a8",
   "metadata": {},
   "outputs": [],
   "source": [
    "# Y_RealCase_train = pd.read_csv('Data/Y_train_std.csv', header=None, delimiter=',')\n",
    "# df_new = Y_RealCase_train.drop(Y_RealCase_train.columns[-18:], axis=1)\n",
    "# Y_data_train = df_new.drop(df_new.columns[17], axis=1)"
   ]
  },
  {
   "cell_type": "code",
   "execution_count": null,
   "id": "488a554c",
   "metadata": {},
   "outputs": [],
   "source": [
    "# np.savetxt(\"Y_RealCase_train.csv\", Y_data_train.values, delimiter=\",\", fmt=\"%.8f\")"
   ]
  },
  {
   "cell_type": "code",
   "execution_count": 2,
   "id": "eea4680b",
   "metadata": {},
   "outputs": [],
   "source": [
    "X_train = pd.read_csv('RealCase/RealCase_X_train.csv', header=None, delimiter=',').values\n",
    "X_test = pd.read_csv('RealCase/RealCase_X_test.csv', header=None, delimiter=',').values\n",
    "\n",
    "Y_train_pca = pd.read_csv('RealCase/RealCase_Y_train_pca.csv', header=None, delimiter=',').values\n",
    "Y_test_pca = pd.read_csv('RealCase/RealCase_Y_test_pca.csv', header=None, delimiter=',').values\n",
    "Realcase_data_pca = pd.read_csv('RealCase/RealCase_Y_pca.csv', header=None, delimiter=',').values\n",
    "\n",
    "Y_train = pd.read_csv('RealCase/RealCase_Y_train_std.csv', header=None, delimiter=',').values\n",
    "Y_test = pd.read_csv('RealCase/RealCase_Y_test_std.csv', header=None, delimiter=',').values\n",
    "Realcase_data = pd.read_csv('RealCase/RealCase_Y.csv', header=None, delimiter=',').values\n",
    "\n"
   ]
  },
  {
   "cell_type": "code",
   "execution_count": 3,
   "id": "7bf0ecc6",
   "metadata": {},
   "outputs": [],
   "source": [
    "train_x = torch.tensor(X_train, dtype=torch.float32)\n",
    "test_x = torch.tensor(X_test, dtype=torch.float32)\n",
    "\n",
    "train_y_pca = torch.tensor(Y_train_pca, dtype=torch.float32)\n",
    "test_y_pca = torch.tensor(Y_test_pca, dtype=torch.float32)\n",
    "realcase_y_pca = torch.tensor(Realcase_data_pca, dtype=torch.float32)\n",
    "\n",
    "\n",
    "torch.set_default_dtype(torch.float32)"
   ]
  },
  {
   "cell_type": "markdown",
   "id": "c80d3995",
   "metadata": {},
   "source": [
    "# Emulator"
   ]
  },
  {
   "cell_type": "code",
   "execution_count": 4,
   "id": "cc9cf6d3",
   "metadata": {},
   "outputs": [],
   "source": [
    "Device = 'cpu'"
   ]
  },
  {
   "cell_type": "markdown",
   "id": "af2835b4",
   "metadata": {},
   "source": [
    "## MVGP"
   ]
  },
  {
   "cell_type": "code",
   "execution_count": 5,
   "id": "df66aa81",
   "metadata": {},
   "outputs": [
    {
     "name": "stderr",
     "output_type": "stream",
     "text": [
      "C:\\Users\\r4718\\AppData\\Local\\Temp\\ipykernel_28836\\3563098655.py:1: FutureWarning: You are using `torch.load` with `weights_only=False` (the current default value), which uses the default pickle module implicitly. It is possible to construct malicious pickle data which will execute arbitrary code during unpickling (See https://github.com/pytorch/pytorch/blob/main/SECURITY.md#untrusted-models for more details). In a future release, the default value for `weights_only` will be flipped to `True`. This limits the functions that could be executed during unpickling. Arbitrary objects will no longer be allowed to be loaded via this mode unless they are explicitly allowlisted by the user via `torch.serialization.add_safe_globals`. We recommend you start setting `weights_only=True` for any use case where you don't have full control of the loaded file. Please open an issue on GitHub for any issues related to this experimental feature.\n",
      "  checkpoint = torch.load('multitask_gp_checkpoint_Realcase_pca.pth', map_location=Device)\n"
     ]
    },
    {
     "data": {
      "text/plain": [
       "MultitaskGaussianLikelihood(\n",
       "  (raw_task_noises_constraint): GreaterThan(1.000E-04)\n",
       "  (raw_noise_constraint): GreaterThan(1.000E-04)\n",
       ")"
      ]
     },
     "execution_count": 5,
     "metadata": {},
     "output_type": "execute_result"
    }
   ],
   "source": [
    "checkpoint = torch.load('multitask_gp_checkpoint_Realcase_pca.pth', map_location=Device)\n",
    "model_params = checkpoint['model_params']\n",
    "\n",
    "MVGP_models = GP_models.MultitaskVariationalGP(train_x, train_y_pca, \n",
    "                                               num_latents=model_params['num_latents'],\n",
    "                                               num_inducing=model_params['num_inducing'],  \n",
    "                                               covar_type=model_params['covar_type']).to(Device)\n",
    "\n",
    "MVGP_models.load_state_dict(checkpoint['model_state_dict'])\n",
    "\n",
    "MVGP_likelihoods = gpytorch.likelihoods.MultitaskGaussianLikelihood(num_tasks=train_y_pca.shape[1]).to(Device)\n",
    "MVGP_likelihoods.load_state_dict(checkpoint['likelihood_state_dict'])\n",
    "\n",
    "MVGP_models.eval()\n",
    "MVGP_likelihoods.eval()\n"
   ]
  },
  {
   "cell_type": "markdown",
   "id": "d7e5a1a3",
   "metadata": {},
   "source": [
    "# PE"
   ]
  },
  {
   "cell_type": "code",
   "execution_count": 6,
   "id": "0dcbe270",
   "metadata": {},
   "outputs": [],
   "source": [
    "input_point = realcase_y_pca[1,:]\n",
    "\n",
    "local_train_x, local_train_y = Tools.find_k_nearest_neighbors_CPU(input_point, train_x, train_y_pca, k=100)\n",
    "\n",
    "bounds = bound.get_bounds(local_train_x)"
   ]
  },
  {
   "cell_type": "code",
   "execution_count": 8,
   "id": "0e7d2c05",
   "metadata": {},
   "outputs": [],
   "source": [
    "row_idx = 1\n",
    "\n",
    "estimated_params_tmp, Loss_tmp = Estimation.multi_start_estimation(\n",
    "        MVGP_models, MVGP_likelihoods, row_idx, realcase_y_pca, bounds,\n",
    "        Estimation.estimate_params_for_one_model_Adam, num_starts=16, num_iterations=2000, lr=0.01,\n",
    "        patience=15, attraction_threshold=0.1, repulsion_strength=0.1, device=Device\n",
    "    )"
   ]
  },
  {
   "cell_type": "code",
   "execution_count": 9,
   "id": "2bcd4a6b",
   "metadata": {},
   "outputs": [
    {
     "data": {
      "text/plain": [
       "array([2.087089  , 0.1603    , 0.451373  , 0.8825183 , 0.7017178 ,\n",
       "       0.94163984, 0.28515026, 0.64933985, 0.1036    , 2.1799886 ],\n",
       "      dtype=float32)"
      ]
     },
     "execution_count": 9,
     "metadata": {},
     "output_type": "execute_result"
    }
   ],
   "source": [
    "estimated_params_tmp"
   ]
  },
  {
   "cell_type": "code",
   "execution_count": 10,
   "id": "16a91bd6",
   "metadata": {},
   "outputs": [
    {
     "data": {
      "text/plain": [
       "7.233599662780762"
      ]
     },
     "execution_count": 10,
     "metadata": {},
     "output_type": "execute_result"
    }
   ],
   "source": [
    "Loss_tmp"
   ]
  },
  {
   "cell_type": "code",
   "execution_count": 11,
   "id": "53386486",
   "metadata": {},
   "outputs": [
    {
     "data": {
      "text/plain": [
       "tensor([ 4.8996e+00, -1.6440e+01, -4.9566e-02, -2.2767e+00, -3.8035e+00,\n",
       "        -2.3900e+00, -9.0779e-01, -9.4588e-01,  5.2678e-02,  2.2119e-01,\n",
       "         1.1240e-01,  4.8254e-01,  1.3929e-01,  1.0623e+00, -3.1325e-01,\n",
       "         1.1797e-02, -2.7062e-02, -2.1244e-01], grad_fn=<ViewBackward0>)"
      ]
     },
     "execution_count": 11,
     "metadata": {},
     "output_type": "execute_result"
    }
   ],
   "source": [
    "Prediction.preds_for_one_model(MVGP_models, MVGP_likelihoods, torch.tensor(estimated_params_tmp).unsqueeze(0))"
   ]
  },
  {
   "cell_type": "code",
   "execution_count": 12,
   "id": "3396396f",
   "metadata": {},
   "outputs": [
    {
     "data": {
      "text/plain": [
       "tensor([  3.5505, -16.0766,  -0.2143,  -2.0070,  -3.5602,  -2.7620,  -2.0801,\n",
       "         -2.8424,  -0.2216,  -1.3187,   2.7081,   4.0316,  -0.4541,   3.0037,\n",
       "         -1.8883,  -0.2389,   3.3049,  -2.5702])"
      ]
     },
     "execution_count": 12,
     "metadata": {},
     "output_type": "execute_result"
    }
   ],
   "source": [
    "input_point"
   ]
  },
  {
   "cell_type": "code",
   "execution_count": null,
   "id": "62cc408c",
   "metadata": {},
   "outputs": [],
   "source": [
    "row_idx = 0\n",
    "\n",
    "input_point = test_y_pca[row_idx,:]\n",
    "\n",
    "local_train_x, local_train_y = Tools.find_k_nearest_neighbors_CPU(input_point, train_x, train_y_pca, k=100)\n",
    "\n",
    "bounds = bound.get_bounds(local_train_x)\n",
    "\n",
    "estimated_params_tmp, Loss_tmp = Estimation.multi_start_estimation(\n",
    "        MVGP_models, MVGP_likelihoods, row_idx, test_y_pca, bounds,\n",
    "        Estimation.estimate_params_for_one_model_Adam, num_starts=6, num_iterations=2000, lr=0.01,\n",
    "        patience=15, attraction_threshold=0.1, repulsion_strength=0.1, device=Device\n",
    "    )"
   ]
  },
  {
   "cell_type": "code",
   "execution_count": null,
   "id": "03176ef6",
   "metadata": {},
   "outputs": [],
   "source": [
    "estimated_params_tmp"
   ]
  },
  {
   "cell_type": "code",
   "execution_count": null,
   "id": "37205db6",
   "metadata": {},
   "outputs": [],
   "source": [
    "Loss_tmp"
   ]
  },
  {
   "cell_type": "code",
   "execution_count": null,
   "id": "d00e0278",
   "metadata": {},
   "outputs": [],
   "source": [
    "test_x[row_idx,:]"
   ]
  },
  {
   "cell_type": "code",
   "execution_count": null,
   "id": "02c5e5bc",
   "metadata": {},
   "outputs": [],
   "source": [
    "mcmc_result_Uniform = Estimation.run_mcmc_Uniform(\n",
    "        Prediction.preds_distribution, MVGP_models, MVGP_likelihoods, \n",
    "        row_idx, test_y, bounds, \n",
    "        num_sampling=1200, warmup_step=300, num_chains=1, device=Device\n",
    "    )"
   ]
  }
 ],
 "metadata": {
  "kernelspec": {
   "display_name": "FGPyT",
   "language": "python",
   "name": "python3"
  },
  "language_info": {
   "codemirror_mode": {
    "name": "ipython",
    "version": 3
   },
   "file_extension": ".py",
   "mimetype": "text/x-python",
   "name": "python",
   "nbconvert_exporter": "python",
   "pygments_lexer": "ipython3",
   "version": "3.10.15"
  }
 },
 "nbformat": 4,
 "nbformat_minor": 5
}
