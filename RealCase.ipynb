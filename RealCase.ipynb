{
 "cells": [
  {
   "cell_type": "markdown",
   "id": "3f7b1e67",
   "metadata": {},
   "source": [
    "# Set up"
   ]
  },
  {
   "cell_type": "code",
   "execution_count": 1,
   "id": "6a7d7ae1",
   "metadata": {},
   "outputs": [],
   "source": [
    "import torch\n",
    "import gpytorch\n",
    "import pandas as pd\n",
    "import numpy as np\n",
    "import tqdm as tqdm\n",
    "\n",
    "import ast\n",
    "import matplotlib.pyplot as plt\n",
    "from sklearn.metrics import r2_score\n",
    "import os\n",
    "import pickle\n",
    "\n",
    "import GP_functions.Loss_function as Loss_function\n",
    "import GP_functions.bound as bound\n",
    "import GP_functions.Estimation as Estimation\n",
    "import GP_functions.Training as Training\n",
    "import GP_functions.Prediction as Prediction\n",
    "import GP_functions.GP_models as GP_models\n",
    "import GP_functions.Tools as Tools\n",
    "import GP_functions.FeatureE as FeatureE"
   ]
  },
  {
   "cell_type": "markdown",
   "id": "ef57c16c",
   "metadata": {},
   "source": [
    "# Data"
   ]
  },
  {
   "cell_type": "code",
   "execution_count": null,
   "id": "138a48a8",
   "metadata": {},
   "outputs": [],
   "source": [
    "# Y_RealCase_train = pd.read_csv('Data/Y_train_std.csv', header=None, delimiter=',')\n",
    "# df_new = Y_RealCase_train.drop(Y_RealCase_train.columns[-18:], axis=1)\n",
    "# Y_data_train = df_new.drop(df_new.columns[17], axis=1)"
   ]
  },
  {
   "cell_type": "code",
   "execution_count": null,
   "id": "488a554c",
   "metadata": {},
   "outputs": [],
   "source": [
    "# np.savetxt(\"Y_RealCase_train.csv\", Y_data_train.values, delimiter=\",\", fmt=\"%.8f\")"
   ]
  },
  {
   "cell_type": "code",
   "execution_count": 2,
   "id": "eea4680b",
   "metadata": {},
   "outputs": [],
   "source": [
    "X_train = pd.read_csv('RealCase/RealCase_X_train.csv', header=None, delimiter=',').values\n",
    "X_test = pd.read_csv('RealCase/RealCase_X_test.csv', header=None, delimiter=',').values\n",
    "\n",
    "Y_train_pca = pd.read_csv('RealCase/RealCase_Y_train_pca.csv', header=None, delimiter=',').values\n",
    "Y_test_pca = pd.read_csv('RealCase/RealCase_Y_test_pca.csv', header=None, delimiter=',').values\n",
    "Realcase_data_pca = pd.read_csv('RealCase/RealCase_Y_pca.csv', header=None, delimiter=',').values\n",
    "\n",
    "Y_train = pd.read_csv('RealCase/RealCase_Y_train_std.csv', header=None, delimiter=',').values\n",
    "Y_test = pd.read_csv('RealCase/RealCase_Y_test_std.csv', header=None, delimiter=',').values\n",
    "Realcase_data = pd.read_csv('RealCase/RealCase_Y.csv', header=None, delimiter=',').values\n",
    "\n"
   ]
  },
  {
   "cell_type": "code",
   "execution_count": 3,
   "id": "7bf0ecc6",
   "metadata": {},
   "outputs": [],
   "source": [
    "train_x = torch.tensor(X_train, dtype=torch.float32)\n",
    "test_x = torch.tensor(X_test, dtype=torch.float32)\n",
    "\n",
    "train_y_pca = torch.tensor(Y_train_pca, dtype=torch.float32)\n",
    "test_y_pca = torch.tensor(Y_test_pca, dtype=torch.float32)\n",
    "realcase_y_pca = torch.tensor(Realcase_data_pca, dtype=torch.float32)\n",
    "\n",
    "train_y = torch.tensor(Y_train, dtype=torch.float32)\n",
    "test_y = torch.tensor(Y_test, dtype=torch.float32)\n",
    "realcase_y = torch.tensor(Realcase_data, dtype=torch.float32)\n",
    "\n",
    "torch.set_default_dtype(torch.float32)"
   ]
  },
  {
   "cell_type": "markdown",
   "id": "c80d3995",
   "metadata": {},
   "source": [
    "# Emulator"
   ]
  },
  {
   "cell_type": "code",
   "execution_count": 4,
   "id": "cc9cf6d3",
   "metadata": {},
   "outputs": [],
   "source": [
    "# Device = 'cpu'\n",
    "\n",
    "Device = 'cuda'"
   ]
  },
  {
   "cell_type": "code",
   "execution_count": 20,
   "id": "bbc1cd23",
   "metadata": {},
   "outputs": [],
   "source": [
    "Row_peak = Realcase_data_pca[0]\n",
    "\n",
    "col_min = np.nanmin(Y_train_pca, axis=0)\n",
    "col_max = np.nanmax(Y_train_pca, axis=0)\n",
    "\n",
    "maskrow_11 = (Row_peak >= col_min) & (Row_peak <= col_max)\n",
    "\n",
    "Peak_case = Row_peak[maskrow_11]\n",
    "Y_train_pca_peak = Y_train_pca[:,maskrow_11]\n",
    "Y_test_pca_peak = Y_test_pca[:,maskrow_11]"
   ]
  },
  {
   "cell_type": "code",
   "execution_count": 21,
   "id": "47cf4558",
   "metadata": {},
   "outputs": [],
   "source": [
    "train_y_pca_peak = torch.tensor(Y_train_pca_peak, dtype=torch.float32)\n",
    "test_y_pca_peak = torch.tensor(Y_test_pca_peak, dtype=torch.float32)\n",
    "realcase_y_pca_peak = torch.tensor(Peak_case, dtype=torch.float32)"
   ]
  },
  {
   "cell_type": "markdown",
   "id": "af2835b4",
   "metadata": {},
   "source": [
    "## MVGP"
   ]
  },
  {
   "cell_type": "code",
   "execution_count": null,
   "id": "df66aa81",
   "metadata": {},
   "outputs": [],
   "source": [
    "checkpoint = torch.load('multitask_gp_checkpoint_Realcase_pca.pth', map_location=Device)\n",
    "model_params = checkpoint['model_params']\n",
    "\n",
    "MVGP_models = GP_models.MultitaskVariationalGP(train_x, train_y_pca, \n",
    "                                               num_latents=model_params['num_latents'],\n",
    "                                               num_inducing=model_params['num_inducing'],  \n",
    "                                               covar_type=model_params['covar_type']).to(Device)\n",
    "\n",
    "MVGP_models.load_state_dict(checkpoint['model_state_dict'])\n",
    "\n",
    "MVGP_likelihoods = gpytorch.likelihoods.MultitaskGaussianLikelihood(num_tasks=train_y_pca.shape[1]).to(Device)\n",
    "MVGP_likelihoods.load_state_dict(checkpoint['likelihood_state_dict'])\n",
    "\n",
    "MVGP_models.eval()\n",
    "MVGP_likelihoods.eval()\n"
   ]
  },
  {
   "cell_type": "code",
   "execution_count": 7,
   "id": "3fc22f41",
   "metadata": {},
   "outputs": [
    {
     "name": "stderr",
     "output_type": "stream",
     "text": [
      "Training: 100%|██████████| 10000/10000 [26:58<00:00,  6.18it/s, full_loss=-19.9]\n"
     ]
    }
   ],
   "source": [
    "MVGP_models, MVGP_likelihoods = Training.train_MultitaskVGP_minibatch(\n",
    "                train_x=train_x.to(Device),\n",
    "                train_y=train_y_pca_peak.to(Device),\n",
    "                covar_type='RBF',\n",
    "                num_latents=36,\n",
    "                num_inducing=400,\n",
    "                lr_hyper=0.01,\n",
    "                lr_variational=0.1,\n",
    "                num_iterations=10000,\n",
    "                patience=10,\n",
    "                device=Device,\n",
    "                batch_size=512,\n",
    "                eval_every=100,\n",
    "                eval_batch_size=1024\n",
    "            )"
   ]
  },
  {
   "cell_type": "code",
   "execution_count": 8,
   "id": "b342e5f6",
   "metadata": {},
   "outputs": [],
   "source": [
    "checkpoint = {\n",
    "    'model_state_dict': MVGP_models.state_dict(),\n",
    "    'likelihood_state_dict': MVGP_likelihoods.state_dict()\n",
    "}\n",
    "\n",
    "torch.save(checkpoint, 'multitask_gp_checkpoint_Realcase_pca_peak.pth')"
   ]
  },
  {
   "cell_type": "markdown",
   "id": "d7e5a1a3",
   "metadata": {},
   "source": [
    "# PE"
   ]
  },
  {
   "cell_type": "code",
   "execution_count": 11,
   "id": "0dcbe270",
   "metadata": {},
   "outputs": [],
   "source": [
    "row_idx = 0\n",
    "\n",
    "input_point = realcase_y_pca_peak\n",
    "\n",
    "local_train_x, local_train_y = Tools.find_k_nearest_neighbors_GPU(input_point, train_x, train_y_pca_peak, k=100)\n",
    "\n",
    "bounds = bound.get_bounds(local_train_x)"
   ]
  },
  {
   "cell_type": "code",
   "execution_count": 13,
   "id": "0e7d2c05",
   "metadata": {},
   "outputs": [],
   "source": [
    "\n",
    "estimated_params_tmp, Loss_tmp = Estimation.multi_start_estimation(\n",
    "        MVGP_models, MVGP_likelihoods, row_idx, realcase_y_pca_peak, bounds,\n",
    "        Estimation.estimate_params_for_one_model_Adam, num_starts=16, num_iterations=2000, lr=0.01,\n",
    "        patience=15, attraction_threshold=0.1, repulsion_strength=0.1, device=Device\n",
    "    )"
   ]
  },
  {
   "cell_type": "code",
   "execution_count": 14,
   "id": "2bcd4a6b",
   "metadata": {},
   "outputs": [
    {
     "data": {
      "text/plain": [
       "array([3.259112 , 4.9346   , 4.949    , 4.8962   , 4.5199   , 0.1173   ,\n",
       "       4.4035   , 4.9898   , 1.9302682, 0.1127   ], dtype=float32)"
      ]
     },
     "execution_count": 14,
     "metadata": {},
     "output_type": "execute_result"
    }
   ],
   "source": [
    "estimated_params_tmp"
   ]
  },
  {
   "cell_type": "code",
   "execution_count": 15,
   "id": "16a91bd6",
   "metadata": {},
   "outputs": [
    {
     "data": {
      "text/plain": [
       "9.944092750549316"
      ]
     },
     "execution_count": 15,
     "metadata": {},
     "output_type": "execute_result"
    }
   ],
   "source": [
    "Loss_tmp"
   ]
  },
  {
   "cell_type": "code",
   "execution_count": 18,
   "id": "53386486",
   "metadata": {},
   "outputs": [
    {
     "data": {
      "text/plain": [
       "tensor([-0.0063,  1.3786,  2.2996,  4.0408,  1.5729,  2.0838, -0.6114,  0.1411,\n",
       "         0.6820, -0.1512,  0.2804,  0.0749], device='cuda:0',\n",
       "       grad_fn=<ViewBackward0>)"
      ]
     },
     "execution_count": 18,
     "metadata": {},
     "output_type": "execute_result"
    }
   ],
   "source": [
    "Prediction.preds_for_one_model(MVGP_models, MVGP_likelihoods, torch.tensor(estimated_params_tmp).cuda().unsqueeze(0))"
   ]
  },
  {
   "cell_type": "code",
   "execution_count": 19,
   "id": "3396396f",
   "metadata": {},
   "outputs": [
    {
     "data": {
      "text/plain": [
       "tensor([  3.5505, -16.6149,  -4.1116,  -0.1477,   3.0083,  -4.4681,  -0.6690,\n",
       "         -0.7311,  -0.7836,   0.3199,   0.5549,  -0.2954])"
      ]
     },
     "execution_count": 19,
     "metadata": {},
     "output_type": "execute_result"
    }
   ],
   "source": [
    "input_point"
   ]
  },
  {
   "cell_type": "code",
   "execution_count": 22,
   "id": "62cc408c",
   "metadata": {},
   "outputs": [],
   "source": [
    "row_idx = 0\n",
    "\n",
    "input_point = test_y_pca_peak[row_idx,:]\n",
    "\n",
    "local_train_x, local_train_y = Tools.find_k_nearest_neighbors_GPU(input_point, train_x, train_y_pca_peak, k=100)\n",
    "\n",
    "bounds = bound.get_bounds(local_train_x)\n"
   ]
  },
  {
   "cell_type": "code",
   "execution_count": 23,
   "id": "cc313c3c",
   "metadata": {},
   "outputs": [],
   "source": [
    "\n",
    "estimated_params_tmp, Loss_tmp = Estimation.multi_start_estimation(\n",
    "        MVGP_models, MVGP_likelihoods, row_idx, test_y_pca_peak, bounds,\n",
    "        Estimation.estimate_params_for_one_model_Adam, num_starts=16, num_iterations=2000, lr=0.01,\n",
    "        patience=15, attraction_threshold=0.1, repulsion_strength=0.1, device=Device\n",
    "    )"
   ]
  },
  {
   "cell_type": "code",
   "execution_count": 24,
   "id": "03176ef6",
   "metadata": {},
   "outputs": [
    {
     "data": {
      "text/plain": [
       "array([4.1117377 , 4.018862  , 1.3818005 , 4.8903985 , 2.8841236 ,\n",
       "       0.56604326, 3.0112777 , 3.5116904 , 4.7275767 , 1.8389444 ],\n",
       "      dtype=float32)"
      ]
     },
     "execution_count": 24,
     "metadata": {},
     "output_type": "execute_result"
    }
   ],
   "source": [
    "estimated_params_tmp"
   ]
  },
  {
   "cell_type": "code",
   "execution_count": 25,
   "id": "37205db6",
   "metadata": {},
   "outputs": [
    {
     "data": {
      "text/plain": [
       "0.02026066929101944"
      ]
     },
     "execution_count": 25,
     "metadata": {},
     "output_type": "execute_result"
    }
   ],
   "source": [
    "Loss_tmp"
   ]
  },
  {
   "cell_type": "code",
   "execution_count": 26,
   "id": "d00e0278",
   "metadata": {},
   "outputs": [
    {
     "data": {
      "text/plain": [
       "tensor([3.6700, 4.8642, 1.4330, 4.7406, 2.8699, 0.6171, 3.0394, 3.4495, 4.7810,\n",
       "        1.8129])"
      ]
     },
     "execution_count": 26,
     "metadata": {},
     "output_type": "execute_result"
    }
   ],
   "source": [
    "test_x[row_idx,:]"
   ]
  },
  {
   "cell_type": "code",
   "execution_count": null,
   "id": "02c5e5bc",
   "metadata": {},
   "outputs": [],
   "source": [
    "mcmc_result_Uniform = Estimation.run_mcmc_Uniform(\n",
    "        Prediction.preds_distribution, MVGP_models, MVGP_likelihoods, \n",
    "        row_idx, test_y, bounds, \n",
    "        num_sampling=1200, warmup_step=300, num_chains=1, device=Device\n",
    "    )"
   ]
  },
  {
   "cell_type": "markdown",
   "id": "ded26516",
   "metadata": {},
   "source": [
    "# Check result"
   ]
  },
  {
   "cell_type": "code",
   "execution_count": null,
   "id": "faca011e",
   "metadata": {},
   "outputs": [],
   "source": [
    "MVGP_pca_result = pd.read_csv('RealCase/Result/MVGP_pca_result.csv')\n",
    "MVGP_pca_result['estimated_params_list'] = MVGP_pca_result['estimated_params'].apply(ast.literal_eval)\n",
    "\n",
    "MVGP_pca_result = np.array(MVGP_pca_result['estimated_params_list'].tolist())"
   ]
  },
  {
   "cell_type": "code",
   "execution_count": null,
   "id": "b3f2b845",
   "metadata": {},
   "outputs": [],
   "source": [
    "realcase_paras_pca = torch.tensor(MVGP_pca_result, dtype=torch.float32)"
   ]
  },
  {
   "cell_type": "code",
   "execution_count": null,
   "id": "928c59d1",
   "metadata": {},
   "outputs": [],
   "source": [
    "preds_tmp = Prediction.preds_for_one_model(\n",
    "        MVGP_models, MVGP_likelihoods, realcase_paras_pca.to(Device)\n",
    "        ).cpu().detach().numpy()"
   ]
  },
  {
   "cell_type": "markdown",
   "id": "225683c3",
   "metadata": {},
   "source": [
    "# End"
   ]
  }
 ],
 "metadata": {
  "kernelspec": {
   "display_name": "FGPyT",
   "language": "python",
   "name": "python3"
  },
  "language_info": {
   "codemirror_mode": {
    "name": "ipython",
    "version": 3
   },
   "file_extension": ".py",
   "mimetype": "text/x-python",
   "name": "python",
   "nbconvert_exporter": "python",
   "pygments_lexer": "ipython3",
   "version": "3.10.15"
  }
 },
 "nbformat": 4,
 "nbformat_minor": 5
}
