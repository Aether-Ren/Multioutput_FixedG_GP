{
 "cells": [
  {
   "cell_type": "markdown",
   "id": "28ab895d",
   "metadata": {},
   "source": [
    "# Set up"
   ]
  },
  {
   "cell_type": "code",
   "execution_count": null,
   "id": "70f20e3e",
   "metadata": {},
   "outputs": [],
   "source": [
    "import pandas as pd\n",
    "import numpy as np\n",
    "import tqdm as tqdm\n",
    "\n",
    "from sklearn.preprocessing import StandardScaler\n",
    "\n",
    "from sklearn.decomposition import PCA\n",
    "import matplotlib.pyplot as plt"
   ]
  },
  {
   "cell_type": "code",
   "execution_count": null,
   "id": "728d46bf",
   "metadata": {},
   "outputs": [],
   "source": [
    "pca = PCA()\n",
    "\n",
    "pca.fit(Y_data_train_standardized)\n",
    "\n",
    "cumulative_variance = np.cumsum(pca.explained_variance_ratio_)\n",
    "\n",
    "plt.figure(figsize=(8, 5))\n",
    "plt.plot(range(1, len(cumulative_variance) + 1), cumulative_variance, marker='o', linestyle='--')\n",
    "\n",
    "plt.grid()\n",
    "plt.show()"
   ]
  },
  {
   "cell_type": "code",
   "execution_count": null,
   "id": "157ca255",
   "metadata": {},
   "outputs": [],
   "source": [
    "def split_and_apply_pca(train_data, test_data, variance_threshold=0.999):\n",
    "\n",
    "    # 拆分第一列\n",
    "    train_first_col = train_data[:, 0].reshape(-1, 1)\n",
    "    test_first_col = test_data[:, 0].reshape(-1, 1)\n",
    "    \n",
    "    train_remaining = train_data[:, 1:]\n",
    "    test_remaining = test_data[:, 1:]\n",
    "    \n",
    "    # 初始化 PCA 并拟合剩余的列\n",
    "    pca = PCA()\n",
    "    pca.fit(train_remaining)\n",
    "    \n",
    "    # 计算累计方差\n",
    "    cumulative_variance = np.cumsum(pca.explained_variance_ratio_)\n",
    "    \n",
    "    # 确定主成分个数\n",
    "    n_components = np.argmax(cumulative_variance >= variance_threshold) + 1\n",
    "    \n",
    "    # 根据主成分数重新拟合 PCA\n",
    "    pca = PCA(n_components=n_components)\n",
    "    train_reduced = pca.fit_transform(train_remaining)\n",
    "    test_reduced = pca.transform(test_remaining)\n",
    "    \n",
    "    # 合并第一列与降维后的数据\n",
    "    train_final = np.hstack((train_first_col, train_reduced))\n",
    "    test_final = np.hstack((test_first_col, test_reduced))\n",
    "    \n",
    "    return train_final, test_final, n_components"
   ]
  }
 ],
 "metadata": {
  "language_info": {
   "name": "python"
  }
 },
 "nbformat": 4,
 "nbformat_minor": 5
}
