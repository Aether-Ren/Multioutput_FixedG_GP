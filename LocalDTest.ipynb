{
 "cells": [
  {
   "cell_type": "markdown",
   "id": "4162e7ae",
   "metadata": {},
   "source": [
    "# Set up"
   ]
  },
  {
   "cell_type": "code",
   "execution_count": 1,
   "id": "e1b1fdb7",
   "metadata": {},
   "outputs": [],
   "source": [
    "import torch\n",
    "import gpytorch\n",
    "import pandas as pd\n",
    "import numpy as np\n",
    "import tqdm as tqdm\n",
    "\n",
    "\n",
    "import os\n",
    "import pickle\n",
    "\n",
    "import GP_functions.Loss_function as Loss_function\n",
    "import GP_functions.bound as bound\n",
    "import GP_functions.Estimation as Estimation\n",
    "import GP_functions.Training as Training\n",
    "import GP_functions.Prediction as Prediction\n",
    "import GP_functions.GP_models as GP_models\n",
    "import GP_functions.Tools as Tools\n",
    "import GP_functions.FeatureE as FeatureE"
   ]
  },
  {
   "cell_type": "markdown",
   "id": "721172ec",
   "metadata": {},
   "source": [
    "# data"
   ]
  },
  {
   "cell_type": "code",
   "execution_count": 2,
   "id": "42961a26",
   "metadata": {},
   "outputs": [],
   "source": [
    "X_train = pd.read_csv('Data/X_train.csv', header=None, delimiter=',').values\n",
    "X_test = pd.read_csv('LocalDisease/X_1_1.csv', header=None, delimiter=',').values\n",
    "\n",
    "Y_train_21 = pd.read_csv('Data/Y_train_std_21.csv', header=None, delimiter=',').values\n",
    "Y_test_21 = pd.read_csv('LocalDisease/Y_data_X_1_1_pca.csv', header=None, delimiter=',').values\n",
    "\n",
    "\n",
    "train_x = torch.tensor(X_train, dtype=torch.float32)\n",
    "test_x = torch.tensor(X_test, dtype=torch.float32)\n",
    "\n",
    "train_y_21 = torch.tensor(Y_train_21, dtype=torch.float32)\n",
    "test_y_21 = torch.tensor(Y_test_21, dtype=torch.float32)\n",
    "\n",
    "\n",
    "\n",
    "torch.set_default_dtype(torch.float32)"
   ]
  },
  {
   "cell_type": "markdown",
   "id": "abca0441",
   "metadata": {},
   "source": [
    "# Emulator"
   ]
  },
  {
   "cell_type": "code",
   "execution_count": 3,
   "id": "15c6a7be",
   "metadata": {},
   "outputs": [],
   "source": [
    "Device = 'cpu'"
   ]
  },
  {
   "cell_type": "code",
   "execution_count": 4,
   "id": "5633e896",
   "metadata": {},
   "outputs": [
    {
     "name": "stderr",
     "output_type": "stream",
     "text": [
      "C:\\Users\\r4718\\AppData\\Local\\Temp\\ipykernel_27356\\3521656856.py:1: FutureWarning: You are using `torch.load` with `weights_only=False` (the current default value), which uses the default pickle module implicitly. It is possible to construct malicious pickle data which will execute arbitrary code during unpickling (See https://github.com/pytorch/pytorch/blob/main/SECURITY.md#untrusted-models for more details). In a future release, the default value for `weights_only` will be flipped to `True`. This limits the functions that could be executed during unpickling. Arbitrary objects will no longer be allowed to be loaded via this mode unless they are explicitly allowlisted by the user via `torch.serialization.add_safe_globals`. We recommend you start setting `weights_only=True` for any use case where you don't have full control of the loaded file. Please open an issue on GitHub for any issues related to this experimental feature.\n",
      "  checkpoint = torch.load('multitask_gp_checkpoint_21.pth', map_location=Device)\n"
     ]
    },
    {
     "data": {
      "text/plain": [
       "MultitaskGaussianLikelihood(\n",
       "  (raw_task_noises_constraint): GreaterThan(1.000E-04)\n",
       "  (raw_noise_constraint): GreaterThan(1.000E-04)\n",
       ")"
      ]
     },
     "execution_count": 4,
     "metadata": {},
     "output_type": "execute_result"
    }
   ],
   "source": [
    "checkpoint = torch.load('multitask_gp_checkpoint_21.pth', map_location=Device)\n",
    "model_params = checkpoint['model_params']\n",
    "\n",
    "MVGP_models = GP_models.MultitaskVariationalGP(train_x, train_y_21, \n",
    "                                               num_latents=model_params['num_latents'], \n",
    "                                               num_inducing=model_params['num_inducing'], \n",
    "                                               covar_type=model_params['covar_type']).to(Device)\n",
    "\n",
    "MVGP_models.load_state_dict(checkpoint['model_state_dict'])\n",
    "\n",
    "MVGP_likelihoods = gpytorch.likelihoods.MultitaskGaussianLikelihood(num_tasks=train_y_21.shape[1]).to(Device)\n",
    "MVGP_likelihoods.load_state_dict(checkpoint['likelihood_state_dict'])\n",
    "\n",
    "MVGP_models.eval()\n",
    "MVGP_likelihoods.eval()\n"
   ]
  },
  {
   "cell_type": "markdown",
   "id": "8cfcc306",
   "metadata": {},
   "source": [
    "# PE"
   ]
  },
  {
   "cell_type": "code",
   "execution_count": 15,
   "id": "5512ceda",
   "metadata": {},
   "outputs": [],
   "source": [
    "row_idx = 0\n",
    "\n",
    "input_point = test_y_21[row_idx, :]\n",
    "\n",
    "local_train_x, local_train_y = Tools.find_k_nearest_neighbors_CPU(input_point, train_x, train_y_21, k=5)"
   ]
  },
  {
   "cell_type": "code",
   "execution_count": null,
   "id": "1e7733e8",
   "metadata": {},
   "outputs": [],
   "source": [
    "local_train_y"
   ]
  },
  {
   "cell_type": "code",
   "execution_count": 16,
   "id": "e25eab5f",
   "metadata": {},
   "outputs": [
    {
     "data": {
      "text/plain": [
       "tensor([[4.6552, 3.5896, 3.9173, 4.7579, 4.3711, 2.4636, 4.5686, 2.2586, 4.6105,\n",
       "         4.0197],\n",
       "        [3.7693, 4.0131, 4.8567, 4.8264, 4.4863, 3.9119, 4.7349, 3.7537, 3.2805,\n",
       "         3.3339],\n",
       "        [3.8011, 2.0099, 4.3266, 4.3820, 4.8882, 3.7963, 3.2047, 3.3966, 4.8571,\n",
       "         4.6984],\n",
       "        [3.6606, 3.2776, 3.7162, 2.7483, 2.8697, 4.6949, 4.8650, 4.9870, 4.0671,\n",
       "         4.4954],\n",
       "        [3.5507, 2.8556, 4.4150, 2.1824, 4.3511, 3.2741, 4.1643, 4.8750, 3.6670,\n",
       "         3.7184]])"
      ]
     },
     "execution_count": 16,
     "metadata": {},
     "output_type": "execute_result"
    }
   ],
   "source": [
    "local_train_x"
   ]
  },
  {
   "cell_type": "code",
   "execution_count": 6,
   "id": "511ef794",
   "metadata": {},
   "outputs": [],
   "source": [
    "preds_tmp = Prediction.preds_for_one_model(\n",
    "    MVGP_models, MVGP_likelihoods, test_x[row_idx,:].unsqueeze(0).to(Device)\n",
    "    ).cpu().detach().numpy()"
   ]
  },
  {
   "cell_type": "code",
   "execution_count": 9,
   "id": "67ef721b",
   "metadata": {},
   "outputs": [],
   "source": [
    "preds_tmp = Prediction.preds_for_one_model(\n",
    "    MVGP_models, MVGP_likelihoods, test_x.to(Device)\n",
    "    ).cpu().detach().numpy()"
   ]
  },
  {
   "cell_type": "code",
   "execution_count": 13,
   "id": "7ef35d91",
   "metadata": {},
   "outputs": [
    {
     "ename": "ValueError",
     "evalue": "Type must be a sub-type of ndarray type",
     "output_type": "error",
     "traceback": [
      "\u001b[1;31m---------------------------------------------------------------------------\u001b[0m",
      "\u001b[1;31mValueError\u001b[0m                                Traceback (most recent call last)",
      "Cell \u001b[1;32mIn[13], line 1\u001b[0m\n\u001b[1;32m----> 1\u001b[0m \u001b[43mpreds_tmp\u001b[49m\u001b[38;5;241;43m.\u001b[39;49m\u001b[43mview\u001b[49m\u001b[43m(\u001b[49m\u001b[38;5;241;43m100\u001b[39;49m\u001b[43m,\u001b[49m\u001b[38;5;241;43m21\u001b[39;49m\u001b[43m)\u001b[49m\n",
      "\u001b[1;31mValueError\u001b[0m: Type must be a sub-type of ndarray type"
     ]
    }
   ],
   "source": [
    "preds_tmp.view(100,21)"
   ]
  },
  {
   "cell_type": "code",
   "execution_count": 12,
   "id": "b291a5fa",
   "metadata": {},
   "outputs": [
    {
     "data": {
      "text/plain": [
       "tensor([[ 5.6642, 19.1396,  9.0095,  ...,  0.7106,  0.4195, -0.0979],\n",
       "        [ 5.8902, 19.0561,  9.0718,  ...,  0.8444,  0.7396,  0.1433],\n",
       "        [ 4.9911, 18.2672,  7.9840,  ...,  0.7221,  0.3132, -0.1671],\n",
       "        ...,\n",
       "        [ 5.2907, 17.5719,  9.9906,  ...,  0.8849,  0.3002, -0.1279],\n",
       "        [ 6.1665, 20.3814,  8.2374,  ...,  0.4276,  0.7033,  0.0570],\n",
       "        [ 5.0762, 16.5272, 10.5249,  ...,  0.8910,  0.3158, -0.1071]])"
      ]
     },
     "execution_count": 12,
     "metadata": {},
     "output_type": "execute_result"
    }
   ],
   "source": [
    "test_y_21"
   ]
  },
  {
   "cell_type": "code",
   "execution_count": 8,
   "id": "589edd02",
   "metadata": {},
   "outputs": [
    {
     "data": {
      "text/plain": [
       "tensor([ 5.6642, 19.1396,  9.0095,  2.4783,  0.8886,  2.9374, -0.4040,  0.4124,\n",
       "         1.4459,  0.6705,  1.2274, -2.2649, -0.0786, -1.8597, -0.7425, -0.6046,\n",
       "        -1.1419,  2.1348,  0.7106,  0.4195, -0.0979])"
      ]
     },
     "execution_count": 8,
     "metadata": {},
     "output_type": "execute_result"
    }
   ],
   "source": [
    "input_point"
   ]
  },
  {
   "cell_type": "code",
   "execution_count": null,
   "id": "a2beb22d",
   "metadata": {},
   "outputs": [],
   "source": [
    "\n",
    "\n",
    "bounds = bound.get_bounds(local_train_x)\n",
    "\n",
    "estimated_params_tmp, _ = Estimation.multi_start_estimation(\n",
    "    MVGP_models, MVGP_likelihoods, row_idx, test_y_21, bounds,\n",
    "    Estimation.estimate_params_for_one_model_Adam, num_starts=8, num_iterations=2000, lr=0.01,\n",
    "    patience=10, attraction_threshold=0.1, repulsion_strength=0.1, device=Device\n",
    ")"
   ]
  }
 ],
 "metadata": {
  "kernelspec": {
   "display_name": "FGPyT",
   "language": "python",
   "name": "python3"
  },
  "language_info": {
   "codemirror_mode": {
    "name": "ipython",
    "version": 3
   },
   "file_extension": ".py",
   "mimetype": "text/x-python",
   "name": "python",
   "nbconvert_exporter": "python",
   "pygments_lexer": "ipython3",
   "version": "3.10.15"
  }
 },
 "nbformat": 4,
 "nbformat_minor": 5
}
