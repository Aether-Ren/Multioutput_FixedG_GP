{
 "cells": [
  {
   "cell_type": "markdown",
   "metadata": {},
   "source": [
    "# Set up"
   ]
  },
  {
   "cell_type": "code",
   "execution_count": 1,
   "metadata": {},
   "outputs": [],
   "source": [
    "import torch\n",
    "import gpytorch\n",
    "import pandas as pd\n",
    "import numpy as np\n",
    "import tqdm as tqdm\n",
    "from linear_operator import settings\n",
    "\n",
    "import pyro\n",
    "import math\n",
    "import pickle\n",
    "import time\n",
    "from joblib import Parallel, delayed\n",
    "\n",
    "from sklearn.preprocessing import StandardScaler\n",
    "\n",
    "from sklearn.decomposition import PCA\n",
    "import matplotlib.pyplot as plt\n",
    "\n",
    "import pyro.distributions as dist\n",
    "from pyro.infer import MCMC, NUTS\n",
    "import arviz as az\n",
    "import seaborn as sns\n",
    "\n",
    "import os"
   ]
  },
  {
   "cell_type": "code",
   "execution_count": 2,
   "metadata": {},
   "outputs": [],
   "source": [
    "import GP_functions.Loss_function as Loss_function\n",
    "import GP_functions.bound as bound\n",
    "import GP_functions.Estimation as Estimation\n",
    "import GP_functions.Training as Training\n",
    "import GP_functions.Prediction as Prediction\n",
    "import GP_functions.GP_models as GP_models\n",
    "import GP_functions.Tools as Tools\n",
    "import GP_functions.FeatureE as FeatureE"
   ]
  },
  {
   "cell_type": "markdown",
   "metadata": {},
   "source": [
    "# Data"
   ]
  },
  {
   "cell_type": "code",
   "execution_count": 3,
   "metadata": {},
   "outputs": [],
   "source": [
    "X_train = pd.read_csv('Data/X_train.csv', header=None, delimiter=',').values\n",
    "X_test = pd.read_csv('Data/X_test.csv', header=None, delimiter=',').values\n",
    "\n",
    "# Y_train_8 = pd.read_csv('Data/Y_train_8.csv', header=None, delimiter=',').values\n",
    "# Y_test_8 = pd.read_csv('Data/Y_test_8.csv', header=None, delimiter=',').values\n",
    "\n",
    "Y_train_21 = pd.read_csv('Data/Y_train_std_21.csv', header=None, delimiter=',').values\n",
    "Y_test_21 = pd.read_csv('Data/Y_test_std_21.csv', header=None, delimiter=',').values\n",
    "\n",
    "Y_train_std = pd.read_csv('Data/Y_train_std.csv', header=None, delimiter=',').values\n",
    "Y_test_std = pd.read_csv('Data/Y_test_std.csv', header=None, delimiter=',').values"
   ]
  },
  {
   "cell_type": "code",
   "execution_count": 4,
   "metadata": {},
   "outputs": [],
   "source": [
    "train_x = torch.tensor(X_train, dtype=torch.float32)\n",
    "test_x = torch.tensor(X_test, dtype=torch.float32)\n",
    "\n",
    "# train_y_8 = torch.tensor(Y_train_8, dtype=torch.float32)\n",
    "# test_y_8 = torch.tensor(Y_test_8, dtype=torch.float32)\n",
    "\n",
    "train_y_21 = torch.tensor(Y_train_21, dtype=torch.float32)\n",
    "test_y_21 = torch.tensor(Y_test_21, dtype=torch.float32)\n",
    "\n",
    "train_y = torch.tensor(Y_train_std, dtype=torch.float32)\n",
    "test_y = torch.tensor(Y_test_std, dtype=torch.float32)"
   ]
  },
  {
   "cell_type": "markdown",
   "metadata": {},
   "source": [
    "# Test"
   ]
  },
  {
   "cell_type": "code",
   "execution_count": 5,
   "metadata": {},
   "outputs": [
    {
     "name": "stdout",
     "output_type": "stream",
     "text": [
      "K_num = 100, MSE = 0.01571124792098999\n",
      "K_num = 200, MSE = 0.010457956232130527\n",
      "K_num = 300, MSE = 0.008705837652087212\n",
      "K_num = 400, MSE = 0.01291919220238924\n",
      "K_num = 500, MSE = 0.010832877829670906\n",
      "K_num300, MSE0.008705837652087212\n"
     ]
    }
   ],
   "source": [
    "def train_and_predict_MGP(row_idx, train_x, train_y, test_x, test_y, K_num = 100, Device = 'cpu', PCA_trans = 'None'):\n",
    "\n",
    "\n",
    "    input_point = test_y[row_idx,:]\n",
    "    local_train_x, local_train_y = Tools.find_k_nearest_neighbors_CPU(input_point, train_x, train_y, k = K_num)\n",
    "\n",
    "    MultitaskGP_models, MultitaskGP_likelihoods = Training.train_one_row_MultitaskGP(local_train_x, local_train_y, n_tasks = train_y.shape[1], covar_type = 'RQ', \n",
    "                                                                                     lr=0.05, num_iterations=10000, patience=10, device=Device)\n",
    "\n",
    "    preds = Prediction.preds_for_one_model(MultitaskGP_models, MultitaskGP_likelihoods, test_x[row_idx,:].unsqueeze(0).to(Device)).detach().numpy()\n",
    "    if PCA_trans != 'None':\n",
    "        preds = PCA_trans.inverse_transform(preds)\n",
    "\n",
    "    return preds\n",
    "\n",
    "\n",
    "\n",
    "def evaluate_K(K_num, train_x, train_y, test_x, test_y, Device='cpu', PCA_trans='None'):\n",
    "    results = Parallel(n_jobs=-1)(\n",
    "        delayed(train_and_predict_MGP)(row_idx, train_x, train_y, test_x, test_y, K_num=K_num, Device=Device, PCA_trans=PCA_trans)\n",
    "        for row_idx in range(test_y.shape[0])\n",
    "    )\n",
    "    full_test_preds_MGP = np.vstack(results)\n",
    "    mse = np.mean((full_test_preds_MGP - test_y.numpy()) ** 2)\n",
    "    return mse\n",
    "\n",
    "K_values = [100, 200, 300, 400, 500]\n",
    "results_dict = {}\n",
    "\n",
    "for K in K_values:\n",
    "    mse = evaluate_K(K, train_x, train_y, test_x, test_y)\n",
    "    results_dict[K] = mse\n",
    "    print(f\"K_num = {K}, MSE = {mse}\")\n",
    "\n",
    "best_K = min(results_dict, key=results_dict.get)\n",
    "print(f\"K_num{best_K}, MSE{results_dict[best_K]}\")"
   ]
  },
  {
   "cell_type": "code",
   "execution_count": 6,
   "metadata": {},
   "outputs": [
    {
     "name": "stdout",
     "output_type": "stream",
     "text": [
      "K_num = 100, MSE = 0.02032635360956192\n",
      "K_num = 200, MSE = 0.01132742129266262\n",
      "K_num = 300, MSE = 0.011220529675483704\n",
      "K_num = 400, MSE = 0.009855375625193119\n",
      "K_num = 500, MSE = 0.008591480553150177\n",
      "K_num500, MSE0.008591480553150177\n"
     ]
    }
   ],
   "source": [
    "K_values = [100, 200, 300, 400, 500]\n",
    "results_dict = {}\n",
    "\n",
    "for K in K_values:\n",
    "    mse = evaluate_K(K, train_x, train_y_21, test_x, test_y_21)\n",
    "    results_dict[K] = mse\n",
    "    print(f\"K_num = {K}, MSE = {mse}\")\n",
    "\n",
    "best_K = min(results_dict, key=results_dict.get)\n",
    "print(f\"K_num{best_K}, MSE{results_dict[best_K]}\")"
   ]
  },
  {
   "cell_type": "code",
   "execution_count": 7,
   "metadata": {},
   "outputs": [
    {
     "name": "stdout",
     "output_type": "stream",
     "text": [
      "K_num = 100, MSE = 0.012393452227115631\n",
      "K_num = 200, MSE = 0.012121852487325668\n",
      "K_num = 300, MSE = 0.01219131238758564\n",
      "K_num = 400, MSE = 0.016201220452785492\n",
      "K_num = 500, MSE = 0.016079779714345932\n",
      "K_num200, MSE0.012121852487325668\n"
     ]
    }
   ],
   "source": [
    "def train_and_predict_MGP(row_idx, train_x, train_y, test_x, test_y, K_num = 100, Device = 'cpu', PCA_trans = 'None'):\n",
    "\n",
    "\n",
    "    input_point = test_y[row_idx,:]\n",
    "    local_train_x, local_train_y = Tools.find_k_nearest_neighbors_CPU(input_point, train_x, train_y, k = K_num)\n",
    "\n",
    "    MultitaskGP_models, MultitaskGP_likelihoods = Training.train_one_row_MultitaskGP(local_train_x, local_train_y, n_tasks = train_y.shape[1], covar_type = 'RBF', \n",
    "                                                                                     lr=0.05, num_iterations=10000, patience=10, device=Device)\n",
    "\n",
    "    preds = Prediction.preds_for_one_model(MultitaskGP_models, MultitaskGP_likelihoods, test_x[row_idx,:].unsqueeze(0).to(Device)).detach().numpy()\n",
    "    if PCA_trans != 'None':\n",
    "        preds = PCA_trans.inverse_transform(preds)\n",
    "\n",
    "    return preds\n",
    "\n",
    "\n",
    "\n",
    "def evaluate_K(K_num, train_x, train_y, test_x, test_y, Device='cpu', PCA_trans='None'):\n",
    "    results = Parallel(n_jobs=-1)(\n",
    "        delayed(train_and_predict_MGP)(row_idx, train_x, train_y, test_x, test_y, K_num=K_num, Device=Device, PCA_trans=PCA_trans)\n",
    "        for row_idx in range(test_y.shape[0])\n",
    "    )\n",
    "    full_test_preds_MGP = np.vstack(results)\n",
    "    mse = np.mean((full_test_preds_MGP - test_y.numpy()) ** 2)\n",
    "    return mse\n",
    "\n",
    "K_values = [100, 200, 300, 400, 500]\n",
    "results_dict = {}\n",
    "\n",
    "for K in K_values:\n",
    "    mse = evaluate_K(K, train_x, train_y, test_x, test_y)\n",
    "    results_dict[K] = mse\n",
    "    print(f\"K_num = {K}, MSE = {mse}\")\n",
    "\n",
    "best_K = min(results_dict, key=results_dict.get)\n",
    "print(f\"K_num{best_K}, MSE{results_dict[best_K]}\")"
   ]
  },
  {
   "cell_type": "code",
   "execution_count": 8,
   "metadata": {},
   "outputs": [
    {
     "name": "stdout",
     "output_type": "stream",
     "text": [
      "K_num = 100, MSE = 0.020978393033146858\n",
      "K_num = 200, MSE = 0.012317252345383167\n",
      "K_num = 300, MSE = 0.012270505540072918\n",
      "K_num = 400, MSE = 0.010428703390061855\n",
      "K_num = 500, MSE = 0.009725311771035194\n",
      "K_num500, MSE0.009725311771035194\n"
     ]
    }
   ],
   "source": [
    "K_values = [100, 200, 300, 400, 500]\n",
    "results_dict = {}\n",
    "\n",
    "for K in K_values:\n",
    "    mse = evaluate_K(K, train_x, train_y_21, test_x, test_y_21)\n",
    "    results_dict[K] = mse\n",
    "    print(f\"K_num = {K}, MSE = {mse}\")\n",
    "\n",
    "best_K = min(results_dict, key=results_dict.get)\n",
    "print(f\"K_num{best_K}, MSE{results_dict[best_K]}\")"
   ]
  },
  {
   "cell_type": "code",
   "execution_count": null,
   "metadata": {},
   "outputs": [
    {
     "name": "stdout",
     "output_type": "stream",
     "text": [
      "K_num = 500, MSE = 0.009708204306662083\n",
      "K_num = 600, MSE = 0.008750076405704021\n"
     ]
    }
   ],
   "source": [
    "K_values = [500, 600, 700]\n",
    "results_dict = {}\n",
    "\n",
    "for K in K_values:\n",
    "    mse = evaluate_K(K, train_x, train_y_21, test_x, test_y_21)\n",
    "    results_dict[K] = mse\n",
    "    print(f\"K_num = {K}, MSE = {mse}\")\n",
    " \n",
    "best_K = min(results_dict, key=results_dict.get)\n",
    "print(f\"K_num{best_K}, MSE{results_dict[best_K]}\")"
   ]
  }
 ],
 "metadata": {
  "kernelspec": {
   "display_name": "GT",
   "language": "python",
   "name": "python3"
  },
  "language_info": {
   "codemirror_mode": {
    "name": "ipython",
    "version": 3
   },
   "file_extension": ".py",
   "mimetype": "text/x-python",
   "name": "python",
   "nbconvert_exporter": "python",
   "pygments_lexer": "ipython3",
   "version": "3.10.15"
  }
 },
 "nbformat": 4,
 "nbformat_minor": 2
}
